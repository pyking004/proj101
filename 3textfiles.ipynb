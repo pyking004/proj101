{
 "cells": [
  {
   "cell_type": "code",
   "execution_count": null,
   "id": "cd14752f",
   "metadata": {},
   "outputs": [],
   "source": [
    "#reading files data"
   ]
  },
  {
   "cell_type": "raw",
   "id": "02000e8d",
   "metadata": {},
   "source": [
    "#Mode\n",
    "read        =>  r , r+, rb, rb+\n",
    "write       =>  w , w+, wb, wb+\n",
    "append      =>  a , a+, ab, ab+"
   ]
  },
  {
   "cell_type": "raw",
   "id": "c2166e93",
   "metadata": {},
   "source": [
    "#modes\n",
    "read , write , append\n",
    "read   = > read only  r, r+(read and write), rb, rb+(read and write binary)\n",
    "write  = > write only w, w+(write and read), wb, wb+(write and read binary)\n",
    "append = > append(adding text to an existing file) a, a+(append,read), ab, ab+ "
   ]
  },
  {
   "cell_type": "code",
   "execution_count": null,
   "id": "a2e98e71",
   "metadata": {},
   "outputs": [],
   "source": [
    "#open is function to read file \n",
    "#open(path,mode)"
   ]
  },
  {
   "cell_type": "code",
   "execution_count": 2,
   "id": "aca1160f",
   "metadata": {},
   "outputs": [
    {
     "data": {
      "text/plain": [
       "function"
      ]
     },
     "execution_count": 2,
     "metadata": {},
     "output_type": "execute_result"
    }
   ],
   "source": [
    "type(open)"
   ]
  },
  {
   "cell_type": "code",
   "execution_count": null,
   "id": "7fdcff17",
   "metadata": {},
   "outputs": [],
   "source": []
  },
  {
   "cell_type": "code",
   "execution_count": 5,
   "id": "77c68877",
   "metadata": {
    "scrolled": true
   },
   "outputs": [
    {
     "ename": "OSError",
     "evalue": "[Errno 22] Invalid argument: 'D:\\\\pfiles\\x0cile1.txt'",
     "output_type": "error",
     "traceback": [
      "\u001b[1;31m---------------------------------------------------------------------------\u001b[0m",
      "\u001b[1;31mOSError\u001b[0m                                   Traceback (most recent call last)",
      "Cell \u001b[1;32mIn[5], line 1\u001b[0m\n\u001b[1;32m----> 1\u001b[0m fobj1 \u001b[38;5;241m=\u001b[39m \u001b[38;5;28;43mopen\u001b[39;49m\u001b[43m(\u001b[49m\u001b[38;5;124;43m'\u001b[39;49m\u001b[38;5;124;43mD:\u001b[39;49m\u001b[38;5;124;43m\\\u001b[39;49m\u001b[38;5;124;43mpfiles\u001b[39;49m\u001b[38;5;130;43;01m\\f\u001b[39;49;00m\u001b[38;5;124;43mile1.txt\u001b[39;49m\u001b[38;5;124;43m'\u001b[39;49m\u001b[43m,\u001b[49m\u001b[38;5;124;43m\"\u001b[39;49m\u001b[38;5;124;43mr\u001b[39;49m\u001b[38;5;124;43m\"\u001b[39;49m\u001b[43m)\u001b[49m\n",
      "File \u001b[1;32m~\\anaconda3\\lib\\site-packages\\IPython\\core\\interactiveshell.py:286\u001b[0m, in \u001b[0;36m_modified_open\u001b[1;34m(file, *args, **kwargs)\u001b[0m\n\u001b[0;32m    279\u001b[0m \u001b[38;5;28;01mif\u001b[39;00m file \u001b[38;5;129;01min\u001b[39;00m {\u001b[38;5;241m0\u001b[39m, \u001b[38;5;241m1\u001b[39m, \u001b[38;5;241m2\u001b[39m}:\n\u001b[0;32m    280\u001b[0m     \u001b[38;5;28;01mraise\u001b[39;00m \u001b[38;5;167;01mValueError\u001b[39;00m(\n\u001b[0;32m    281\u001b[0m         \u001b[38;5;124mf\u001b[39m\u001b[38;5;124m\"\u001b[39m\u001b[38;5;124mIPython won\u001b[39m\u001b[38;5;124m'\u001b[39m\u001b[38;5;124mt let you open fd=\u001b[39m\u001b[38;5;132;01m{\u001b[39;00mfile\u001b[38;5;132;01m}\u001b[39;00m\u001b[38;5;124m by default \u001b[39m\u001b[38;5;124m\"\u001b[39m\n\u001b[0;32m    282\u001b[0m         \u001b[38;5;124m\"\u001b[39m\u001b[38;5;124mas it is likely to crash IPython. If you know what you are doing, \u001b[39m\u001b[38;5;124m\"\u001b[39m\n\u001b[0;32m    283\u001b[0m         \u001b[38;5;124m\"\u001b[39m\u001b[38;5;124myou can use builtins\u001b[39m\u001b[38;5;124m'\u001b[39m\u001b[38;5;124m open.\u001b[39m\u001b[38;5;124m\"\u001b[39m\n\u001b[0;32m    284\u001b[0m     )\n\u001b[1;32m--> 286\u001b[0m \u001b[38;5;28;01mreturn\u001b[39;00m io_open(file, \u001b[38;5;241m*\u001b[39margs, \u001b[38;5;241m*\u001b[39m\u001b[38;5;241m*\u001b[39mkwargs)\n",
      "\u001b[1;31mOSError\u001b[0m: [Errno 22] Invalid argument: 'D:\\\\pfiles\\x0cile1.txt'"
     ]
    }
   ],
   "source": [
    "fobj1 = open('D:\\pfiles\\file1.txt',\"r\")"
   ]
  },
  {
   "cell_type": "code",
   "execution_count": 6,
   "id": "1080c137",
   "metadata": {},
   "outputs": [],
   "source": [
    "fobj1 = open('D:\\\\pfiles\\\\file1.txt',\"r\")"
   ]
  },
  {
   "cell_type": "code",
   "execution_count": 7,
   "id": "abd8ff40",
   "metadata": {},
   "outputs": [],
   "source": [
    "fobj2 = open(r'D:\\pfiles\\file1.txt',\"r\")"
   ]
  },
  {
   "cell_type": "code",
   "execution_count": 8,
   "id": "bf4e0520",
   "metadata": {},
   "outputs": [],
   "source": [
    "fobj3 = open('D:/pfiles/file1.txt',\"r\")"
   ]
  },
  {
   "cell_type": "code",
   "execution_count": 9,
   "id": "c58f479c",
   "metadata": {},
   "outputs": [
    {
     "name": "stdout",
     "output_type": "stream",
     "text": [
      "1926578212576\n",
      "1926585503808\n",
      "1926585504016\n"
     ]
    }
   ],
   "source": [
    "print(id(fobj1))\n",
    "print(id(fobj2))\n",
    "print(id(fobj3))"
   ]
  },
  {
   "cell_type": "code",
   "execution_count": 11,
   "id": "c8187a9d",
   "metadata": {},
   "outputs": [],
   "source": [
    "fname = 'D:/pfiles/file1.txt'"
   ]
  },
  {
   "cell_type": "code",
   "execution_count": 12,
   "id": "2310698c",
   "metadata": {},
   "outputs": [],
   "source": [
    "fobj4 = open(fname)"
   ]
  },
  {
   "cell_type": "code",
   "execution_count": 13,
   "id": "3178e0fb",
   "metadata": {},
   "outputs": [
    {
     "name": "stdout",
     "output_type": "stream",
     "text": [
      "1926555670624\n"
     ]
    }
   ],
   "source": [
    "print(id(fobj4))"
   ]
  },
  {
   "cell_type": "code",
   "execution_count": 14,
   "id": "1c09b8a6",
   "metadata": {},
   "outputs": [],
   "source": [
    "fobj4.close()"
   ]
  },
  {
   "cell_type": "code",
   "execution_count": 17,
   "id": "86f54674",
   "metadata": {},
   "outputs": [
    {
     "name": "stdout",
     "output_type": "stream",
     "text": [
      "1926555670624\n"
     ]
    }
   ],
   "source": [
    "print(id(fobj4))"
   ]
  },
  {
   "cell_type": "code",
   "execution_count": 16,
   "id": "bd23d594",
   "metadata": {},
   "outputs": [
    {
     "data": {
      "text/plain": [
       "<_io.TextIOWrapper name='D:\\\\pfiles\\\\file1.txt' mode='r' encoding='cp1252'>"
      ]
     },
     "execution_count": 16,
     "metadata": {},
     "output_type": "execute_result"
    }
   ],
   "source": [
    "fobj1"
   ]
  },
  {
   "cell_type": "code",
   "execution_count": 18,
   "id": "43c4e22d",
   "metadata": {},
   "outputs": [],
   "source": [
    "del fobj1"
   ]
  },
  {
   "cell_type": "code",
   "execution_count": 19,
   "id": "04d9dfbe",
   "metadata": {},
   "outputs": [
    {
     "ename": "NameError",
     "evalue": "name 'fobj1' is not defined",
     "output_type": "error",
     "traceback": [
      "\u001b[1;31m---------------------------------------------------------------------------\u001b[0m",
      "\u001b[1;31mNameError\u001b[0m                                 Traceback (most recent call last)",
      "Cell \u001b[1;32mIn[19], line 1\u001b[0m\n\u001b[1;32m----> 1\u001b[0m \u001b[43mfobj1\u001b[49m\n",
      "\u001b[1;31mNameError\u001b[0m: name 'fobj1' is not defined"
     ]
    }
   ],
   "source": [
    "fobj1"
   ]
  },
  {
   "cell_type": "code",
   "execution_count": 20,
   "id": "7b638257",
   "metadata": {},
   "outputs": [
    {
     "data": {
      "text/plain": [
       "'D:/pfiles/file1.txt'"
      ]
     },
     "execution_count": 20,
     "metadata": {},
     "output_type": "execute_result"
    }
   ],
   "source": [
    "fname"
   ]
  },
  {
   "cell_type": "code",
   "execution_count": 27,
   "id": "5cc5b7c6",
   "metadata": {},
   "outputs": [],
   "source": [
    "fobj = open(fname)"
   ]
  },
  {
   "cell_type": "code",
   "execution_count": 28,
   "id": "bd67b628",
   "metadata": {},
   "outputs": [
    {
     "name": "stdout",
     "output_type": "stream",
     "text": [
      "D:/pfiles/file1.txt\n",
      "False\n",
      "r\n",
      "6\n",
      "False\n",
      "True\n",
      "True\n",
      "None\n",
      "True\n"
     ]
    }
   ],
   "source": [
    "print(fobj.name)  \n",
    "print(fobj.closed)\n",
    "print(fobj.mode)\n",
    "print(fobj.fileno())\n",
    "print(fobj.writable())\n",
    "print(fobj.readable())\n",
    "print(fobj.seekable())\n",
    "print(fobj.close())  # None\n",
    "print(fobj.closed)"
   ]
  },
  {
   "cell_type": "code",
   "execution_count": 29,
   "id": "c9baf93d",
   "metadata": {},
   "outputs": [
    {
     "data": {
      "text/plain": [
       "'D:/pfiles/file1.txt'"
      ]
     },
     "execution_count": 29,
     "metadata": {},
     "output_type": "execute_result"
    }
   ],
   "source": [
    "fname"
   ]
  },
  {
   "cell_type": "code",
   "execution_count": 30,
   "id": "f1554686",
   "metadata": {},
   "outputs": [],
   "source": [
    "fobj1 = open(fname,'r')"
   ]
  },
  {
   "cell_type": "code",
   "execution_count": 31,
   "id": "de8149c9",
   "metadata": {},
   "outputs": [
    {
     "data": {
      "text/plain": [
       "0"
      ]
     },
     "execution_count": 31,
     "metadata": {},
     "output_type": "execute_result"
    }
   ],
   "source": [
    "fobj1.tell()"
   ]
  },
  {
   "cell_type": "code",
   "execution_count": 32,
   "id": "7edad506",
   "metadata": {},
   "outputs": [
    {
     "data": {
      "text/plain": [
       "'welcome'"
      ]
     },
     "execution_count": 32,
     "metadata": {},
     "output_type": "execute_result"
    }
   ],
   "source": [
    "fobj1.read(7)"
   ]
  },
  {
   "cell_type": "code",
   "execution_count": 33,
   "id": "5bda7ef5",
   "metadata": {},
   "outputs": [
    {
     "data": {
      "text/plain": [
       "7"
      ]
     },
     "execution_count": 33,
     "metadata": {},
     "output_type": "execute_result"
    }
   ],
   "source": [
    "fobj1.tell()"
   ]
  },
  {
   "cell_type": "code",
   "execution_count": 34,
   "id": "d6ca83ae",
   "metadata": {},
   "outputs": [
    {
     "data": {
      "text/plain": [
       "' to '"
      ]
     },
     "execution_count": 34,
     "metadata": {},
     "output_type": "execute_result"
    }
   ],
   "source": [
    "fobj1.read(4)"
   ]
  },
  {
   "cell_type": "code",
   "execution_count": 35,
   "id": "6644799d",
   "metadata": {},
   "outputs": [
    {
     "data": {
      "text/plain": [
       "11"
      ]
     },
     "execution_count": 35,
     "metadata": {},
     "output_type": "execute_result"
    }
   ],
   "source": [
    "fobj1.tell()"
   ]
  },
  {
   "cell_type": "code",
   "execution_count": 36,
   "id": "f1fa4500",
   "metadata": {},
   "outputs": [
    {
     "data": {
      "text/plain": [
       "5"
      ]
     },
     "execution_count": 36,
     "metadata": {},
     "output_type": "execute_result"
    }
   ],
   "source": [
    "fobj1.seek(5)"
   ]
  },
  {
   "cell_type": "code",
   "execution_count": 37,
   "id": "9c8982dc",
   "metadata": {},
   "outputs": [
    {
     "data": {
      "text/plain": [
       "5"
      ]
     },
     "execution_count": 37,
     "metadata": {},
     "output_type": "execute_result"
    }
   ],
   "source": [
    "fobj1.tell()"
   ]
  },
  {
   "cell_type": "code",
   "execution_count": 38,
   "id": "6ef1aad4",
   "metadata": {},
   "outputs": [
    {
     "data": {
      "text/plain": [
       "'me '"
      ]
     },
     "execution_count": 38,
     "metadata": {},
     "output_type": "execute_result"
    }
   ],
   "source": [
    "fobj1.read(3)"
   ]
  },
  {
   "cell_type": "code",
   "execution_count": 39,
   "id": "10108349",
   "metadata": {},
   "outputs": [
    {
     "data": {
      "text/plain": [
       "8"
      ]
     },
     "execution_count": 39,
     "metadata": {},
     "output_type": "execute_result"
    }
   ],
   "source": [
    "fobj1.tell()"
   ]
  },
  {
   "cell_type": "code",
   "execution_count": 40,
   "id": "626f0442",
   "metadata": {},
   "outputs": [],
   "source": [
    "fobj1.close()"
   ]
  },
  {
   "cell_type": "code",
   "execution_count": 41,
   "id": "dbb5d28d",
   "metadata": {},
   "outputs": [
    {
     "ename": "ValueError",
     "evalue": "I/O operation on closed file.",
     "output_type": "error",
     "traceback": [
      "\u001b[1;31m---------------------------------------------------------------------------\u001b[0m",
      "\u001b[1;31mValueError\u001b[0m                                Traceback (most recent call last)",
      "Cell \u001b[1;32mIn[41], line 1\u001b[0m\n\u001b[1;32m----> 1\u001b[0m \u001b[43mfobj1\u001b[49m\u001b[38;5;241;43m.\u001b[39;49m\u001b[43mread\u001b[49m\u001b[43m(\u001b[49m\u001b[38;5;241;43m4\u001b[39;49m\u001b[43m)\u001b[49m\n",
      "\u001b[1;31mValueError\u001b[0m: I/O operation on closed file."
     ]
    }
   ],
   "source": [
    "fobj1.read(4)"
   ]
  },
  {
   "cell_type": "code",
   "execution_count": 42,
   "id": "6e50c5d3",
   "metadata": {},
   "outputs": [
    {
     "data": {
      "text/plain": [
       "'D:/pfiles/file1.txt'"
      ]
     },
     "execution_count": 42,
     "metadata": {},
     "output_type": "execute_result"
    }
   ],
   "source": [
    "fname"
   ]
  },
  {
   "cell_type": "code",
   "execution_count": 43,
   "id": "6c9b233b",
   "metadata": {},
   "outputs": [],
   "source": [
    "fobj2 = open(fname)"
   ]
  },
  {
   "cell_type": "code",
   "execution_count": 44,
   "id": "f66676ba",
   "metadata": {},
   "outputs": [
    {
     "data": {
      "text/plain": [
       "'welcome to python programming\\npython\\njava\\njava script\\nreact\\n'"
      ]
     },
     "execution_count": 44,
     "metadata": {},
     "output_type": "execute_result"
    }
   ],
   "source": [
    "fobj2.read()"
   ]
  },
  {
   "cell_type": "code",
   "execution_count": 45,
   "id": "8748b886",
   "metadata": {},
   "outputs": [
    {
     "data": {
      "text/plain": [
       "65"
      ]
     },
     "execution_count": 45,
     "metadata": {},
     "output_type": "execute_result"
    }
   ],
   "source": [
    "fobj2.tell()"
   ]
  },
  {
   "cell_type": "code",
   "execution_count": 46,
   "id": "a3fa3c53",
   "metadata": {},
   "outputs": [
    {
     "data": {
      "text/plain": [
       "''"
      ]
     },
     "execution_count": 46,
     "metadata": {},
     "output_type": "execute_result"
    }
   ],
   "source": [
    "fobj2.read(2)"
   ]
  },
  {
   "cell_type": "code",
   "execution_count": 47,
   "id": "90edf49f",
   "metadata": {},
   "outputs": [
    {
     "data": {
      "text/plain": [
       "0"
      ]
     },
     "execution_count": 47,
     "metadata": {},
     "output_type": "execute_result"
    }
   ],
   "source": [
    "fobj2.seek(0)"
   ]
  },
  {
   "cell_type": "code",
   "execution_count": 48,
   "id": "6f224943",
   "metadata": {},
   "outputs": [
    {
     "name": "stdout",
     "output_type": "stream",
     "text": [
      "welcome to python programming\n",
      "python\n",
      "java\n",
      "java script\n",
      "react\n",
      "\n"
     ]
    }
   ],
   "source": [
    "print(fobj2.read())"
   ]
  },
  {
   "cell_type": "code",
   "execution_count": 49,
   "id": "1d25f908",
   "metadata": {},
   "outputs": [
    {
     "data": {
      "text/plain": [
       "65"
      ]
     },
     "execution_count": 49,
     "metadata": {},
     "output_type": "execute_result"
    }
   ],
   "source": [
    "fobj2.tell()"
   ]
  },
  {
   "cell_type": "code",
   "execution_count": 50,
   "id": "27b84385",
   "metadata": {},
   "outputs": [
    {
     "data": {
      "text/plain": [
       "0"
      ]
     },
     "execution_count": 50,
     "metadata": {},
     "output_type": "execute_result"
    }
   ],
   "source": [
    "fobj2.seek(0)"
   ]
  },
  {
   "cell_type": "code",
   "execution_count": 51,
   "id": "3547fce0",
   "metadata": {},
   "outputs": [],
   "source": [
    "filedata = fobj2.read()"
   ]
  },
  {
   "cell_type": "code",
   "execution_count": 52,
   "id": "ddfbca9e",
   "metadata": {},
   "outputs": [
    {
     "data": {
      "text/plain": [
       "'welcome to python programming\\npython\\njava\\njava script\\nreact\\n'"
      ]
     },
     "execution_count": 52,
     "metadata": {},
     "output_type": "execute_result"
    }
   ],
   "source": [
    "filedata"
   ]
  },
  {
   "cell_type": "code",
   "execution_count": 53,
   "id": "6b9df424",
   "metadata": {},
   "outputs": [
    {
     "data": {
      "text/plain": [
       "str"
      ]
     },
     "execution_count": 53,
     "metadata": {},
     "output_type": "execute_result"
    }
   ],
   "source": [
    "type(filedata)"
   ]
  },
  {
   "cell_type": "code",
   "execution_count": 54,
   "id": "e7485b57",
   "metadata": {},
   "outputs": [],
   "source": [
    "fname = 'D:/pfiles/file2.txt'"
   ]
  },
  {
   "cell_type": "code",
   "execution_count": 55,
   "id": "a76d7dee",
   "metadata": {},
   "outputs": [],
   "source": [
    "fobj3 = open(fname)"
   ]
  },
  {
   "cell_type": "code",
   "execution_count": 56,
   "id": "aa18e3ac",
   "metadata": {},
   "outputs": [
    {
     "data": {
      "text/plain": [
       "'python\\n'"
      ]
     },
     "execution_count": 56,
     "metadata": {},
     "output_type": "execute_result"
    }
   ],
   "source": [
    "fobj3.readline()"
   ]
  },
  {
   "cell_type": "code",
   "execution_count": 57,
   "id": "c3e4627e",
   "metadata": {},
   "outputs": [
    {
     "data": {
      "text/plain": [
       "'django \\n'"
      ]
     },
     "execution_count": 57,
     "metadata": {},
     "output_type": "execute_result"
    }
   ],
   "source": [
    "fobj3.readline()"
   ]
  },
  {
   "cell_type": "code",
   "execution_count": 58,
   "id": "e90877c7",
   "metadata": {},
   "outputs": [],
   "source": [
    "fobj3.close()"
   ]
  },
  {
   "cell_type": "code",
   "execution_count": 59,
   "id": "73b611f2",
   "metadata": {},
   "outputs": [
    {
     "data": {
      "text/plain": [
       "'D:/pfiles/file2.txt'"
      ]
     },
     "execution_count": 59,
     "metadata": {},
     "output_type": "execute_result"
    }
   ],
   "source": [
    "fname"
   ]
  },
  {
   "cell_type": "code",
   "execution_count": 60,
   "id": "34afaa1b",
   "metadata": {},
   "outputs": [],
   "source": [
    "fobj4 = open(fname)"
   ]
  },
  {
   "cell_type": "code",
   "execution_count": 61,
   "id": "5b65ffbe",
   "metadata": {},
   "outputs": [
    {
     "data": {
      "text/plain": [
       "'python\\n'"
      ]
     },
     "execution_count": 61,
     "metadata": {},
     "output_type": "execute_result"
    }
   ],
   "source": [
    "fobj4.readline()"
   ]
  },
  {
   "cell_type": "code",
   "execution_count": 62,
   "id": "202bbfd9",
   "metadata": {},
   "outputs": [
    {
     "data": {
      "text/plain": [
       "'django \\n'"
      ]
     },
     "execution_count": 62,
     "metadata": {},
     "output_type": "execute_result"
    }
   ],
   "source": [
    "fobj4.readline(32)"
   ]
  },
  {
   "cell_type": "code",
   "execution_count": 63,
   "id": "97f32ef4",
   "metadata": {},
   "outputs": [
    {
     "data": {
      "text/plain": [
       "'ja'"
      ]
     },
     "execution_count": 63,
     "metadata": {},
     "output_type": "execute_result"
    }
   ],
   "source": [
    "fobj4.readline(2)"
   ]
  },
  {
   "cell_type": "code",
   "execution_count": 64,
   "id": "3c1869c8",
   "metadata": {},
   "outputs": [
    {
     "data": {
      "text/plain": [
       "'va'"
      ]
     },
     "execution_count": 64,
     "metadata": {},
     "output_type": "execute_result"
    }
   ],
   "source": [
    "fobj4.readline(2)"
   ]
  },
  {
   "cell_type": "code",
   "execution_count": 65,
   "id": "c5f66a83",
   "metadata": {},
   "outputs": [
    {
     "data": {
      "text/plain": [
       "'script\\n'"
      ]
     },
     "execution_count": 65,
     "metadata": {},
     "output_type": "execute_result"
    }
   ],
   "source": [
    "fobj4.readline()"
   ]
  },
  {
   "cell_type": "code",
   "execution_count": 66,
   "id": "0f07b2bf",
   "metadata": {},
   "outputs": [
    {
     "data": {
      "text/plain": [
       "'reactjs\\n'"
      ]
     },
     "execution_count": 66,
     "metadata": {},
     "output_type": "execute_result"
    }
   ],
   "source": [
    "fobj4.readline()"
   ]
  },
  {
   "cell_type": "code",
   "execution_count": 67,
   "id": "4fbd31bf",
   "metadata": {},
   "outputs": [],
   "source": [
    "fobj4.close()"
   ]
  },
  {
   "cell_type": "code",
   "execution_count": 68,
   "id": "21ae3b3f",
   "metadata": {},
   "outputs": [
    {
     "data": {
      "text/plain": [
       "'D:/pfiles/file2.txt'"
      ]
     },
     "execution_count": 68,
     "metadata": {},
     "output_type": "execute_result"
    }
   ],
   "source": [
    "fname"
   ]
  },
  {
   "cell_type": "code",
   "execution_count": 69,
   "id": "d0669884",
   "metadata": {},
   "outputs": [],
   "source": [
    "fobj4 = open(fname)"
   ]
  },
  {
   "cell_type": "code",
   "execution_count": 70,
   "id": "f4fd5890",
   "metadata": {},
   "outputs": [
    {
     "data": {
      "text/plain": [
       "['python\\n',\n",
       " 'django \\n',\n",
       " 'javascript\\n',\n",
       " 'reactjs\\n',\n",
       " 'nodejs\\n',\n",
       " 'expressjs\\n',\n",
       " 'html\\n',\n",
       " 'css\\n']"
      ]
     },
     "execution_count": 70,
     "metadata": {},
     "output_type": "execute_result"
    }
   ],
   "source": [
    "fobj4.readlines()"
   ]
  },
  {
   "cell_type": "code",
   "execution_count": 71,
   "id": "4056139c",
   "metadata": {},
   "outputs": [
    {
     "data": {
      "text/plain": [
       "[]"
      ]
     },
     "execution_count": 71,
     "metadata": {},
     "output_type": "execute_result"
    }
   ],
   "source": [
    "fobj4.readlines()"
   ]
  },
  {
   "cell_type": "code",
   "execution_count": 72,
   "id": "a59bd05e",
   "metadata": {},
   "outputs": [
    {
     "data": {
      "text/plain": [
       "0"
      ]
     },
     "execution_count": 72,
     "metadata": {},
     "output_type": "execute_result"
    }
   ],
   "source": [
    "fobj4.seek(0)"
   ]
  },
  {
   "cell_type": "code",
   "execution_count": 73,
   "id": "eda08197",
   "metadata": {},
   "outputs": [
    {
     "data": {
      "text/plain": [
       "['python\\n',\n",
       " 'django \\n',\n",
       " 'javascript\\n',\n",
       " 'reactjs\\n',\n",
       " 'nodejs\\n',\n",
       " 'expressjs\\n',\n",
       " 'html\\n',\n",
       " 'css\\n']"
      ]
     },
     "execution_count": 73,
     "metadata": {},
     "output_type": "execute_result"
    }
   ],
   "source": [
    "fobj4.readlines()"
   ]
  },
  {
   "cell_type": "code",
   "execution_count": 74,
   "id": "d3d08c56",
   "metadata": {},
   "outputs": [
    {
     "data": {
      "text/plain": [
       "0"
      ]
     },
     "execution_count": 74,
     "metadata": {},
     "output_type": "execute_result"
    }
   ],
   "source": [
    "fobj4.seek(0)"
   ]
  },
  {
   "cell_type": "code",
   "execution_count": 75,
   "id": "f17fd7b8",
   "metadata": {},
   "outputs": [],
   "source": [
    "myfiledata = fobj4.readlines()"
   ]
  },
  {
   "cell_type": "code",
   "execution_count": 76,
   "id": "e8b8baec",
   "metadata": {},
   "outputs": [
    {
     "data": {
      "text/plain": [
       "list"
      ]
     },
     "execution_count": 76,
     "metadata": {},
     "output_type": "execute_result"
    }
   ],
   "source": [
    "type(myfiledata)"
   ]
  },
  {
   "cell_type": "code",
   "execution_count": 77,
   "id": "f2ff2b8e",
   "metadata": {},
   "outputs": [
    {
     "data": {
      "text/plain": [
       "'python\\n'"
      ]
     },
     "execution_count": 77,
     "metadata": {},
     "output_type": "execute_result"
    }
   ],
   "source": [
    "myfiledata[0]"
   ]
  },
  {
   "cell_type": "code",
   "execution_count": 78,
   "id": "66511340",
   "metadata": {},
   "outputs": [
    {
     "data": {
      "text/plain": [
       "['python\\n',\n",
       " 'django \\n',\n",
       " 'javascript\\n',\n",
       " 'reactjs\\n',\n",
       " 'nodejs\\n',\n",
       " 'expressjs\\n',\n",
       " 'html\\n',\n",
       " 'css\\n']"
      ]
     },
     "execution_count": 78,
     "metadata": {},
     "output_type": "execute_result"
    }
   ],
   "source": [
    "myfiledata[:]"
   ]
  },
  {
   "cell_type": "code",
   "execution_count": 79,
   "id": "93a47578",
   "metadata": {},
   "outputs": [
    {
     "data": {
      "text/plain": [
       "'css\\n'"
      ]
     },
     "execution_count": 79,
     "metadata": {},
     "output_type": "execute_result"
    }
   ],
   "source": [
    "myfiledata[-1]"
   ]
  },
  {
   "cell_type": "code",
   "execution_count": 80,
   "id": "7bfe0e86",
   "metadata": {},
   "outputs": [
    {
     "data": {
      "text/plain": [
       "['css\\n', 'html\\n', 'expressjs\\n']"
      ]
     },
     "execution_count": 80,
     "metadata": {},
     "output_type": "execute_result"
    }
   ],
   "source": [
    "myfiledata[-1:-4:-1]"
   ]
  },
  {
   "cell_type": "code",
   "execution_count": 81,
   "id": "97ff97ad",
   "metadata": {},
   "outputs": [
    {
     "data": {
      "text/plain": [
       "'python\\n'"
      ]
     },
     "execution_count": 81,
     "metadata": {},
     "output_type": "execute_result"
    }
   ],
   "source": [
    "myfiledata[0]"
   ]
  },
  {
   "cell_type": "code",
   "execution_count": 82,
   "id": "89f5dfe8",
   "metadata": {},
   "outputs": [
    {
     "data": {
      "text/plain": [
       "'python'"
      ]
     },
     "execution_count": 82,
     "metadata": {},
     "output_type": "execute_result"
    }
   ],
   "source": [
    "myfiledata[0][:-1]"
   ]
  },
  {
   "cell_type": "code",
   "execution_count": 83,
   "id": "ce3058c9",
   "metadata": {},
   "outputs": [],
   "source": [
    "fname = 'D:/pfiles/file2.txt'"
   ]
  },
  {
   "cell_type": "code",
   "execution_count": 91,
   "id": "8d322a8b",
   "metadata": {},
   "outputs": [],
   "source": [
    "fobj = open(fname)"
   ]
  },
  {
   "cell_type": "code",
   "execution_count": 92,
   "id": "bf2f27e4",
   "metadata": {},
   "outputs": [
    {
     "name": "stdout",
     "output_type": "stream",
     "text": [
      "python\n",
      "django \n",
      "javascript\n",
      "reactjs\n",
      "nodejs\n",
      "expressjs\n",
      "html\n",
      "css\n"
     ]
    }
   ],
   "source": [
    "for i in fobj:\n",
    "    print(i,end=\"\")"
   ]
  },
  {
   "cell_type": "code",
   "execution_count": 93,
   "id": "e0a3d95b",
   "metadata": {},
   "outputs": [],
   "source": [
    "for i in fobj:\n",
    "    print(i)"
   ]
  },
  {
   "cell_type": "code",
   "execution_count": 97,
   "id": "1895ed12",
   "metadata": {},
   "outputs": [
    {
     "name": "stdout",
     "output_type": "stream",
     "text": [
      "python\n",
      "django \n",
      "javascript\n",
      "reactjs\n",
      "nodejs\n",
      "expressjs\n",
      "html\n",
      "css\n"
     ]
    }
   ],
   "source": [
    "for i in open(fname):\n",
    "    print(i,end=\"\")"
   ]
  },
  {
   "cell_type": "code",
   "execution_count": 98,
   "id": "ad25eb33",
   "metadata": {},
   "outputs": [],
   "source": [
    "fname = 'D:/pfiles/students.txt'"
   ]
  },
  {
   "cell_type": "code",
   "execution_count": 99,
   "id": "c741b345",
   "metadata": {},
   "outputs": [
    {
     "name": "stdout",
     "output_type": "stream",
     "text": [
      "101,raju,python,9000\n",
      "102,irfan,java,5000\n",
      "103,ramesh,PYTHON,7500\n",
      "104,ramu,java,4500\n",
      "105,somu,c++,3500\n",
      "106,ramesh,Python,7500\n",
      "107,tullan,java script,4000\n",
      "108,ramana,c,2000\n",
      "109,ramana,JAVAscript,2800\n",
      "110,ramesh,django,3000\n",
      "111,manish,SCALA,2500\n",
      "112,somu,c,2000\n",
      "113,raghu,c++,3400\n",
      "114,dilip,javascript,3500\n",
      "115,mohan,aws,14000\n",
      "116,kasi,java,5000\n",
      "117,krishna,AWS,7000\n",
      "118,sunder,python,8000"
     ]
    }
   ],
   "source": [
    "for i in open(fname):\n",
    "    print(i,end=\"\")"
   ]
  },
  {
   "cell_type": "code",
   "execution_count": 100,
   "id": "7b1cd20a",
   "metadata": {},
   "outputs": [
    {
     "data": {
      "text/plain": [
       "True"
      ]
     },
     "execution_count": 100,
     "metadata": {},
     "output_type": "execute_result"
    }
   ],
   "source": [
    "\"e\" in \"welcome\""
   ]
  },
  {
   "cell_type": "code",
   "execution_count": 101,
   "id": "b545b2b3",
   "metadata": {},
   "outputs": [
    {
     "data": {
      "text/plain": [
       "True"
      ]
     },
     "execution_count": 101,
     "metadata": {},
     "output_type": "execute_result"
    }
   ],
   "source": [
    "\"python\" in \"101,raju,python,8000\""
   ]
  },
  {
   "cell_type": "code",
   "execution_count": 102,
   "id": "24c52cf5",
   "metadata": {},
   "outputs": [
    {
     "data": {
      "text/plain": [
       "'D:/pfiles/students.txt'"
      ]
     },
     "execution_count": 102,
     "metadata": {},
     "output_type": "execute_result"
    }
   ],
   "source": [
    "fname"
   ]
  },
  {
   "cell_type": "code",
   "execution_count": 103,
   "id": "79e327aa",
   "metadata": {},
   "outputs": [
    {
     "name": "stdout",
     "output_type": "stream",
     "text": [
      "101,raju,python,9000\n",
      "102,irfan,java,5000\n",
      "103,ramesh,PYTHON,7500\n",
      "104,ramu,java,4500\n",
      "105,somu,c++,3500\n",
      "106,ramesh,Python,7500\n",
      "107,tullan,java script,4000\n",
      "108,ramana,c,2000\n",
      "109,ramana,JAVAscript,2800\n",
      "110,ramesh,django,3000\n",
      "111,manish,SCALA,2500\n",
      "112,somu,c,2000\n",
      "113,raghu,c++,3400\n",
      "114,dilip,javascript,3500\n",
      "115,mohan,aws,14000\n",
      "116,kasi,java,5000\n",
      "117,krishna,AWS,7000\n",
      "118,sunder,python,8000"
     ]
    }
   ],
   "source": [
    "# diplay students information who joined for python\n",
    "fobj = open(fname)\n",
    "for i in fobj:\n",
    "    print(i,end=\"\")"
   ]
  },
  {
   "cell_type": "code",
   "execution_count": 105,
   "id": "15fdab66",
   "metadata": {},
   "outputs": [
    {
     "name": "stdout",
     "output_type": "stream",
     "text": [
      "Enter Course Name = python\n",
      "101,raju,python,9000\n",
      "118,sunder,python,8000"
     ]
    }
   ],
   "source": [
    "# diplay students information who joined for python\n",
    "course = input(\"Enter Course Name = \") # python\n",
    "fobj = open(fname)\n",
    "for i in fobj:\n",
    "    if course in i:\n",
    "        print(i,end=\"\")"
   ]
  },
  {
   "cell_type": "code",
   "execution_count": 106,
   "id": "102db12b",
   "metadata": {},
   "outputs": [],
   "source": [
    "import re"
   ]
  },
  {
   "cell_type": "code",
   "execution_count": 108,
   "id": "efe419d8",
   "metadata": {},
   "outputs": [
    {
     "name": "stdout",
     "output_type": "stream",
     "text": [
      "Enter Course Name = c++\n"
     ]
    },
    {
     "ename": "error",
     "evalue": "multiple repeat at position 2",
     "output_type": "error",
     "traceback": [
      "\u001b[1;31m---------------------------------------------------------------------------\u001b[0m",
      "\u001b[1;31merror\u001b[0m                                     Traceback (most recent call last)",
      "Cell \u001b[1;32mIn[108], line 5\u001b[0m\n\u001b[0;32m      3\u001b[0m fobj \u001b[38;5;241m=\u001b[39m \u001b[38;5;28mopen\u001b[39m(fname)\n\u001b[0;32m      4\u001b[0m \u001b[38;5;28;01mfor\u001b[39;00m i \u001b[38;5;129;01min\u001b[39;00m fobj:\n\u001b[1;32m----> 5\u001b[0m     \u001b[38;5;28;01mif\u001b[39;00m \u001b[43mre\u001b[49m\u001b[38;5;241;43m.\u001b[39;49m\u001b[43msearch\u001b[49m\u001b[43m(\u001b[49m\u001b[43mcourse\u001b[49m\u001b[43m,\u001b[49m\u001b[43mi\u001b[49m\u001b[43m,\u001b[49m\u001b[43mre\u001b[49m\u001b[38;5;241;43m.\u001b[39;49m\u001b[43mI\u001b[49m\u001b[43m)\u001b[49m:\n\u001b[0;32m      6\u001b[0m         \u001b[38;5;28mprint\u001b[39m(i,end\u001b[38;5;241m=\u001b[39m\u001b[38;5;124m\"\u001b[39m\u001b[38;5;124m\"\u001b[39m)\n",
      "File \u001b[1;32m~\\anaconda3\\lib\\re.py:201\u001b[0m, in \u001b[0;36msearch\u001b[1;34m(pattern, string, flags)\u001b[0m\n\u001b[0;32m    198\u001b[0m \u001b[38;5;28;01mdef\u001b[39;00m \u001b[38;5;21msearch\u001b[39m(pattern, string, flags\u001b[38;5;241m=\u001b[39m\u001b[38;5;241m0\u001b[39m):\n\u001b[0;32m    199\u001b[0m \u001b[38;5;250m    \u001b[39m\u001b[38;5;124;03m\"\"\"Scan through string looking for a match to the pattern, returning\u001b[39;00m\n\u001b[0;32m    200\u001b[0m \u001b[38;5;124;03m    a Match object, or None if no match was found.\"\"\"\u001b[39;00m\n\u001b[1;32m--> 201\u001b[0m     \u001b[38;5;28;01mreturn\u001b[39;00m \u001b[43m_compile\u001b[49m\u001b[43m(\u001b[49m\u001b[43mpattern\u001b[49m\u001b[43m,\u001b[49m\u001b[43m \u001b[49m\u001b[43mflags\u001b[49m\u001b[43m)\u001b[49m\u001b[38;5;241m.\u001b[39msearch(string)\n",
      "File \u001b[1;32m~\\anaconda3\\lib\\re.py:304\u001b[0m, in \u001b[0;36m_compile\u001b[1;34m(pattern, flags)\u001b[0m\n\u001b[0;32m    302\u001b[0m \u001b[38;5;28;01mif\u001b[39;00m \u001b[38;5;129;01mnot\u001b[39;00m sre_compile\u001b[38;5;241m.\u001b[39misstring(pattern):\n\u001b[0;32m    303\u001b[0m     \u001b[38;5;28;01mraise\u001b[39;00m \u001b[38;5;167;01mTypeError\u001b[39;00m(\u001b[38;5;124m\"\u001b[39m\u001b[38;5;124mfirst argument must be string or compiled pattern\u001b[39m\u001b[38;5;124m\"\u001b[39m)\n\u001b[1;32m--> 304\u001b[0m p \u001b[38;5;241m=\u001b[39m \u001b[43msre_compile\u001b[49m\u001b[38;5;241;43m.\u001b[39;49m\u001b[43mcompile\u001b[49m\u001b[43m(\u001b[49m\u001b[43mpattern\u001b[49m\u001b[43m,\u001b[49m\u001b[43m \u001b[49m\u001b[43mflags\u001b[49m\u001b[43m)\u001b[49m\n\u001b[0;32m    305\u001b[0m \u001b[38;5;28;01mif\u001b[39;00m \u001b[38;5;129;01mnot\u001b[39;00m (flags \u001b[38;5;241m&\u001b[39m DEBUG):\n\u001b[0;32m    306\u001b[0m     \u001b[38;5;28;01mif\u001b[39;00m \u001b[38;5;28mlen\u001b[39m(_cache) \u001b[38;5;241m>\u001b[39m\u001b[38;5;241m=\u001b[39m _MAXCACHE:\n\u001b[0;32m    307\u001b[0m         \u001b[38;5;66;03m# Drop the oldest item\u001b[39;00m\n",
      "File \u001b[1;32m~\\anaconda3\\lib\\sre_compile.py:788\u001b[0m, in \u001b[0;36mcompile\u001b[1;34m(p, flags)\u001b[0m\n\u001b[0;32m    786\u001b[0m \u001b[38;5;28;01mif\u001b[39;00m isstring(p):\n\u001b[0;32m    787\u001b[0m     pattern \u001b[38;5;241m=\u001b[39m p\n\u001b[1;32m--> 788\u001b[0m     p \u001b[38;5;241m=\u001b[39m \u001b[43msre_parse\u001b[49m\u001b[38;5;241;43m.\u001b[39;49m\u001b[43mparse\u001b[49m\u001b[43m(\u001b[49m\u001b[43mp\u001b[49m\u001b[43m,\u001b[49m\u001b[43m \u001b[49m\u001b[43mflags\u001b[49m\u001b[43m)\u001b[49m\n\u001b[0;32m    789\u001b[0m \u001b[38;5;28;01melse\u001b[39;00m:\n\u001b[0;32m    790\u001b[0m     pattern \u001b[38;5;241m=\u001b[39m \u001b[38;5;28;01mNone\u001b[39;00m\n",
      "File \u001b[1;32m~\\anaconda3\\lib\\sre_parse.py:955\u001b[0m, in \u001b[0;36mparse\u001b[1;34m(str, flags, state)\u001b[0m\n\u001b[0;32m    952\u001b[0m state\u001b[38;5;241m.\u001b[39mstr \u001b[38;5;241m=\u001b[39m \u001b[38;5;28mstr\u001b[39m\n\u001b[0;32m    954\u001b[0m \u001b[38;5;28;01mtry\u001b[39;00m:\n\u001b[1;32m--> 955\u001b[0m     p \u001b[38;5;241m=\u001b[39m \u001b[43m_parse_sub\u001b[49m\u001b[43m(\u001b[49m\u001b[43msource\u001b[49m\u001b[43m,\u001b[49m\u001b[43m \u001b[49m\u001b[43mstate\u001b[49m\u001b[43m,\u001b[49m\u001b[43m \u001b[49m\u001b[43mflags\u001b[49m\u001b[43m \u001b[49m\u001b[38;5;241;43m&\u001b[39;49m\u001b[43m \u001b[49m\u001b[43mSRE_FLAG_VERBOSE\u001b[49m\u001b[43m,\u001b[49m\u001b[43m \u001b[49m\u001b[38;5;241;43m0\u001b[39;49m\u001b[43m)\u001b[49m\n\u001b[0;32m    956\u001b[0m \u001b[38;5;28;01mexcept\u001b[39;00m Verbose:\n\u001b[0;32m    957\u001b[0m     \u001b[38;5;66;03m# the VERBOSE flag was switched on inside the pattern.  to be\u001b[39;00m\n\u001b[0;32m    958\u001b[0m     \u001b[38;5;66;03m# on the safe side, we'll parse the whole thing again...\u001b[39;00m\n\u001b[0;32m    959\u001b[0m     state \u001b[38;5;241m=\u001b[39m State()\n",
      "File \u001b[1;32m~\\anaconda3\\lib\\sre_parse.py:444\u001b[0m, in \u001b[0;36m_parse_sub\u001b[1;34m(source, state, verbose, nested)\u001b[0m\n\u001b[0;32m    442\u001b[0m start \u001b[38;5;241m=\u001b[39m source\u001b[38;5;241m.\u001b[39mtell()\n\u001b[0;32m    443\u001b[0m \u001b[38;5;28;01mwhile\u001b[39;00m \u001b[38;5;28;01mTrue\u001b[39;00m:\n\u001b[1;32m--> 444\u001b[0m     itemsappend(\u001b[43m_parse\u001b[49m\u001b[43m(\u001b[49m\u001b[43msource\u001b[49m\u001b[43m,\u001b[49m\u001b[43m \u001b[49m\u001b[43mstate\u001b[49m\u001b[43m,\u001b[49m\u001b[43m \u001b[49m\u001b[43mverbose\u001b[49m\u001b[43m,\u001b[49m\u001b[43m \u001b[49m\u001b[43mnested\u001b[49m\u001b[43m \u001b[49m\u001b[38;5;241;43m+\u001b[39;49m\u001b[43m \u001b[49m\u001b[38;5;241;43m1\u001b[39;49m\u001b[43m,\u001b[49m\n\u001b[0;32m    445\u001b[0m \u001b[43m                       \u001b[49m\u001b[38;5;129;43;01mnot\u001b[39;49;00m\u001b[43m \u001b[49m\u001b[43mnested\u001b[49m\u001b[43m \u001b[49m\u001b[38;5;129;43;01mand\u001b[39;49;00m\u001b[43m \u001b[49m\u001b[38;5;129;43;01mnot\u001b[39;49;00m\u001b[43m \u001b[49m\u001b[43mitems\u001b[49m\u001b[43m)\u001b[49m)\n\u001b[0;32m    446\u001b[0m     \u001b[38;5;28;01mif\u001b[39;00m \u001b[38;5;129;01mnot\u001b[39;00m sourcematch(\u001b[38;5;124m\"\u001b[39m\u001b[38;5;124m|\u001b[39m\u001b[38;5;124m\"\u001b[39m):\n\u001b[0;32m    447\u001b[0m         \u001b[38;5;28;01mbreak\u001b[39;00m\n",
      "File \u001b[1;32m~\\anaconda3\\lib\\sre_parse.py:672\u001b[0m, in \u001b[0;36m_parse\u001b[1;34m(source, state, verbose, nested, first)\u001b[0m\n\u001b[0;32m    669\u001b[0m     \u001b[38;5;28;01mraise\u001b[39;00m source\u001b[38;5;241m.\u001b[39merror(\u001b[38;5;124m\"\u001b[39m\u001b[38;5;124mnothing to repeat\u001b[39m\u001b[38;5;124m\"\u001b[39m,\n\u001b[0;32m    670\u001b[0m                        source\u001b[38;5;241m.\u001b[39mtell() \u001b[38;5;241m-\u001b[39m here \u001b[38;5;241m+\u001b[39m \u001b[38;5;28mlen\u001b[39m(this))\n\u001b[0;32m    671\u001b[0m \u001b[38;5;28;01mif\u001b[39;00m item[\u001b[38;5;241m0\u001b[39m][\u001b[38;5;241m0\u001b[39m] \u001b[38;5;129;01min\u001b[39;00m _REPEATCODES:\n\u001b[1;32m--> 672\u001b[0m     \u001b[38;5;28;01mraise\u001b[39;00m source\u001b[38;5;241m.\u001b[39merror(\u001b[38;5;124m\"\u001b[39m\u001b[38;5;124mmultiple repeat\u001b[39m\u001b[38;5;124m\"\u001b[39m,\n\u001b[0;32m    673\u001b[0m                        source\u001b[38;5;241m.\u001b[39mtell() \u001b[38;5;241m-\u001b[39m here \u001b[38;5;241m+\u001b[39m \u001b[38;5;28mlen\u001b[39m(this))\n\u001b[0;32m    674\u001b[0m \u001b[38;5;28;01mif\u001b[39;00m item[\u001b[38;5;241m0\u001b[39m][\u001b[38;5;241m0\u001b[39m] \u001b[38;5;129;01mis\u001b[39;00m SUBPATTERN:\n\u001b[0;32m    675\u001b[0m     group, add_flags, del_flags, p \u001b[38;5;241m=\u001b[39m item[\u001b[38;5;241m0\u001b[39m][\u001b[38;5;241m1\u001b[39m]\n",
      "\u001b[1;31merror\u001b[0m: multiple repeat at position 2"
     ]
    }
   ],
   "source": [
    "# diplay students information who joined for python\n",
    "course = input(\"Enter Course Name = \") # python\n",
    "fobj = open(fname)\n",
    "for i in fobj:\n",
    "    if re.search(course,i,re.I):\n",
    "        print(i,end=\"\")"
   ]
  },
  {
   "cell_type": "code",
   "execution_count": 111,
   "id": "52f038de",
   "metadata": {},
   "outputs": [
    {
     "ename": "error",
     "evalue": "multiple repeat at position 2",
     "output_type": "error",
     "traceback": [
      "\u001b[1;31m---------------------------------------------------------------------------\u001b[0m",
      "\u001b[1;31merror\u001b[0m                                     Traceback (most recent call last)",
      "Cell \u001b[1;32mIn[111], line 1\u001b[0m\n\u001b[1;32m----> 1\u001b[0m \u001b[43mre\u001b[49m\u001b[38;5;241;43m.\u001b[39;49m\u001b[43msearch\u001b[49m\u001b[43m(\u001b[49m\u001b[38;5;124;43m'\u001b[39;49m\u001b[38;5;124;43mc++\u001b[39;49m\u001b[38;5;124;43m'\u001b[39;49m\u001b[43m,\u001b[49m\u001b[38;5;124;43m'\u001b[39;49m\u001b[38;5;124;43mccccccc\u001b[39;49m\u001b[38;5;124;43m'\u001b[39;49m\u001b[43m)\u001b[49m\n",
      "File \u001b[1;32m~\\anaconda3\\lib\\re.py:201\u001b[0m, in \u001b[0;36msearch\u001b[1;34m(pattern, string, flags)\u001b[0m\n\u001b[0;32m    198\u001b[0m \u001b[38;5;28;01mdef\u001b[39;00m \u001b[38;5;21msearch\u001b[39m(pattern, string, flags\u001b[38;5;241m=\u001b[39m\u001b[38;5;241m0\u001b[39m):\n\u001b[0;32m    199\u001b[0m \u001b[38;5;250m    \u001b[39m\u001b[38;5;124;03m\"\"\"Scan through string looking for a match to the pattern, returning\u001b[39;00m\n\u001b[0;32m    200\u001b[0m \u001b[38;5;124;03m    a Match object, or None if no match was found.\"\"\"\u001b[39;00m\n\u001b[1;32m--> 201\u001b[0m     \u001b[38;5;28;01mreturn\u001b[39;00m \u001b[43m_compile\u001b[49m\u001b[43m(\u001b[49m\u001b[43mpattern\u001b[49m\u001b[43m,\u001b[49m\u001b[43m \u001b[49m\u001b[43mflags\u001b[49m\u001b[43m)\u001b[49m\u001b[38;5;241m.\u001b[39msearch(string)\n",
      "File \u001b[1;32m~\\anaconda3\\lib\\re.py:304\u001b[0m, in \u001b[0;36m_compile\u001b[1;34m(pattern, flags)\u001b[0m\n\u001b[0;32m    302\u001b[0m \u001b[38;5;28;01mif\u001b[39;00m \u001b[38;5;129;01mnot\u001b[39;00m sre_compile\u001b[38;5;241m.\u001b[39misstring(pattern):\n\u001b[0;32m    303\u001b[0m     \u001b[38;5;28;01mraise\u001b[39;00m \u001b[38;5;167;01mTypeError\u001b[39;00m(\u001b[38;5;124m\"\u001b[39m\u001b[38;5;124mfirst argument must be string or compiled pattern\u001b[39m\u001b[38;5;124m\"\u001b[39m)\n\u001b[1;32m--> 304\u001b[0m p \u001b[38;5;241m=\u001b[39m \u001b[43msre_compile\u001b[49m\u001b[38;5;241;43m.\u001b[39;49m\u001b[43mcompile\u001b[49m\u001b[43m(\u001b[49m\u001b[43mpattern\u001b[49m\u001b[43m,\u001b[49m\u001b[43m \u001b[49m\u001b[43mflags\u001b[49m\u001b[43m)\u001b[49m\n\u001b[0;32m    305\u001b[0m \u001b[38;5;28;01mif\u001b[39;00m \u001b[38;5;129;01mnot\u001b[39;00m (flags \u001b[38;5;241m&\u001b[39m DEBUG):\n\u001b[0;32m    306\u001b[0m     \u001b[38;5;28;01mif\u001b[39;00m \u001b[38;5;28mlen\u001b[39m(_cache) \u001b[38;5;241m>\u001b[39m\u001b[38;5;241m=\u001b[39m _MAXCACHE:\n\u001b[0;32m    307\u001b[0m         \u001b[38;5;66;03m# Drop the oldest item\u001b[39;00m\n",
      "File \u001b[1;32m~\\anaconda3\\lib\\sre_compile.py:788\u001b[0m, in \u001b[0;36mcompile\u001b[1;34m(p, flags)\u001b[0m\n\u001b[0;32m    786\u001b[0m \u001b[38;5;28;01mif\u001b[39;00m isstring(p):\n\u001b[0;32m    787\u001b[0m     pattern \u001b[38;5;241m=\u001b[39m p\n\u001b[1;32m--> 788\u001b[0m     p \u001b[38;5;241m=\u001b[39m \u001b[43msre_parse\u001b[49m\u001b[38;5;241;43m.\u001b[39;49m\u001b[43mparse\u001b[49m\u001b[43m(\u001b[49m\u001b[43mp\u001b[49m\u001b[43m,\u001b[49m\u001b[43m \u001b[49m\u001b[43mflags\u001b[49m\u001b[43m)\u001b[49m\n\u001b[0;32m    789\u001b[0m \u001b[38;5;28;01melse\u001b[39;00m:\n\u001b[0;32m    790\u001b[0m     pattern \u001b[38;5;241m=\u001b[39m \u001b[38;5;28;01mNone\u001b[39;00m\n",
      "File \u001b[1;32m~\\anaconda3\\lib\\sre_parse.py:955\u001b[0m, in \u001b[0;36mparse\u001b[1;34m(str, flags, state)\u001b[0m\n\u001b[0;32m    952\u001b[0m state\u001b[38;5;241m.\u001b[39mstr \u001b[38;5;241m=\u001b[39m \u001b[38;5;28mstr\u001b[39m\n\u001b[0;32m    954\u001b[0m \u001b[38;5;28;01mtry\u001b[39;00m:\n\u001b[1;32m--> 955\u001b[0m     p \u001b[38;5;241m=\u001b[39m \u001b[43m_parse_sub\u001b[49m\u001b[43m(\u001b[49m\u001b[43msource\u001b[49m\u001b[43m,\u001b[49m\u001b[43m \u001b[49m\u001b[43mstate\u001b[49m\u001b[43m,\u001b[49m\u001b[43m \u001b[49m\u001b[43mflags\u001b[49m\u001b[43m \u001b[49m\u001b[38;5;241;43m&\u001b[39;49m\u001b[43m \u001b[49m\u001b[43mSRE_FLAG_VERBOSE\u001b[49m\u001b[43m,\u001b[49m\u001b[43m \u001b[49m\u001b[38;5;241;43m0\u001b[39;49m\u001b[43m)\u001b[49m\n\u001b[0;32m    956\u001b[0m \u001b[38;5;28;01mexcept\u001b[39;00m Verbose:\n\u001b[0;32m    957\u001b[0m     \u001b[38;5;66;03m# the VERBOSE flag was switched on inside the pattern.  to be\u001b[39;00m\n\u001b[0;32m    958\u001b[0m     \u001b[38;5;66;03m# on the safe side, we'll parse the whole thing again...\u001b[39;00m\n\u001b[0;32m    959\u001b[0m     state \u001b[38;5;241m=\u001b[39m State()\n",
      "File \u001b[1;32m~\\anaconda3\\lib\\sre_parse.py:444\u001b[0m, in \u001b[0;36m_parse_sub\u001b[1;34m(source, state, verbose, nested)\u001b[0m\n\u001b[0;32m    442\u001b[0m start \u001b[38;5;241m=\u001b[39m source\u001b[38;5;241m.\u001b[39mtell()\n\u001b[0;32m    443\u001b[0m \u001b[38;5;28;01mwhile\u001b[39;00m \u001b[38;5;28;01mTrue\u001b[39;00m:\n\u001b[1;32m--> 444\u001b[0m     itemsappend(\u001b[43m_parse\u001b[49m\u001b[43m(\u001b[49m\u001b[43msource\u001b[49m\u001b[43m,\u001b[49m\u001b[43m \u001b[49m\u001b[43mstate\u001b[49m\u001b[43m,\u001b[49m\u001b[43m \u001b[49m\u001b[43mverbose\u001b[49m\u001b[43m,\u001b[49m\u001b[43m \u001b[49m\u001b[43mnested\u001b[49m\u001b[43m \u001b[49m\u001b[38;5;241;43m+\u001b[39;49m\u001b[43m \u001b[49m\u001b[38;5;241;43m1\u001b[39;49m\u001b[43m,\u001b[49m\n\u001b[0;32m    445\u001b[0m \u001b[43m                       \u001b[49m\u001b[38;5;129;43;01mnot\u001b[39;49;00m\u001b[43m \u001b[49m\u001b[43mnested\u001b[49m\u001b[43m \u001b[49m\u001b[38;5;129;43;01mand\u001b[39;49;00m\u001b[43m \u001b[49m\u001b[38;5;129;43;01mnot\u001b[39;49;00m\u001b[43m \u001b[49m\u001b[43mitems\u001b[49m\u001b[43m)\u001b[49m)\n\u001b[0;32m    446\u001b[0m     \u001b[38;5;28;01mif\u001b[39;00m \u001b[38;5;129;01mnot\u001b[39;00m sourcematch(\u001b[38;5;124m\"\u001b[39m\u001b[38;5;124m|\u001b[39m\u001b[38;5;124m\"\u001b[39m):\n\u001b[0;32m    447\u001b[0m         \u001b[38;5;28;01mbreak\u001b[39;00m\n",
      "File \u001b[1;32m~\\anaconda3\\lib\\sre_parse.py:672\u001b[0m, in \u001b[0;36m_parse\u001b[1;34m(source, state, verbose, nested, first)\u001b[0m\n\u001b[0;32m    669\u001b[0m     \u001b[38;5;28;01mraise\u001b[39;00m source\u001b[38;5;241m.\u001b[39merror(\u001b[38;5;124m\"\u001b[39m\u001b[38;5;124mnothing to repeat\u001b[39m\u001b[38;5;124m\"\u001b[39m,\n\u001b[0;32m    670\u001b[0m                        source\u001b[38;5;241m.\u001b[39mtell() \u001b[38;5;241m-\u001b[39m here \u001b[38;5;241m+\u001b[39m \u001b[38;5;28mlen\u001b[39m(this))\n\u001b[0;32m    671\u001b[0m \u001b[38;5;28;01mif\u001b[39;00m item[\u001b[38;5;241m0\u001b[39m][\u001b[38;5;241m0\u001b[39m] \u001b[38;5;129;01min\u001b[39;00m _REPEATCODES:\n\u001b[1;32m--> 672\u001b[0m     \u001b[38;5;28;01mraise\u001b[39;00m source\u001b[38;5;241m.\u001b[39merror(\u001b[38;5;124m\"\u001b[39m\u001b[38;5;124mmultiple repeat\u001b[39m\u001b[38;5;124m\"\u001b[39m,\n\u001b[0;32m    673\u001b[0m                        source\u001b[38;5;241m.\u001b[39mtell() \u001b[38;5;241m-\u001b[39m here \u001b[38;5;241m+\u001b[39m \u001b[38;5;28mlen\u001b[39m(this))\n\u001b[0;32m    674\u001b[0m \u001b[38;5;28;01mif\u001b[39;00m item[\u001b[38;5;241m0\u001b[39m][\u001b[38;5;241m0\u001b[39m] \u001b[38;5;129;01mis\u001b[39;00m SUBPATTERN:\n\u001b[0;32m    675\u001b[0m     group, add_flags, del_flags, p \u001b[38;5;241m=\u001b[39m item[\u001b[38;5;241m0\u001b[39m][\u001b[38;5;241m1\u001b[39m]\n",
      "\u001b[1;31merror\u001b[0m: multiple repeat at position 2"
     ]
    }
   ],
   "source": [
    "re.search('c++','ccccccc')"
   ]
  },
  {
   "cell_type": "code",
   "execution_count": 112,
   "id": "50334b80",
   "metadata": {},
   "outputs": [
    {
     "name": "stdout",
     "output_type": "stream",
     "text": [
      "Enter Course Name = c++\n"
     ]
    },
    {
     "ename": "error",
     "evalue": "multiple repeat at position 2",
     "output_type": "error",
     "traceback": [
      "\u001b[1;31m---------------------------------------------------------------------------\u001b[0m",
      "\u001b[1;31merror\u001b[0m                                     Traceback (most recent call last)",
      "Cell \u001b[1;32mIn[112], line 5\u001b[0m\n\u001b[0;32m      3\u001b[0m fobj \u001b[38;5;241m=\u001b[39m \u001b[38;5;28mopen\u001b[39m(fname)\n\u001b[0;32m      4\u001b[0m \u001b[38;5;28;01mfor\u001b[39;00m i \u001b[38;5;129;01min\u001b[39;00m fobj:\n\u001b[1;32m----> 5\u001b[0m     \u001b[38;5;28;01mif\u001b[39;00m \u001b[43mre\u001b[49m\u001b[38;5;241;43m.\u001b[39;49m\u001b[43msearch\u001b[49m\u001b[43m(\u001b[49m\u001b[43mcourse\u001b[49m\u001b[43m,\u001b[49m\u001b[43mi\u001b[49m\u001b[43m,\u001b[49m\u001b[43mre\u001b[49m\u001b[38;5;241;43m.\u001b[39;49m\u001b[43mI\u001b[49m\u001b[43m)\u001b[49m:\n\u001b[0;32m      6\u001b[0m         \u001b[38;5;28mprint\u001b[39m(i,end\u001b[38;5;241m=\u001b[39m\u001b[38;5;124m\"\u001b[39m\u001b[38;5;124m\"\u001b[39m)\n",
      "File \u001b[1;32m~\\anaconda3\\lib\\re.py:201\u001b[0m, in \u001b[0;36msearch\u001b[1;34m(pattern, string, flags)\u001b[0m\n\u001b[0;32m    198\u001b[0m \u001b[38;5;28;01mdef\u001b[39;00m \u001b[38;5;21msearch\u001b[39m(pattern, string, flags\u001b[38;5;241m=\u001b[39m\u001b[38;5;241m0\u001b[39m):\n\u001b[0;32m    199\u001b[0m \u001b[38;5;250m    \u001b[39m\u001b[38;5;124;03m\"\"\"Scan through string looking for a match to the pattern, returning\u001b[39;00m\n\u001b[0;32m    200\u001b[0m \u001b[38;5;124;03m    a Match object, or None if no match was found.\"\"\"\u001b[39;00m\n\u001b[1;32m--> 201\u001b[0m     \u001b[38;5;28;01mreturn\u001b[39;00m \u001b[43m_compile\u001b[49m\u001b[43m(\u001b[49m\u001b[43mpattern\u001b[49m\u001b[43m,\u001b[49m\u001b[43m \u001b[49m\u001b[43mflags\u001b[49m\u001b[43m)\u001b[49m\u001b[38;5;241m.\u001b[39msearch(string)\n",
      "File \u001b[1;32m~\\anaconda3\\lib\\re.py:304\u001b[0m, in \u001b[0;36m_compile\u001b[1;34m(pattern, flags)\u001b[0m\n\u001b[0;32m    302\u001b[0m \u001b[38;5;28;01mif\u001b[39;00m \u001b[38;5;129;01mnot\u001b[39;00m sre_compile\u001b[38;5;241m.\u001b[39misstring(pattern):\n\u001b[0;32m    303\u001b[0m     \u001b[38;5;28;01mraise\u001b[39;00m \u001b[38;5;167;01mTypeError\u001b[39;00m(\u001b[38;5;124m\"\u001b[39m\u001b[38;5;124mfirst argument must be string or compiled pattern\u001b[39m\u001b[38;5;124m\"\u001b[39m)\n\u001b[1;32m--> 304\u001b[0m p \u001b[38;5;241m=\u001b[39m \u001b[43msre_compile\u001b[49m\u001b[38;5;241;43m.\u001b[39;49m\u001b[43mcompile\u001b[49m\u001b[43m(\u001b[49m\u001b[43mpattern\u001b[49m\u001b[43m,\u001b[49m\u001b[43m \u001b[49m\u001b[43mflags\u001b[49m\u001b[43m)\u001b[49m\n\u001b[0;32m    305\u001b[0m \u001b[38;5;28;01mif\u001b[39;00m \u001b[38;5;129;01mnot\u001b[39;00m (flags \u001b[38;5;241m&\u001b[39m DEBUG):\n\u001b[0;32m    306\u001b[0m     \u001b[38;5;28;01mif\u001b[39;00m \u001b[38;5;28mlen\u001b[39m(_cache) \u001b[38;5;241m>\u001b[39m\u001b[38;5;241m=\u001b[39m _MAXCACHE:\n\u001b[0;32m    307\u001b[0m         \u001b[38;5;66;03m# Drop the oldest item\u001b[39;00m\n",
      "File \u001b[1;32m~\\anaconda3\\lib\\sre_compile.py:788\u001b[0m, in \u001b[0;36mcompile\u001b[1;34m(p, flags)\u001b[0m\n\u001b[0;32m    786\u001b[0m \u001b[38;5;28;01mif\u001b[39;00m isstring(p):\n\u001b[0;32m    787\u001b[0m     pattern \u001b[38;5;241m=\u001b[39m p\n\u001b[1;32m--> 788\u001b[0m     p \u001b[38;5;241m=\u001b[39m \u001b[43msre_parse\u001b[49m\u001b[38;5;241;43m.\u001b[39;49m\u001b[43mparse\u001b[49m\u001b[43m(\u001b[49m\u001b[43mp\u001b[49m\u001b[43m,\u001b[49m\u001b[43m \u001b[49m\u001b[43mflags\u001b[49m\u001b[43m)\u001b[49m\n\u001b[0;32m    789\u001b[0m \u001b[38;5;28;01melse\u001b[39;00m:\n\u001b[0;32m    790\u001b[0m     pattern \u001b[38;5;241m=\u001b[39m \u001b[38;5;28;01mNone\u001b[39;00m\n",
      "File \u001b[1;32m~\\anaconda3\\lib\\sre_parse.py:955\u001b[0m, in \u001b[0;36mparse\u001b[1;34m(str, flags, state)\u001b[0m\n\u001b[0;32m    952\u001b[0m state\u001b[38;5;241m.\u001b[39mstr \u001b[38;5;241m=\u001b[39m \u001b[38;5;28mstr\u001b[39m\n\u001b[0;32m    954\u001b[0m \u001b[38;5;28;01mtry\u001b[39;00m:\n\u001b[1;32m--> 955\u001b[0m     p \u001b[38;5;241m=\u001b[39m \u001b[43m_parse_sub\u001b[49m\u001b[43m(\u001b[49m\u001b[43msource\u001b[49m\u001b[43m,\u001b[49m\u001b[43m \u001b[49m\u001b[43mstate\u001b[49m\u001b[43m,\u001b[49m\u001b[43m \u001b[49m\u001b[43mflags\u001b[49m\u001b[43m \u001b[49m\u001b[38;5;241;43m&\u001b[39;49m\u001b[43m \u001b[49m\u001b[43mSRE_FLAG_VERBOSE\u001b[49m\u001b[43m,\u001b[49m\u001b[43m \u001b[49m\u001b[38;5;241;43m0\u001b[39;49m\u001b[43m)\u001b[49m\n\u001b[0;32m    956\u001b[0m \u001b[38;5;28;01mexcept\u001b[39;00m Verbose:\n\u001b[0;32m    957\u001b[0m     \u001b[38;5;66;03m# the VERBOSE flag was switched on inside the pattern.  to be\u001b[39;00m\n\u001b[0;32m    958\u001b[0m     \u001b[38;5;66;03m# on the safe side, we'll parse the whole thing again...\u001b[39;00m\n\u001b[0;32m    959\u001b[0m     state \u001b[38;5;241m=\u001b[39m State()\n",
      "File \u001b[1;32m~\\anaconda3\\lib\\sre_parse.py:444\u001b[0m, in \u001b[0;36m_parse_sub\u001b[1;34m(source, state, verbose, nested)\u001b[0m\n\u001b[0;32m    442\u001b[0m start \u001b[38;5;241m=\u001b[39m source\u001b[38;5;241m.\u001b[39mtell()\n\u001b[0;32m    443\u001b[0m \u001b[38;5;28;01mwhile\u001b[39;00m \u001b[38;5;28;01mTrue\u001b[39;00m:\n\u001b[1;32m--> 444\u001b[0m     itemsappend(\u001b[43m_parse\u001b[49m\u001b[43m(\u001b[49m\u001b[43msource\u001b[49m\u001b[43m,\u001b[49m\u001b[43m \u001b[49m\u001b[43mstate\u001b[49m\u001b[43m,\u001b[49m\u001b[43m \u001b[49m\u001b[43mverbose\u001b[49m\u001b[43m,\u001b[49m\u001b[43m \u001b[49m\u001b[43mnested\u001b[49m\u001b[43m \u001b[49m\u001b[38;5;241;43m+\u001b[39;49m\u001b[43m \u001b[49m\u001b[38;5;241;43m1\u001b[39;49m\u001b[43m,\u001b[49m\n\u001b[0;32m    445\u001b[0m \u001b[43m                       \u001b[49m\u001b[38;5;129;43;01mnot\u001b[39;49;00m\u001b[43m \u001b[49m\u001b[43mnested\u001b[49m\u001b[43m \u001b[49m\u001b[38;5;129;43;01mand\u001b[39;49;00m\u001b[43m \u001b[49m\u001b[38;5;129;43;01mnot\u001b[39;49;00m\u001b[43m \u001b[49m\u001b[43mitems\u001b[49m\u001b[43m)\u001b[49m)\n\u001b[0;32m    446\u001b[0m     \u001b[38;5;28;01mif\u001b[39;00m \u001b[38;5;129;01mnot\u001b[39;00m sourcematch(\u001b[38;5;124m\"\u001b[39m\u001b[38;5;124m|\u001b[39m\u001b[38;5;124m\"\u001b[39m):\n\u001b[0;32m    447\u001b[0m         \u001b[38;5;28;01mbreak\u001b[39;00m\n",
      "File \u001b[1;32m~\\anaconda3\\lib\\sre_parse.py:672\u001b[0m, in \u001b[0;36m_parse\u001b[1;34m(source, state, verbose, nested, first)\u001b[0m\n\u001b[0;32m    669\u001b[0m     \u001b[38;5;28;01mraise\u001b[39;00m source\u001b[38;5;241m.\u001b[39merror(\u001b[38;5;124m\"\u001b[39m\u001b[38;5;124mnothing to repeat\u001b[39m\u001b[38;5;124m\"\u001b[39m,\n\u001b[0;32m    670\u001b[0m                        source\u001b[38;5;241m.\u001b[39mtell() \u001b[38;5;241m-\u001b[39m here \u001b[38;5;241m+\u001b[39m \u001b[38;5;28mlen\u001b[39m(this))\n\u001b[0;32m    671\u001b[0m \u001b[38;5;28;01mif\u001b[39;00m item[\u001b[38;5;241m0\u001b[39m][\u001b[38;5;241m0\u001b[39m] \u001b[38;5;129;01min\u001b[39;00m _REPEATCODES:\n\u001b[1;32m--> 672\u001b[0m     \u001b[38;5;28;01mraise\u001b[39;00m source\u001b[38;5;241m.\u001b[39merror(\u001b[38;5;124m\"\u001b[39m\u001b[38;5;124mmultiple repeat\u001b[39m\u001b[38;5;124m\"\u001b[39m,\n\u001b[0;32m    673\u001b[0m                        source\u001b[38;5;241m.\u001b[39mtell() \u001b[38;5;241m-\u001b[39m here \u001b[38;5;241m+\u001b[39m \u001b[38;5;28mlen\u001b[39m(this))\n\u001b[0;32m    674\u001b[0m \u001b[38;5;28;01mif\u001b[39;00m item[\u001b[38;5;241m0\u001b[39m][\u001b[38;5;241m0\u001b[39m] \u001b[38;5;129;01mis\u001b[39;00m SUBPATTERN:\n\u001b[0;32m    675\u001b[0m     group, add_flags, del_flags, p \u001b[38;5;241m=\u001b[39m item[\u001b[38;5;241m0\u001b[39m][\u001b[38;5;241m1\u001b[39m]\n",
      "\u001b[1;31merror\u001b[0m: multiple repeat at position 2"
     ]
    }
   ],
   "source": [
    "# diplay students information who joined for python\n",
    "course = input(\"Enter Course Name = \") # python,c++\n",
    "fobj = open(fname)\n",
    "for i in fobj:\n",
    "    if re.search(course,i,re.I):\n",
    "        print(i,end=\"\")"
   ]
  },
  {
   "cell_type": "code",
   "execution_count": 113,
   "id": "f853276f",
   "metadata": {},
   "outputs": [
    {
     "name": "stdout",
     "output_type": "stream",
     "text": [
      "c\\+\\+\n"
     ]
    }
   ],
   "source": [
    "print(re.escape('c++'))"
   ]
  },
  {
   "cell_type": "code",
   "execution_count": 115,
   "id": "933861f7",
   "metadata": {},
   "outputs": [
    {
     "name": "stdout",
     "output_type": "stream",
     "text": [
      "Enter Course Name = c++\n",
      "105,somu,c++,3500\n",
      "113,raghu,c++,3400\n"
     ]
    }
   ],
   "source": [
    "# diplay students information who joined for python\n",
    "course = input(\"Enter Course Name = \") # python,c++\n",
    "fobj = open(fname)\n",
    "for i in fobj:\n",
    "    if re.search(re.escape(course),i,re.I):\n",
    "        print(i,end=\"\")"
   ]
  },
  {
   "cell_type": "code",
   "execution_count": 119,
   "id": "1fd2d4fd",
   "metadata": {},
   "outputs": [
    {
     "name": "stdout",
     "output_type": "stream",
     "text": [
      "Enter Course Name = java script\n",
      "107,tullan,java script,4000\n"
     ]
    }
   ],
   "source": [
    "# diplay students information who joined for python\n",
    "course = input(\"Enter Course Name = \") # python, c++, javascript, java script\n",
    "fobj = open(fname)\n",
    "for i in fobj:\n",
    "    if re.search(re.escape(course),i,re.I):\n",
    "        print(i,end=\"\")"
   ]
  },
  {
   "cell_type": "code",
   "execution_count": 120,
   "id": "c56d73de",
   "metadata": {},
   "outputs": [
    {
     "data": {
      "text/plain": [
       "'welcome'"
      ]
     },
     "execution_count": 120,
     "metadata": {},
     "output_type": "execute_result"
    }
   ],
   "source": [
    "\"  wel  come  \".replace(\" \",\"\")"
   ]
  },
  {
   "cell_type": "code",
   "execution_count": 121,
   "id": "0fcb4eaa",
   "metadata": {},
   "outputs": [
    {
     "data": {
      "text/plain": [
       "['101', 'raju', 'java script', '8000']"
      ]
     },
     "execution_count": 121,
     "metadata": {},
     "output_type": "execute_result"
    }
   ],
   "source": [
    "\"101,raju,java script,8000\".split(\",\")"
   ]
  },
  {
   "cell_type": "code",
   "execution_count": 122,
   "id": "88f88f19",
   "metadata": {},
   "outputs": [
    {
     "data": {
      "text/plain": [
       "'java script'"
      ]
     },
     "execution_count": 122,
     "metadata": {},
     "output_type": "execute_result"
    }
   ],
   "source": [
    "\"101,raju,java script,8000\".split(\",\")[2]"
   ]
  },
  {
   "cell_type": "code",
   "execution_count": 123,
   "id": "e2b3fdcb",
   "metadata": {},
   "outputs": [
    {
     "data": {
      "text/plain": [
       "'javascript'"
      ]
     },
     "execution_count": 123,
     "metadata": {},
     "output_type": "execute_result"
    }
   ],
   "source": [
    "\"101,raju,java script,8000\".split(\",\")[2].replace(\" \",\"\")"
   ]
  },
  {
   "cell_type": "code",
   "execution_count": 124,
   "id": "8354aa85",
   "metadata": {},
   "outputs": [
    {
     "name": "stdout",
     "output_type": "stream",
     "text": [
      "Enter Course Name = java script\n",
      "107,tullan,java script,4000\n",
      "109,ramana,JAVAscript,2800\n",
      "114,dilip,javascript,3500\n"
     ]
    }
   ],
   "source": [
    "# diplay students information who joined for python\n",
    "course = input(\"Enter Course Name = \").replace(\" \",\"\") # python, c++, javascript , java script\n",
    "fobj = open(fname)\n",
    "for i in fobj:\n",
    "    if re.search(re.escape(course),i.split(\",\")[2].replace(\" \",\"\"),re.I):\n",
    "        print(i,end=\"\")"
   ]
  },
  {
   "cell_type": "code",
   "execution_count": 125,
   "id": "1f35729b",
   "metadata": {},
   "outputs": [],
   "source": [
    "import re"
   ]
  },
  {
   "cell_type": "code",
   "execution_count": 126,
   "id": "a7a679c1",
   "metadata": {},
   "outputs": [],
   "source": [
    "fname = 'D:/pfiles/students.txt'"
   ]
  },
  {
   "cell_type": "code",
   "execution_count": 130,
   "id": "09488d47",
   "metadata": {},
   "outputs": [
    {
     "name": "stdout",
     "output_type": "stream",
     "text": [
      "Enter course Name =  p   y   thon  \n",
      "Total students joined for python = 4\n"
     ]
    }
   ],
   "source": [
    "# count number of students joined a specific course\n",
    "fobj = open(fname)\n",
    "course = input(\"Enter course Name = \").replace(\" \",\"\") # python\n",
    "cnt=0\n",
    "for i in fobj:\n",
    "    if re.fullmatch(re.escape(course),i.split(\",\")[2].replace(\" \",\"\"),re.I):\n",
    "        cnt+=1  #cnt = cnt + 1\n",
    "else:\n",
    "    print(\"Total students joined for {} = {}\".format(course,cnt))"
   ]
  },
  {
   "cell_type": "code",
   "execution_count": 131,
   "id": "f1fbac04",
   "metadata": {},
   "outputs": [
    {
     "data": {
      "text/plain": [
       "['101', 'raju', 'java script', '8000']"
      ]
     },
     "execution_count": 131,
     "metadata": {},
     "output_type": "execute_result"
    }
   ],
   "source": [
    "\"101,raju,java script,8000\".split(\",\")"
   ]
  },
  {
   "cell_type": "code",
   "execution_count": 132,
   "id": "57bab87f",
   "metadata": {},
   "outputs": [
    {
     "data": {
      "text/plain": [
       "'8000'"
      ]
     },
     "execution_count": 132,
     "metadata": {},
     "output_type": "execute_result"
    }
   ],
   "source": [
    "\"101,raju,java script,8000\".split(\",\")[3]"
   ]
  },
  {
   "cell_type": "code",
   "execution_count": 133,
   "id": "f5894e95",
   "metadata": {},
   "outputs": [
    {
     "data": {
      "text/plain": [
       "8000"
      ]
     },
     "execution_count": 133,
     "metadata": {},
     "output_type": "execute_result"
    }
   ],
   "source": [
    "int(\"101,raju,java script,8000\".split(\",\")[3])"
   ]
  },
  {
   "cell_type": "raw",
   "id": "ef53a0e2",
   "metadata": {},
   "source": [
    "int(i.split(\",\")[3])"
   ]
  },
  {
   "cell_type": "code",
   "execution_count": null,
   "id": "3181b1c9",
   "metadata": {},
   "outputs": [],
   "source": [
    "# Total revenue for given course\n",
    "fobj = open(fname)\n",
    "course = input(\"Enter course Name = \") # python\n",
    "rev=0\n",
    "for i in fobj:\n",
    "    if re.fullmatch(re.escape(course),i.split(\",\")[2].replace(\" \",\"\"),re.I):\n",
    "        rev=rev+int(i.split(\",\")[3]) \n",
    "else:\n",
    "    print(\"Total Revenue for {} = {}\".format(course,rev))"
   ]
  },
  {
   "cell_type": "code",
   "execution_count": null,
   "id": "7aa4eb96",
   "metadata": {},
   "outputs": [],
   "source": [
    "# Total no of students and revenue for given course\n",
    "fobj = open(fname)\n",
    "course = input(\"Enter course Name = \") # python\n",
    "rev=0\n",
    "cnt=0\n",
    "for i in fobj:\n",
    "    if re.fullmatch(re.escape(course),i.split(\",\")[2].replace(\" \",\"\"),re.I):\n",
    "        rev+=int(i.split(\",\")[3])\n",
    "        cnt+=1\n",
    "else:\n",
    "    print(\"Total students joined for {}={} and Revenue is {}\".format(course,cnt,rev))"
   ]
  },
  {
   "cell_type": "code",
   "execution_count": null,
   "id": "b5b85300",
   "metadata": {},
   "outputs": [],
   "source": [
    "fname"
   ]
  },
  {
   "cell_type": "code",
   "execution_count": null,
   "id": "ea3f3a49",
   "metadata": {},
   "outputs": [],
   "source": [
    "# Total no of students and revenue for given course\n",
    "fobj = open('D:/pfiles/students.txt')\n",
    "course = input(\"Enter course Name = \").replace(\" \",\"\") # python\n",
    "rev=0\n",
    "cnt=0\n",
    "for i in fobj:\n",
    "    if re.fullmatch(re.escape(course),i.split(\",\")[2].replace(\" \",\"\"),re.I):\n",
    "        rev+=int(i.split(\",\")[3])\n",
    "        cnt+=1\n",
    "if cnt==0:\n",
    "    print(\"Given course is not existed\")\n",
    "else:\n",
    "    print(\"Total students joined for {}={} and Revenue is {}\".format(course,cnt,rev))"
   ]
  },
  {
   "cell_type": "code",
   "execution_count": null,
   "id": "12aa4842",
   "metadata": {},
   "outputs": [],
   "source": [
    "try:\n",
    "    fobj = open('D:/pfiles/students.txt')\n",
    "except(FileNotFoundError):\n",
    "    print(\"Given file is not existed in path\")\n",
    "else:\n",
    "    course = input(\"Enter Course Name = \").replace(\" \",\"\")\n",
    "    rev=0\n",
    "    for i in fobj:\n",
    "        if re.fullmatch(re.escape(course),i.split(\",\")[2].replace(\" \",\"\"),re.I):\n",
    "            rev+=int(i.split(\",\")[3])\n",
    "    if rev==0:\n",
    "        print(\"Given Course is not existed\")\n",
    "    else:\n",
    "        print(\"Total Revenue for {} = {}\".format(course,rev))\n",
    "finally:\n",
    "    fobj.close()"
   ]
  },
  {
   "cell_type": "code",
   "execution_count": null,
   "id": "88e96173",
   "metadata": {},
   "outputs": [],
   "source": [
    "try:\n",
    "    fobj = open('D:/pfiles/students.txt')\n",
    "except(FileNotFoundError):\n",
    "    print(\"Given file is not existed in path\")\n",
    "else:\n",
    "    course = input(\"Enter Course Name = \").replace(\" \",\"\")\n",
    "    rev=0\n",
    "    for i in fobj:\n",
    "        if re.fullmatch(re.escape(course),i.split(\",\")[2].replace(\" \",\"\"),re.I):\n",
    "            rev+=int(i.split(\",\")[3])\n",
    "    if rev==0:\n",
    "        print(\"Given Course is not existed\")\n",
    "    else:\n",
    "        print(\"Total Revenue for {} = {}\".format(course,rev))\n",
    "finally:\n",
    "    fobj.close()"
   ]
  },
  {
   "cell_type": "code",
   "execution_count": null,
   "id": "3ef4585e",
   "metadata": {},
   "outputs": [],
   "source": []
  },
  {
   "cell_type": "code",
   "execution_count": null,
   "id": "3d19a831",
   "metadata": {},
   "outputs": [],
   "source": [
    "file = 'D:/pfiles/students.txt'"
   ]
  },
  {
   "cell_type": "code",
   "execution_count": null,
   "id": "8900c9a8",
   "metadata": {},
   "outputs": [],
   "source": [
    "findcourserev(file,'java')"
   ]
  },
  {
   "cell_type": "code",
   "execution_count": null,
   "id": "b739584d",
   "metadata": {},
   "outputs": [],
   "source": [
    "course = input(\"Enter course Name = \")\n",
    "findcourserev(file,course)"
   ]
  },
  {
   "cell_type": "code",
   "execution_count": null,
   "id": "b214bd12",
   "metadata": {},
   "outputs": [],
   "source": [
    "#Write"
   ]
  },
  {
   "cell_type": "code",
   "execution_count": null,
   "id": "bbd37e5c",
   "metadata": {},
   "outputs": [],
   "source": [
    "fobj = open(\"D:/pfiles/file1.txt\",\"w\")"
   ]
  },
  {
   "cell_type": "code",
   "execution_count": null,
   "id": "f6a35749",
   "metadata": {},
   "outputs": [],
   "source": [
    "fobj.write(\"Welcome to Python Files\")"
   ]
  },
  {
   "cell_type": "code",
   "execution_count": null,
   "id": "19f77335",
   "metadata": {},
   "outputs": [],
   "source": [
    "fobj.close()"
   ]
  },
  {
   "cell_type": "code",
   "execution_count": null,
   "id": "1d9bbcb4",
   "metadata": {},
   "outputs": [],
   "source": [
    "fobj1 = open(\"D:/pfiles/file1.txt\",\"w\")"
   ]
  },
  {
   "cell_type": "code",
   "execution_count": null,
   "id": "d1eacb22",
   "metadata": {},
   "outputs": [],
   "source": [
    "fobj1.write(\"Good Morning World!!\")"
   ]
  },
  {
   "cell_type": "code",
   "execution_count": null,
   "id": "9466c62d",
   "metadata": {},
   "outputs": [],
   "source": [
    "fobj1.close()"
   ]
  },
  {
   "cell_type": "code",
   "execution_count": null,
   "id": "7487a6b9",
   "metadata": {},
   "outputs": [],
   "source": [
    "fobj1 = open(\"D:/pfiles/file1.txt\",\"w\")"
   ]
  },
  {
   "cell_type": "code",
   "execution_count": null,
   "id": "5b0f228d",
   "metadata": {},
   "outputs": [],
   "source": [
    "help(fobj1.writelines)"
   ]
  },
  {
   "cell_type": "code",
   "execution_count": null,
   "id": "351992e4",
   "metadata": {},
   "outputs": [],
   "source": [
    "fobj1.writelines([\"python\\n\",'javascript\\n',\"django\\n\"])"
   ]
  },
  {
   "cell_type": "code",
   "execution_count": null,
   "id": "6b53dfae",
   "metadata": {},
   "outputs": [],
   "source": [
    "fobj1.close()"
   ]
  },
  {
   "cell_type": "code",
   "execution_count": null,
   "id": "3455a4a3",
   "metadata": {},
   "outputs": [],
   "source": [
    "type(Exception)"
   ]
  },
  {
   "cell_type": "code",
   "execution_count": null,
   "id": "47d218ef",
   "metadata": {},
   "outputs": [],
   "source": [
    "#userdefined exception\n",
    "class CourseNotFound(Exception):\n",
    "    pass"
   ]
  },
  {
   "cell_type": "code",
   "execution_count": null,
   "id": "3783d3a5",
   "metadata": {},
   "outputs": [],
   "source": [
    "raise CourseNotFound"
   ]
  },
  {
   "cell_type": "code",
   "execution_count": null,
   "id": "a9e9bdff",
   "metadata": {},
   "outputs": [],
   "source": [
    "raise InvalidFee"
   ]
  },
  {
   "cell_type": "code",
   "execution_count": null,
   "id": "17877168",
   "metadata": {},
   "outputs": [],
   "source": [
    "courses = {'python':10000,'react':8000,'javascript':5000,'django':12000}"
   ]
  },
  {
   "cell_type": "code",
   "execution_count": null,
   "id": "fcaf6ada",
   "metadata": {},
   "outputs": [],
   "source": [
    "for course in courses:\n",
    "    print(course)"
   ]
  },
  {
   "cell_type": "code",
   "execution_count": null,
   "id": "bc7ad1bf",
   "metadata": {},
   "outputs": [],
   "source": [
    "\"react\" in courses"
   ]
  },
  {
   "cell_type": "code",
   "execution_count": null,
   "id": "0b494e78",
   "metadata": {},
   "outputs": [],
   "source": [
    "import re"
   ]
  },
  {
   "cell_type": "code",
   "execution_count": null,
   "id": "bb6f11bc",
   "metadata": {},
   "outputs": [],
   "source": [
    "fname = \"D:/pfiles/students.txt\"\n",
    "try:\n",
    "    fobj = open(fname)\n",
    "    course = input(\"Enter Course Name = \") # python\n",
    "    if course not in courses:\n",
    "        raise CourseNotFound\n",
    "except(FileNotFoundError):\n",
    "    print(\"Given File {} is not existed\".format(fname))\n",
    "except(CourseNotFound):\n",
    "    print(\"Given course {} is not existed\".format(course))\n",
    "else:\n",
    "    rev=0\n",
    "    for i in fobj:\n",
    "        if re.fullmatch(re.escape(course),i.split(\",\")[2].replace(\" \",\"\"),re.I):\n",
    "            rev+=int(i.split(\",\")[3])  #rev = rev + int(i.split(\",\")[3])\n",
    "    else:\n",
    "        print(\"Total Revenue for {} = {}\".format(course,rev))\n",
    "finally:\n",
    "    fobj.close()"
   ]
  },
  {
   "cell_type": "code",
   "execution_count": null,
   "id": "208d2d93",
   "metadata": {},
   "outputs": [],
   "source": [
    "#contex manager"
   ]
  },
  {
   "cell_type": "code",
   "execution_count": null,
   "id": "e89bdf18",
   "metadata": {},
   "outputs": [],
   "source": [
    "fname = \"D:/pfiles/students.txt\""
   ]
  },
  {
   "cell_type": "code",
   "execution_count": null,
   "id": "cee00e66",
   "metadata": {},
   "outputs": [],
   "source": [
    "fobj = open(fname)"
   ]
  },
  {
   "cell_type": "code",
   "execution_count": null,
   "id": "5ccf9b9b",
   "metadata": {},
   "outputs": [],
   "source": [
    "fobj.readline()"
   ]
  },
  {
   "cell_type": "code",
   "execution_count": null,
   "id": "79e8028a",
   "metadata": {},
   "outputs": [],
   "source": [
    "for i in fobj:\n",
    "    print(i,end=\"\")"
   ]
  },
  {
   "cell_type": "code",
   "execution_count": null,
   "id": "459b9823",
   "metadata": {},
   "outputs": [],
   "source": [
    "fobj.closed"
   ]
  },
  {
   "cell_type": "code",
   "execution_count": null,
   "id": "c266fc00",
   "metadata": {},
   "outputs": [],
   "source": [
    "fobj.close()"
   ]
  },
  {
   "cell_type": "code",
   "execution_count": null,
   "id": "8b58779e",
   "metadata": {},
   "outputs": [],
   "source": [
    "fobj.closed"
   ]
  },
  {
   "cell_type": "code",
   "execution_count": null,
   "id": "bb61e45b",
   "metadata": {},
   "outputs": [],
   "source": [
    "#context manager\n",
    "with open(fname) as fobj:\n",
    "    for i in fobj:\n",
    "        print(i,end=\"\")"
   ]
  },
  {
   "cell_type": "code",
   "execution_count": null,
   "id": "c8805aac",
   "metadata": {},
   "outputs": [],
   "source": [
    "fobj.closed"
   ]
  },
  {
   "cell_type": "code",
   "execution_count": null,
   "id": "a8775065",
   "metadata": {},
   "outputs": [],
   "source": []
  },
  {
   "cell_type": "code",
   "execution_count": null,
   "id": "0574c680",
   "metadata": {},
   "outputs": [],
   "source": [
    "fname1 = \"D:/pfiles/students.txt\""
   ]
  },
  {
   "cell_type": "code",
   "execution_count": null,
   "id": "798d0ada",
   "metadata": {},
   "outputs": [],
   "source": [
    "fname2 = \"D:/pfiles/students2.txt\""
   ]
  },
  {
   "cell_type": "code",
   "execution_count": null,
   "id": "58373107",
   "metadata": {},
   "outputs": [],
   "source": []
  },
  {
   "cell_type": "code",
   "execution_count": null,
   "id": "b12f9c35",
   "metadata": {},
   "outputs": [],
   "source": [
    "with open(fname1) as fobj1:\n",
    "    with open(fname2,\"w\") as fobj2:\n",
    "        for i in fobj1:\n",
    "            fobj2.write(i)"
   ]
  },
  {
   "cell_type": "code",
   "execution_count": null,
   "id": "1f6ade09",
   "metadata": {},
   "outputs": [],
   "source": [
    "fobj1.closed"
   ]
  },
  {
   "cell_type": "code",
   "execution_count": null,
   "id": "6f776db1",
   "metadata": {},
   "outputs": [],
   "source": [
    "fobj2.closed"
   ]
  },
  {
   "cell_type": "code",
   "execution_count": null,
   "id": "6bbcd5db",
   "metadata": {},
   "outputs": [],
   "source": [
    "#read and write mode  ==> r+"
   ]
  },
  {
   "cell_type": "code",
   "execution_count": null,
   "id": "5ac64d7a",
   "metadata": {},
   "outputs": [],
   "source": [
    "fname = \"D:/pfiles/file1.txt\""
   ]
  },
  {
   "cell_type": "code",
   "execution_count": null,
   "id": "706eb7a1",
   "metadata": {},
   "outputs": [],
   "source": [
    "fobj = open(fname,\"r+\")"
   ]
  },
  {
   "cell_type": "code",
   "execution_count": null,
   "id": "8776f91b",
   "metadata": {},
   "outputs": [],
   "source": [
    "fobj.readline()"
   ]
  },
  {
   "cell_type": "code",
   "execution_count": null,
   "id": "e1efc9a0",
   "metadata": {},
   "outputs": [],
   "source": [
    "fobj.tell()"
   ]
  },
  {
   "cell_type": "code",
   "execution_count": null,
   "id": "7cc1e649",
   "metadata": {},
   "outputs": [],
   "source": [
    "fobj.write(\"Flutter\")"
   ]
  },
  {
   "cell_type": "code",
   "execution_count": null,
   "id": "27826723",
   "metadata": {},
   "outputs": [],
   "source": [
    "fobj.close()"
   ]
  },
  {
   "cell_type": "code",
   "execution_count": null,
   "id": "3b26f4c1",
   "metadata": {},
   "outputs": [],
   "source": [
    "#r+ without reading write "
   ]
  },
  {
   "cell_type": "code",
   "execution_count": null,
   "id": "10afa243",
   "metadata": {},
   "outputs": [],
   "source": [
    "fname"
   ]
  },
  {
   "cell_type": "code",
   "execution_count": null,
   "id": "118fbca7",
   "metadata": {},
   "outputs": [],
   "source": [
    "fobj = open(fname,\"r+\")"
   ]
  },
  {
   "cell_type": "code",
   "execution_count": null,
   "id": "306a01da",
   "metadata": {},
   "outputs": [],
   "source": [
    "fobj.tell()"
   ]
  },
  {
   "cell_type": "code",
   "execution_count": null,
   "id": "fe8aa7ae",
   "metadata": {},
   "outputs": [],
   "source": [
    "fobj.write(\"GraphQL\")"
   ]
  },
  {
   "cell_type": "code",
   "execution_count": null,
   "id": "17704f83",
   "metadata": {},
   "outputs": [],
   "source": [
    "fobj.tell()"
   ]
  },
  {
   "cell_type": "code",
   "execution_count": null,
   "id": "5b98ffea",
   "metadata": {},
   "outputs": [],
   "source": [
    "fobj.close()"
   ]
  },
  {
   "cell_type": "code",
   "execution_count": null,
   "id": "398584c6",
   "metadata": {},
   "outputs": [],
   "source": [
    "#r+ can not write new file"
   ]
  },
  {
   "cell_type": "code",
   "execution_count": null,
   "id": "d79da76f",
   "metadata": {},
   "outputs": [],
   "source": [
    "fobj = open(\"D:/pfiles/file934857.txt\",\"r+\")"
   ]
  },
  {
   "cell_type": "code",
   "execution_count": null,
   "id": "299d31ca",
   "metadata": {},
   "outputs": [],
   "source": [
    "#w+ write and read"
   ]
  },
  {
   "cell_type": "code",
   "execution_count": null,
   "id": "9c570cb5",
   "metadata": {},
   "outputs": [],
   "source": [
    "fobj = open('D:/pfiles/file5.txt',\"w+\")"
   ]
  },
  {
   "cell_type": "code",
   "execution_count": null,
   "id": "baf44d48",
   "metadata": {},
   "outputs": [],
   "source": [
    "fobj.write(\"welcome to python files\")"
   ]
  },
  {
   "cell_type": "code",
   "execution_count": null,
   "id": "effa8e70",
   "metadata": {},
   "outputs": [],
   "source": [
    "fobj.tell()"
   ]
  },
  {
   "cell_type": "code",
   "execution_count": null,
   "id": "2d72e9f4",
   "metadata": {},
   "outputs": [],
   "source": [
    "fobj.read()"
   ]
  },
  {
   "cell_type": "code",
   "execution_count": null,
   "id": "576f75b7",
   "metadata": {},
   "outputs": [],
   "source": [
    "fobj.seek(0)"
   ]
  },
  {
   "cell_type": "code",
   "execution_count": null,
   "id": "94aaea3f",
   "metadata": {},
   "outputs": [],
   "source": [
    "fobj.read()"
   ]
  },
  {
   "cell_type": "code",
   "execution_count": null,
   "id": "c33efe29",
   "metadata": {},
   "outputs": [],
   "source": [
    "fobj.seek(0)"
   ]
  },
  {
   "cell_type": "code",
   "execution_count": null,
   "id": "a9917240",
   "metadata": {},
   "outputs": [],
   "source": [
    "fobj.write(\"Morning\")"
   ]
  },
  {
   "cell_type": "code",
   "execution_count": null,
   "id": "b405d14f",
   "metadata": {},
   "outputs": [],
   "source": [
    "fobj.close()"
   ]
  },
  {
   "cell_type": "code",
   "execution_count": null,
   "id": "54578a70",
   "metadata": {},
   "outputs": [],
   "source": [
    "#append: adding new data"
   ]
  },
  {
   "cell_type": "code",
   "execution_count": null,
   "id": "53a9459b",
   "metadata": {},
   "outputs": [],
   "source": [
    "fname = 'D:/pfiles/file5.txt'"
   ]
  },
  {
   "cell_type": "code",
   "execution_count": null,
   "id": "fd3b77e2",
   "metadata": {},
   "outputs": [],
   "source": [
    "fobj = open(fname,\"a\")"
   ]
  },
  {
   "cell_type": "code",
   "execution_count": null,
   "id": "641f3194",
   "metadata": {},
   "outputs": [],
   "source": [
    "fobj.write(\"\\nNLP\")"
   ]
  },
  {
   "cell_type": "code",
   "execution_count": null,
   "id": "9334d0de",
   "metadata": {},
   "outputs": [],
   "source": [
    "fobj.close()"
   ]
  },
  {
   "cell_type": "code",
   "execution_count": null,
   "id": "7a5279bc",
   "metadata": {},
   "outputs": [],
   "source": [
    "#example2"
   ]
  },
  {
   "cell_type": "code",
   "execution_count": null,
   "id": "3f4f164f",
   "metadata": {},
   "outputs": [],
   "source": [
    "fname"
   ]
  },
  {
   "cell_type": "code",
   "execution_count": null,
   "id": "ee16623d",
   "metadata": {},
   "outputs": [],
   "source": [
    "fobj = open(fname,\"a\")"
   ]
  },
  {
   "cell_type": "code",
   "execution_count": null,
   "id": "688ae2a6",
   "metadata": {},
   "outputs": [],
   "source": [
    "fobj.seek(0)"
   ]
  },
  {
   "cell_type": "code",
   "execution_count": null,
   "id": "64a2359b",
   "metadata": {},
   "outputs": [],
   "source": [
    "fobj.read()"
   ]
  },
  {
   "cell_type": "code",
   "execution_count": null,
   "id": "836d48c3",
   "metadata": {},
   "outputs": [],
   "source": [
    "fobj.readable()"
   ]
  },
  {
   "cell_type": "code",
   "execution_count": null,
   "id": "042dd556",
   "metadata": {},
   "outputs": [],
   "source": [
    "fobj.write(\"\\nAWS\")"
   ]
  },
  {
   "cell_type": "code",
   "execution_count": null,
   "id": "38ea7a85",
   "metadata": {},
   "outputs": [],
   "source": [
    "fobj.close()"
   ]
  },
  {
   "cell_type": "code",
   "execution_count": null,
   "id": "5bd6ecca",
   "metadata": {},
   "outputs": [],
   "source": [
    "#example3"
   ]
  },
  {
   "cell_type": "code",
   "execution_count": null,
   "id": "7c8737db",
   "metadata": {},
   "outputs": [],
   "source": [
    "fname"
   ]
  },
  {
   "cell_type": "code",
   "execution_count": null,
   "id": "084c1ebc",
   "metadata": {},
   "outputs": [],
   "source": [
    "try:\n",
    "    fobj = open(fname,\"a\")\n",
    "    fobj.read()\n",
    "except(UnsupportedOperation):\n",
    "    print(\"Reading is not possible if file is opened in append mode\")"
   ]
  },
  {
   "cell_type": "code",
   "execution_count": null,
   "id": "e11958e8",
   "metadata": {},
   "outputs": [],
   "source": [
    "#example4"
   ]
  },
  {
   "cell_type": "code",
   "execution_count": null,
   "id": "d8f934d7",
   "metadata": {},
   "outputs": [],
   "source": [
    "import builtins"
   ]
  },
  {
   "cell_type": "code",
   "execution_count": null,
   "id": "24a343df",
   "metadata": {},
   "outputs": [],
   "source": [
    "pprint"
   ]
  },
  {
   "cell_type": "code",
   "execution_count": null,
   "id": "dc5e2505",
   "metadata": {},
   "outputs": [],
   "source": [
    "dir(builtins)"
   ]
  },
  {
   "cell_type": "code",
   "execution_count": null,
   "id": "ec073748",
   "metadata": {},
   "outputs": [],
   "source": [
    "class UnsupportedOperation(Exception):\n",
    "    pass"
   ]
  },
  {
   "cell_type": "code",
   "execution_count": null,
   "id": "ffeca2f0",
   "metadata": {},
   "outputs": [],
   "source": [
    "try:\n",
    "    fobj = open(fname,\"a\")\n",
    "    if not fobj.readable():\n",
    "        raise UnsupportedOperation\n",
    "except(FileNotFoundError):\n",
    "    print(\"Given file {} is not existed\".format(fname))\n",
    "except(UnsupportedOperation):\n",
    "    print(\"Your can not read this file because it is in {}=append mode\".format(fobj.mode))\n",
    "else:\n",
    "    data = fobj.read()\n",
    "    print(data)\n",
    "finally:\n",
    "    fobj.close()"
   ]
  },
  {
   "cell_type": "code",
   "execution_count": null,
   "id": "9851c17e",
   "metadata": {},
   "outputs": [],
   "source": [
    "#example3 => if there is no file it will create new file"
   ]
  },
  {
   "cell_type": "code",
   "execution_count": null,
   "id": "2ee68139",
   "metadata": {},
   "outputs": [],
   "source": [
    "fobj = open('D:/pfiles/file666.txt','a')"
   ]
  },
  {
   "cell_type": "code",
   "execution_count": null,
   "id": "3be6f4aa",
   "metadata": {},
   "outputs": [],
   "source": [
    "fobj.close()"
   ]
  },
  {
   "cell_type": "code",
   "execution_count": null,
   "id": "a4e634f9",
   "metadata": {},
   "outputs": [],
   "source": [
    "#append+ => a+"
   ]
  },
  {
   "cell_type": "code",
   "execution_count": null,
   "id": "0760ef58",
   "metadata": {},
   "outputs": [],
   "source": [
    "fobj = open('D:/pfiles/file5.txt','a+')"
   ]
  },
  {
   "cell_type": "code",
   "execution_count": null,
   "id": "8bc810d2",
   "metadata": {},
   "outputs": [],
   "source": [
    "fobj.write(\"\\npandas\")"
   ]
  },
  {
   "cell_type": "code",
   "execution_count": null,
   "id": "a9227ac6",
   "metadata": {},
   "outputs": [],
   "source": [
    "fobj.read()"
   ]
  },
  {
   "cell_type": "code",
   "execution_count": null,
   "id": "25df1b0b",
   "metadata": {},
   "outputs": [],
   "source": [
    "fobj.seek(0)"
   ]
  },
  {
   "cell_type": "code",
   "execution_count": null,
   "id": "cfb7f803",
   "metadata": {},
   "outputs": [],
   "source": [
    "fobj.read()"
   ]
  },
  {
   "cell_type": "code",
   "execution_count": null,
   "id": "e0432e1a",
   "metadata": {},
   "outputs": [],
   "source": [
    "fobj.close()"
   ]
  },
  {
   "cell_type": "code",
   "execution_count": null,
   "id": "87178ce7",
   "metadata": {},
   "outputs": [],
   "source": [
    "#Working with binary data"
   ]
  },
  {
   "cell_type": "code",
   "execution_count": null,
   "id": "f5d44959",
   "metadata": {},
   "outputs": [],
   "source": [
    "fobj1 = open(\"D:/pfiles/sample.pdf\",\"rb\")\n",
    "fobj2 = open(\"D:/pfiles/sample2.pdf\",\"wb\")"
   ]
  },
  {
   "cell_type": "code",
   "execution_count": null,
   "id": "81d9c865",
   "metadata": {},
   "outputs": [],
   "source": [
    "pdfdata = fobj1.read()"
   ]
  },
  {
   "cell_type": "code",
   "execution_count": null,
   "id": "183ff3c6",
   "metadata": {},
   "outputs": [],
   "source": [
    "type(pdfdata)"
   ]
  },
  {
   "cell_type": "code",
   "execution_count": null,
   "id": "f70a9c21",
   "metadata": {},
   "outputs": [],
   "source": [
    "fobj2.write(pdfdata)"
   ]
  },
  {
   "cell_type": "code",
   "execution_count": null,
   "id": "c2a92773",
   "metadata": {},
   "outputs": [],
   "source": [
    "fobj2.close()"
   ]
  },
  {
   "cell_type": "code",
   "execution_count": null,
   "id": "0f972d22",
   "metadata": {},
   "outputs": [],
   "source": [
    "fobj1.close()"
   ]
  },
  {
   "cell_type": "code",
   "execution_count": null,
   "id": "d2e12057",
   "metadata": {},
   "outputs": [],
   "source": [
    "#Example2"
   ]
  },
  {
   "cell_type": "code",
   "execution_count": null,
   "id": "657cdb7a",
   "metadata": {},
   "outputs": [],
   "source": [
    "fobj1 = open(\"D:/pfiles/tommy.jpg\",\"rb\")\n",
    "fobj2 = open(\"D:/pfiles/tommy2.jpg\",\"wb\")\n",
    "fobj3 = open(\"D:/pfiles/tommy3.jpg\",\"wb\")"
   ]
  },
  {
   "cell_type": "code",
   "execution_count": null,
   "id": "23252297",
   "metadata": {},
   "outputs": [],
   "source": [
    "imagedata = fobj1.read()"
   ]
  },
  {
   "cell_type": "code",
   "execution_count": null,
   "id": "2b0a1793",
   "metadata": {},
   "outputs": [],
   "source": [
    "fobj2.write(imagedata)"
   ]
  },
  {
   "cell_type": "code",
   "execution_count": null,
   "id": "2971d2a1",
   "metadata": {},
   "outputs": [],
   "source": [
    "fobj2.close()"
   ]
  },
  {
   "cell_type": "code",
   "execution_count": null,
   "id": "c17b61f1",
   "metadata": {},
   "outputs": [],
   "source": [
    "fobj1.seek(0)"
   ]
  },
  {
   "cell_type": "code",
   "execution_count": null,
   "id": "baafd84e",
   "metadata": {},
   "outputs": [],
   "source": [
    "imagedata2 = fobj1.read(35000)"
   ]
  },
  {
   "cell_type": "code",
   "execution_count": null,
   "id": "09d43cba",
   "metadata": {},
   "outputs": [],
   "source": [
    "fobj3.write(imagedata2)"
   ]
  },
  {
   "cell_type": "code",
   "execution_count": null,
   "id": "d0a2287f",
   "metadata": {},
   "outputs": [],
   "source": [
    "fobj3.close()"
   ]
  },
  {
   "cell_type": "code",
   "execution_count": null,
   "id": "be593ec7",
   "metadata": {},
   "outputs": [],
   "source": [
    "fobj1.close()"
   ]
  },
  {
   "cell_type": "code",
   "execution_count": null,
   "id": "f17463b9",
   "metadata": {},
   "outputs": [],
   "source": [
    "#flush"
   ]
  },
  {
   "cell_type": "code",
   "execution_count": null,
   "id": "1889cedf",
   "metadata": {},
   "outputs": [],
   "source": [
    "fname = \"D:/pfiles/file6677.txt\""
   ]
  },
  {
   "cell_type": "code",
   "execution_count": null,
   "id": "37f70a54",
   "metadata": {},
   "outputs": [],
   "source": [
    "fobj = open(fname,\"w\")"
   ]
  },
  {
   "cell_type": "code",
   "execution_count": null,
   "id": "62b06cf4",
   "metadata": {},
   "outputs": [],
   "source": [
    "fobj.write(\"python\\n\")"
   ]
  },
  {
   "cell_type": "code",
   "execution_count": null,
   "id": "59df7512",
   "metadata": {},
   "outputs": [],
   "source": [
    "fobj.flush()"
   ]
  },
  {
   "cell_type": "code",
   "execution_count": null,
   "id": "c9174566",
   "metadata": {},
   "outputs": [],
   "source": [
    "fobj.write(\"django\\n\")"
   ]
  },
  {
   "cell_type": "code",
   "execution_count": null,
   "id": "027061f3",
   "metadata": {},
   "outputs": [],
   "source": [
    "fobj.flush()"
   ]
  },
  {
   "cell_type": "code",
   "execution_count": null,
   "id": "c8a2af01",
   "metadata": {},
   "outputs": [],
   "source": [
    "fobj.write(\"nodejs\\n\")"
   ]
  },
  {
   "cell_type": "code",
   "execution_count": null,
   "id": "4560036a",
   "metadata": {},
   "outputs": [],
   "source": [
    "fobj.close()"
   ]
  },
  {
   "cell_type": "code",
   "execution_count": null,
   "id": "c0c471c9",
   "metadata": {},
   "outputs": [],
   "source": []
  }
 ],
 "metadata": {
  "kernelspec": {
   "display_name": "Python 3 (ipykernel)",
   "language": "python",
   "name": "python3"
  },
  "language_info": {
   "codemirror_mode": {
    "name": "ipython",
    "version": 3
   },
   "file_extension": ".py",
   "mimetype": "text/x-python",
   "name": "python",
   "nbconvert_exporter": "python",
   "pygments_lexer": "ipython3",
   "version": "3.9.18"
  }
 },
 "nbformat": 4,
 "nbformat_minor": 5
}
