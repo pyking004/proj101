{
 "cells": [
  {
   "cell_type": "code",
   "execution_count": null,
   "id": "f8b569b5",
   "metadata": {},
   "outputs": [],
   "source": [
    "#Exceptions\n",
    "#try....except...else....finally\n",
    "#try block should contain error code\n",
    "#except this block will execute when there is error which is mentioned in exception\n",
    "#else : this block will execute when there is no error\n",
    "#finally: this block will execute always\n",
    "#case1 : error is existed \n",
    "#case2 : no error \n",
    "#case3 : error existed but not handle by except block(becasue error not mentioned)"
   ]
  },
  {
   "cell_type": "raw",
   "id": "17200737",
   "metadata": {},
   "source": [
    "exception syntax\n",
    "================\n",
    "try:\n",
    "    error code\n",
    "except(er1,er2,...,ern):\n",
    "    exception code\n",
    "else:\n",
    "    code will execute when there is no error\n",
    "finally:\n",
    "    code will execute always"
   ]
  },
  {
   "cell_type": "raw",
   "id": "2fbb074f",
   "metadata": {},
   "source": [
    "#case1 : error is existed \n",
    "try:\n",
    "    error code\n",
    "except(er1,er2,...,ern):\n",
    "    exception code\n",
    "finally:\n",
    "    code will execute always"
   ]
  },
  {
   "cell_type": "raw",
   "id": "c318f2d5",
   "metadata": {},
   "source": [
    "#case2 : no error \n",
    "try:\n",
    "    error code\n",
    "else:\n",
    "    code will execute when there is no error\n",
    "finally:\n",
    "    code will execute always"
   ]
  },
  {
   "cell_type": "raw",
   "id": "bd0786dd",
   "metadata": {},
   "source": [
    "#case3 : error existed but not handle by except block(becasue error not mentioned)\n",
    "try:\n",
    "    error code\n",
    "finally:\n",
    "    code will execute always"
   ]
  },
  {
   "cell_type": "code",
   "execution_count": 1,
   "id": "591dd061",
   "metadata": {},
   "outputs": [
    {
     "ename": "TypeError",
     "evalue": "can only concatenate str (not \"int\") to str",
     "output_type": "error",
     "traceback": [
      "\u001b[1;31m---------------------------------------------------------------------------\u001b[0m",
      "\u001b[1;31mTypeError\u001b[0m                                 Traceback (most recent call last)",
      "Cell \u001b[1;32mIn[1], line 1\u001b[0m\n\u001b[1;32m----> 1\u001b[0m \u001b[38;5;28mprint\u001b[39m(\u001b[38;5;124;43m\"\u001b[39;49m\u001b[38;5;124;43mHi\u001b[39;49m\u001b[38;5;124;43m\"\u001b[39;49m\u001b[38;5;241;43m+\u001b[39;49m\u001b[38;5;241;43m100\u001b[39;49m)\n",
      "\u001b[1;31mTypeError\u001b[0m: can only concatenate str (not \"int\") to str"
     ]
    }
   ],
   "source": [
    "print(\"Hi\"+100)"
   ]
  },
  {
   "cell_type": "code",
   "execution_count": 2,
   "id": "c9fc858f",
   "metadata": {},
   "outputs": [
    {
     "name": "stdout",
     "output_type": "stream",
     "text": [
      "welcome to python coding\n"
     ]
    },
    {
     "ename": "TypeError",
     "evalue": "unsupported operand type(s) for +: 'int' and 'str'",
     "output_type": "error",
     "traceback": [
      "\u001b[1;31m---------------------------------------------------------------------------\u001b[0m",
      "\u001b[1;31mTypeError\u001b[0m                                 Traceback (most recent call last)",
      "Cell \u001b[1;32mIn[2], line 2\u001b[0m\n\u001b[0;32m      1\u001b[0m \u001b[38;5;28mprint\u001b[39m(\u001b[38;5;124m\"\u001b[39m\u001b[38;5;124mwelcome to python coding\u001b[39m\u001b[38;5;124m\"\u001b[39m)\n\u001b[1;32m----> 2\u001b[0m \u001b[38;5;28mprint\u001b[39m(\u001b[38;5;241;43m100\u001b[39;49m\u001b[38;5;241;43m+\u001b[39;49m\u001b[38;5;124;43m'\u001b[39;49m\u001b[38;5;124;43mhi\u001b[39;49m\u001b[38;5;124;43m'\u001b[39;49m)\n\u001b[0;32m      3\u001b[0m \u001b[38;5;28mprint\u001b[39m(\u001b[38;5;124m\"\u001b[39m\u001b[38;5;124mThanks for coding\u001b[39m\u001b[38;5;124m\"\u001b[39m)\n",
      "\u001b[1;31mTypeError\u001b[0m: unsupported operand type(s) for +: 'int' and 'str'"
     ]
    }
   ],
   "source": [
    "print(\"welcome to python coding\")\n",
    "print(100+'hi')\n",
    "print(\"Thanks for coding\")"
   ]
  },
  {
   "cell_type": "code",
   "execution_count": 3,
   "id": "332916c5",
   "metadata": {},
   "outputs": [
    {
     "ename": "SyntaxError",
     "evalue": "invalid syntax (3121647379.py, line 5)",
     "output_type": "error",
     "traceback": [
      "\u001b[1;36m  Cell \u001b[1;32mIn[3], line 5\u001b[1;36m\u001b[0m\n\u001b[1;33m    print(\"after exception\")\u001b[0m\n\u001b[1;37m    ^\u001b[0m\n\u001b[1;31mSyntaxError\u001b[0m\u001b[1;31m:\u001b[0m invalid syntax\n"
     ]
    }
   ],
   "source": [
    "#else and finally block are optional\n",
    "print(\"before exception\")\n",
    "try:\n",
    "    print(\"Hi\"+100)\n",
    "print(\"after exception\")"
   ]
  },
  {
   "cell_type": "code",
   "execution_count": 4,
   "id": "c6ebb58b",
   "metadata": {},
   "outputs": [
    {
     "name": "stdout",
     "output_type": "stream",
     "text": [
      "welcome to py coding\n",
      "Both should be strings or integers\n",
      "Thanks for coding\n"
     ]
    }
   ],
   "source": [
    "#else and finally block are optional\n",
    "print(\"welcome to py coding\")\n",
    "try:\n",
    "    print(100+'hi')\n",
    "except(TypeError):\n",
    "    print(\"Both should be strings or integers\")\n",
    "print(\"Thanks for coding\")"
   ]
  },
  {
   "cell_type": "code",
   "execution_count": 5,
   "id": "750b3f32",
   "metadata": {},
   "outputs": [
    {
     "name": "stdout",
     "output_type": "stream",
     "text": [
      "Enter something = 100\n"
     ]
    },
    {
     "data": {
      "text/plain": [
       "str"
      ]
     },
     "execution_count": 5,
     "metadata": {},
     "output_type": "execute_result"
    }
   ],
   "source": [
    "v1=input(\"Enter something = \")\n",
    "type(v1)"
   ]
  },
  {
   "cell_type": "code",
   "execution_count": 8,
   "id": "19c4cbba",
   "metadata": {},
   "outputs": [
    {
     "name": "stdout",
     "output_type": "stream",
     "text": [
      "Enter a value = hi\n"
     ]
    },
    {
     "ename": "ValueError",
     "evalue": "invalid literal for int() with base 10: 'hi'",
     "output_type": "error",
     "traceback": [
      "\u001b[1;31m---------------------------------------------------------------------------\u001b[0m",
      "\u001b[1;31mValueError\u001b[0m                                Traceback (most recent call last)",
      "Cell \u001b[1;32mIn[8], line 1\u001b[0m\n\u001b[1;32m----> 1\u001b[0m v1 \u001b[38;5;241m=\u001b[39m \u001b[38;5;28;43mint\u001b[39;49m\u001b[43m(\u001b[49m\u001b[38;5;28;43minput\u001b[39;49m\u001b[43m(\u001b[49m\u001b[38;5;124;43m\"\u001b[39;49m\u001b[38;5;124;43mEnter a value = \u001b[39;49m\u001b[38;5;124;43m\"\u001b[39;49m\u001b[43m)\u001b[49m\u001b[43m)\u001b[49m\n\u001b[0;32m      2\u001b[0m \u001b[38;5;28mprint\u001b[39m(v1)\n\u001b[0;32m      3\u001b[0m \u001b[38;5;28mprint\u001b[39m(\u001b[38;5;28mtype\u001b[39m(v1))\n",
      "\u001b[1;31mValueError\u001b[0m: invalid literal for int() with base 10: 'hi'"
     ]
    }
   ],
   "source": [
    "v1 = int(input(\"Enter a value = \"))\n",
    "print(v1)\n",
    "print(type(v1))"
   ]
  },
  {
   "cell_type": "code",
   "execution_count": 11,
   "id": "d5949c5b",
   "metadata": {},
   "outputs": [
    {
     "name": "stdout",
     "output_type": "stream",
     "text": [
      "Enter a value = hi\n",
      "Strings and Float values can not be converted into Integer\n",
      "Thanks\n",
      "after exception\n"
     ]
    }
   ],
   "source": [
    "try:\n",
    "    v1 = int(input(\"Enter a value = \"))  # 100, 10.45, hi\n",
    "except(ValueError):\n",
    "    print(\"Strings and Float values can not be converted into Integer\")\n",
    "else:\n",
    "    print(\"Your Entered value is {}\".format(v1))\n",
    "finally:\n",
    "    print(\"Thanks\")\n",
    "print(\"after exception\")"
   ]
  },
  {
   "cell_type": "code",
   "execution_count": 12,
   "id": "75dedc41",
   "metadata": {},
   "outputs": [],
   "source": [
    "L1=[10,20,30,40,50]"
   ]
  },
  {
   "cell_type": "code",
   "execution_count": 13,
   "id": "8e5f6713",
   "metadata": {},
   "outputs": [
    {
     "ename": "IndexError",
     "evalue": "list index out of range",
     "output_type": "error",
     "traceback": [
      "\u001b[1;31m---------------------------------------------------------------------------\u001b[0m",
      "\u001b[1;31mIndexError\u001b[0m                                Traceback (most recent call last)",
      "Cell \u001b[1;32mIn[13], line 1\u001b[0m\n\u001b[1;32m----> 1\u001b[0m \u001b[43mL1\u001b[49m\u001b[43m[\u001b[49m\u001b[38;5;241;43m8\u001b[39;49m\u001b[43m]\u001b[49m\n",
      "\u001b[1;31mIndexError\u001b[0m: list index out of range"
     ]
    }
   ],
   "source": [
    "L1[8]"
   ]
  },
  {
   "cell_type": "code",
   "execution_count": 14,
   "id": "d5307839",
   "metadata": {},
   "outputs": [],
   "source": [
    "D1={'a':'apple','b':'banana'}"
   ]
  },
  {
   "cell_type": "code",
   "execution_count": 15,
   "id": "96ff6e25",
   "metadata": {},
   "outputs": [
    {
     "ename": "KeyError",
     "evalue": "'c'",
     "output_type": "error",
     "traceback": [
      "\u001b[1;31m---------------------------------------------------------------------------\u001b[0m",
      "\u001b[1;31mKeyError\u001b[0m                                  Traceback (most recent call last)",
      "Cell \u001b[1;32mIn[15], line 1\u001b[0m\n\u001b[1;32m----> 1\u001b[0m \u001b[43mD1\u001b[49m\u001b[43m[\u001b[49m\u001b[38;5;124;43m'\u001b[39;49m\u001b[38;5;124;43mc\u001b[39;49m\u001b[38;5;124;43m'\u001b[39;49m\u001b[43m]\u001b[49m\n",
      "\u001b[1;31mKeyError\u001b[0m: 'c'"
     ]
    }
   ],
   "source": [
    "D1['c']"
   ]
  },
  {
   "cell_type": "code",
   "execution_count": 16,
   "id": "3c15c88a",
   "metadata": {},
   "outputs": [],
   "source": [
    "import time"
   ]
  },
  {
   "cell_type": "code",
   "execution_count": 17,
   "id": "34b15b90",
   "metadata": {},
   "outputs": [
    {
     "data": {
      "text/plain": [
       "module"
      ]
     },
     "execution_count": 17,
     "metadata": {},
     "output_type": "execute_result"
    }
   ],
   "source": [
    "type(time)"
   ]
  },
  {
   "cell_type": "code",
   "execution_count": 18,
   "id": "b96d153c",
   "metadata": {},
   "outputs": [
    {
     "name": "stdout",
     "output_type": "stream",
     "text": [
      "1\n",
      "2\n",
      "3\n",
      "4\n"
     ]
    },
    {
     "ename": "KeyboardInterrupt",
     "evalue": "",
     "output_type": "error",
     "traceback": [
      "\u001b[1;31m---------------------------------------------------------------------------\u001b[0m",
      "\u001b[1;31mKeyboardInterrupt\u001b[0m                         Traceback (most recent call last)",
      "Cell \u001b[1;32mIn[18], line 3\u001b[0m\n\u001b[0;32m      1\u001b[0m \u001b[38;5;28;01mfor\u001b[39;00m i \u001b[38;5;129;01min\u001b[39;00m \u001b[38;5;28mrange\u001b[39m(\u001b[38;5;241m1\u001b[39m,\u001b[38;5;241m1000\u001b[39m):\n\u001b[0;32m      2\u001b[0m     \u001b[38;5;28mprint\u001b[39m(i)\n\u001b[1;32m----> 3\u001b[0m     \u001b[43mtime\u001b[49m\u001b[38;5;241;43m.\u001b[39;49m\u001b[43msleep\u001b[49m\u001b[43m(\u001b[49m\u001b[38;5;241;43m3\u001b[39;49m\u001b[43m)\u001b[49m\n",
      "\u001b[1;31mKeyboardInterrupt\u001b[0m: "
     ]
    }
   ],
   "source": [
    "for i in range(1,1000):\n",
    "    print(i)\n",
    "    time.sleep(3)"
   ]
  },
  {
   "cell_type": "code",
   "execution_count": 19,
   "id": "075ecc7b",
   "metadata": {},
   "outputs": [
    {
     "ename": "ZeroDivisionError",
     "evalue": "division by zero",
     "output_type": "error",
     "traceback": [
      "\u001b[1;31m---------------------------------------------------------------------------\u001b[0m",
      "\u001b[1;31mZeroDivisionError\u001b[0m                         Traceback (most recent call last)",
      "Cell \u001b[1;32mIn[19], line 1\u001b[0m\n\u001b[1;32m----> 1\u001b[0m \u001b[38;5;241;43m15\u001b[39;49m\u001b[38;5;241;43m/\u001b[39;49m\u001b[38;5;241;43m0\u001b[39;49m\n",
      "\u001b[1;31mZeroDivisionError\u001b[0m: division by zero"
     ]
    }
   ],
   "source": [
    "15/0"
   ]
  },
  {
   "cell_type": "code",
   "execution_count": 20,
   "id": "587df933",
   "metadata": {},
   "outputs": [
    {
     "ename": "TypeError",
     "evalue": "can only concatenate str (not \"int\") to str",
     "output_type": "error",
     "traceback": [
      "\u001b[1;31m---------------------------------------------------------------------------\u001b[0m",
      "\u001b[1;31mTypeError\u001b[0m                                 Traceback (most recent call last)",
      "Cell \u001b[1;32mIn[20], line 1\u001b[0m\n\u001b[1;32m----> 1\u001b[0m \u001b[38;5;28mprint\u001b[39m(\u001b[38;5;124;43m\"\u001b[39;49m\u001b[38;5;124;43mhi\u001b[39;49m\u001b[38;5;124;43m\"\u001b[39;49m\u001b[38;5;241;43m+\u001b[39;49m\u001b[38;5;241;43m100\u001b[39;49m)\n",
      "\u001b[1;31mTypeError\u001b[0m: can only concatenate str (not \"int\") to str"
     ]
    }
   ],
   "source": [
    "print(\"hi\"+100)"
   ]
  },
  {
   "cell_type": "code",
   "execution_count": 21,
   "id": "dfd9799e",
   "metadata": {},
   "outputs": [
    {
     "name": "stdout",
     "output_type": "stream",
     "text": [
      "Unknown Error\n",
      "After exception\n"
     ]
    }
   ],
   "source": [
    "try:\n",
    "    print(\"hi\"+100)\n",
    "except(Exception):\n",
    "    print(\"Unknown Error\")\n",
    "print(\"After exception\")"
   ]
  },
  {
   "cell_type": "code",
   "execution_count": 22,
   "id": "13b7c04d",
   "metadata": {},
   "outputs": [
    {
     "name": "stdout",
     "output_type": "stream",
     "text": [
      "Unknown Error\n"
     ]
    }
   ],
   "source": [
    "try:\n",
    "    print(\"hi\"+100)\n",
    "except Exception as err:\n",
    "    print(\"Unknown Error\")"
   ]
  },
  {
   "cell_type": "code",
   "execution_count": 23,
   "id": "e2b7fd82",
   "metadata": {},
   "outputs": [
    {
     "name": "stdout",
     "output_type": "stream",
     "text": [
      "<built-in method with_traceback of TypeError object at 0x0000024FEE7E5130>\n"
     ]
    }
   ],
   "source": [
    "try:\n",
    "    print(\"hi\"+100)\n",
    "except Exception as err:\n",
    "    print(err.with_traceback)"
   ]
  },
  {
   "cell_type": "code",
   "execution_count": 24,
   "id": "3bf3c137",
   "metadata": {},
   "outputs": [
    {
     "ename": "TypeError",
     "evalue": "can only concatenate str (not \"int\") to str",
     "output_type": "error",
     "traceback": [
      "\u001b[1;31m---------------------------------------------------------------------------\u001b[0m",
      "\u001b[1;31mTypeError\u001b[0m                                 Traceback (most recent call last)",
      "Cell \u001b[1;32mIn[24], line 1\u001b[0m\n\u001b[1;32m----> 1\u001b[0m \u001b[38;5;28mprint\u001b[39m(\u001b[38;5;124;43m\"\u001b[39;49m\u001b[38;5;124;43mhi\u001b[39;49m\u001b[38;5;124;43m\"\u001b[39;49m\u001b[38;5;241;43m+\u001b[39;49m\u001b[38;5;241;43m100\u001b[39;49m)\n",
      "\u001b[1;31mTypeError\u001b[0m: can only concatenate str (not \"int\") to str"
     ]
    }
   ],
   "source": [
    "print(\"hi\"+100)"
   ]
  },
  {
   "cell_type": "code",
   "execution_count": 25,
   "id": "895d1aea",
   "metadata": {},
   "outputs": [
    {
     "name": "stdout",
     "output_type": "stream",
     "text": [
      "('can only concatenate str (not \"int\") to str',)\n"
     ]
    }
   ],
   "source": [
    "try:\n",
    "    print(\"hi\"+100)\n",
    "except Exception as err:\n",
    "    print(err.args)"
   ]
  },
  {
   "cell_type": "code",
   "execution_count": 26,
   "id": "ec5228b6",
   "metadata": {},
   "outputs": [
    {
     "name": "stdout",
     "output_type": "stream",
     "text": [
      "<method 'with_traceback' of 'BaseException' objects>\n"
     ]
    }
   ],
   "source": [
    "try:\n",
    "    print(\"hi\"+100)\n",
    "except Exception:\n",
    "    print(Exception.with_traceback)"
   ]
  },
  {
   "cell_type": "code",
   "execution_count": 27,
   "id": "0e02a811",
   "metadata": {},
   "outputs": [],
   "source": [
    "import builtins"
   ]
  },
  {
   "cell_type": "code",
   "execution_count": 28,
   "id": "5e83e92a",
   "metadata": {},
   "outputs": [
    {
     "data": {
      "text/plain": [
       "module"
      ]
     },
     "execution_count": 28,
     "metadata": {},
     "output_type": "execute_result"
    }
   ],
   "source": [
    "type(builtins)"
   ]
  },
  {
   "cell_type": "code",
   "execution_count": 29,
   "id": "ec207339",
   "metadata": {},
   "outputs": [
    {
     "name": "stdout",
     "output_type": "stream",
     "text": [
      "Pretty printing has been turned OFF\n"
     ]
    }
   ],
   "source": [
    "pprint"
   ]
  },
  {
   "cell_type": "code",
   "execution_count": 30,
   "id": "b47d8e63",
   "metadata": {},
   "outputs": [
    {
     "data": {
      "text/plain": [
       "['ArithmeticError', 'AssertionError', 'AttributeError', 'BaseException', 'BlockingIOError', 'BrokenPipeError', 'BufferError', 'BytesWarning', 'ChildProcessError', 'ConnectionAbortedError', 'ConnectionError', 'ConnectionRefusedError', 'ConnectionResetError', 'DeprecationWarning', 'EOFError', 'Ellipsis', 'EnvironmentError', 'Exception', 'False', 'FileExistsError', 'FileNotFoundError', 'FloatingPointError', 'FutureWarning', 'GeneratorExit', 'IOError', 'ImportError', 'ImportWarning', 'IndentationError', 'IndexError', 'InterruptedError', 'IsADirectoryError', 'KeyError', 'KeyboardInterrupt', 'LookupError', 'MemoryError', 'ModuleNotFoundError', 'NameError', 'None', 'NotADirectoryError', 'NotImplemented', 'NotImplementedError', 'OSError', 'OverflowError', 'PendingDeprecationWarning', 'PermissionError', 'ProcessLookupError', 'RecursionError', 'ReferenceError', 'ResourceWarning', 'RuntimeError', 'RuntimeWarning', 'StopAsyncIteration', 'StopIteration', 'SyntaxError', 'SyntaxWarning', 'SystemError', 'SystemExit', 'TabError', 'TimeoutError', 'True', 'TypeError', 'UnboundLocalError', 'UnicodeDecodeError', 'UnicodeEncodeError', 'UnicodeError', 'UnicodeTranslateError', 'UnicodeWarning', 'UserWarning', 'ValueError', 'Warning', 'WindowsError', 'ZeroDivisionError', '__IPYTHON__', '__build_class__', '__debug__', '__doc__', '__import__', '__loader__', '__name__', '__package__', '__spec__', 'abs', 'all', 'any', 'ascii', 'bin', 'bool', 'breakpoint', 'bytearray', 'bytes', 'callable', 'chr', 'classmethod', 'compile', 'complex', 'copyright', 'credits', 'delattr', 'dict', 'dir', 'display', 'divmod', 'enumerate', 'eval', 'exec', 'execfile', 'filter', 'float', 'format', 'frozenset', 'get_ipython', 'getattr', 'globals', 'hasattr', 'hash', 'help', 'hex', 'id', 'input', 'int', 'isinstance', 'issubclass', 'iter', 'len', 'license', 'list', 'locals', 'map', 'max', 'memoryview', 'min', 'next', 'object', 'oct', 'open', 'ord', 'pow', 'print', 'property', 'range', 'repr', 'reversed', 'round', 'runfile', 'set', 'setattr', 'slice', 'sorted', 'staticmethod', 'str', 'sum', 'super', 'tuple', 'type', 'vars', 'zip']"
      ]
     },
     "execution_count": 30,
     "metadata": {},
     "output_type": "execute_result"
    }
   ],
   "source": [
    "dir(builtins)"
   ]
  },
  {
   "cell_type": "code",
   "execution_count": 31,
   "id": "c7ed6550",
   "metadata": {},
   "outputs": [
    {
     "ename": "NameError",
     "evalue": "name 'm' is not defined",
     "output_type": "error",
     "traceback": [
      "\u001b[1;31m---------------------------------------------------------------------------\u001b[0m",
      "\u001b[1;31mNameError\u001b[0m                                 Traceback (most recent call last)",
      "Cell \u001b[1;32mIn[31], line 1\u001b[0m\n\u001b[1;32m----> 1\u001b[0m \u001b[43mm\u001b[49m\n",
      "\u001b[1;31mNameError\u001b[0m: name 'm' is not defined"
     ]
    }
   ],
   "source": [
    "m"
   ]
  },
  {
   "cell_type": "code",
   "execution_count": 32,
   "id": "389fb0d8",
   "metadata": {},
   "outputs": [
    {
     "name": "stdout",
     "output_type": "stream",
     "text": [
      "variable is not defined\n"
     ]
    }
   ],
   "source": [
    "m=100\n",
    "try:\n",
    "    print(n)\n",
    "except(NameError):\n",
    "    print(\"variable is not defined\")"
   ]
  },
  {
   "cell_type": "code",
   "execution_count": 33,
   "id": "4caf8fbc",
   "metadata": {},
   "outputs": [],
   "source": [
    "D1={1:'apple',2:'banana'}"
   ]
  },
  {
   "cell_type": "code",
   "execution_count": 34,
   "id": "1fc35807",
   "metadata": {},
   "outputs": [
    {
     "data": {
      "text/plain": [
       "'apple'"
      ]
     },
     "execution_count": 34,
     "metadata": {},
     "output_type": "execute_result"
    }
   ],
   "source": [
    "D1[1]"
   ]
  },
  {
   "cell_type": "code",
   "execution_count": 35,
   "id": "ad2c77e0",
   "metadata": {},
   "outputs": [
    {
     "ename": "KeyError",
     "evalue": "'a'",
     "output_type": "error",
     "traceback": [
      "\u001b[1;31m---------------------------------------------------------------------------\u001b[0m",
      "\u001b[1;31mKeyError\u001b[0m                                  Traceback (most recent call last)",
      "Cell \u001b[1;32mIn[35], line 1\u001b[0m\n\u001b[1;32m----> 1\u001b[0m \u001b[43mD1\u001b[49m\u001b[43m[\u001b[49m\u001b[38;5;124;43m\"\u001b[39;49m\u001b[38;5;124;43ma\u001b[39;49m\u001b[38;5;124;43m\"\u001b[39;49m\u001b[43m]\u001b[49m\n",
      "\u001b[1;31mKeyError\u001b[0m: 'a'"
     ]
    }
   ],
   "source": [
    "D1[\"a\"]"
   ]
  },
  {
   "cell_type": "code",
   "execution_count": 36,
   "id": "36100755",
   "metadata": {},
   "outputs": [
    {
     "ename": "KeyError",
     "evalue": "3",
     "output_type": "error",
     "traceback": [
      "\u001b[1;31m---------------------------------------------------------------------------\u001b[0m",
      "\u001b[1;31mKeyError\u001b[0m                                  Traceback (most recent call last)",
      "Cell \u001b[1;32mIn[36], line 1\u001b[0m\n\u001b[1;32m----> 1\u001b[0m \u001b[43mD1\u001b[49m\u001b[43m[\u001b[49m\u001b[38;5;241;43m3\u001b[39;49m\u001b[43m]\u001b[49m\n",
      "\u001b[1;31mKeyError\u001b[0m: 3"
     ]
    }
   ],
   "source": [
    "D1[3]"
   ]
  },
  {
   "cell_type": "code",
   "execution_count": 37,
   "id": "70de922f",
   "metadata": {},
   "outputs": [],
   "source": [
    "D1={1:'apple',2:'banana'}"
   ]
  },
  {
   "cell_type": "code",
   "execution_count": 38,
   "id": "e9a8db33",
   "metadata": {},
   "outputs": [
    {
     "name": "stdout",
     "output_type": "stream",
     "text": [
      "Enter Key = 1\n"
     ]
    },
    {
     "ename": "KeyError",
     "evalue": "'1'",
     "output_type": "error",
     "traceback": [
      "\u001b[1;31m---------------------------------------------------------------------------\u001b[0m",
      "\u001b[1;31mKeyError\u001b[0m                                  Traceback (most recent call last)",
      "Cell \u001b[1;32mIn[38], line 2\u001b[0m\n\u001b[0;32m      1\u001b[0m key \u001b[38;5;241m=\u001b[39m \u001b[38;5;28minput\u001b[39m(\u001b[38;5;124m\"\u001b[39m\u001b[38;5;124mEnter Key = \u001b[39m\u001b[38;5;124m\"\u001b[39m)\n\u001b[1;32m----> 2\u001b[0m \u001b[43mD1\u001b[49m\u001b[43m[\u001b[49m\u001b[43mkey\u001b[49m\u001b[43m]\u001b[49m\n",
      "\u001b[1;31mKeyError\u001b[0m: '1'"
     ]
    }
   ],
   "source": [
    "key = input(\"Enter Key = \")\n",
    "D1[key]"
   ]
  },
  {
   "cell_type": "code",
   "execution_count": 41,
   "id": "759d7fe3",
   "metadata": {},
   "outputs": [
    {
     "name": "stdout",
     "output_type": "stream",
     "text": [
      "Enter Key = 3\n"
     ]
    },
    {
     "ename": "KeyError",
     "evalue": "3",
     "output_type": "error",
     "traceback": [
      "\u001b[1;31m---------------------------------------------------------------------------\u001b[0m",
      "\u001b[1;31mKeyError\u001b[0m                                  Traceback (most recent call last)",
      "Cell \u001b[1;32mIn[41], line 2\u001b[0m\n\u001b[0;32m      1\u001b[0m key\u001b[38;5;241m=\u001b[39m\u001b[38;5;28mint\u001b[39m(\u001b[38;5;28minput\u001b[39m(\u001b[38;5;124m\"\u001b[39m\u001b[38;5;124mEnter Key = \u001b[39m\u001b[38;5;124m\"\u001b[39m))\n\u001b[1;32m----> 2\u001b[0m \u001b[43mD1\u001b[49m\u001b[43m[\u001b[49m\u001b[43mkey\u001b[49m\u001b[43m]\u001b[49m\n",
      "\u001b[1;31mKeyError\u001b[0m: 3"
     ]
    }
   ],
   "source": [
    "key=int(input(\"Enter Key = \"))\n",
    "D1[key]"
   ]
  },
  {
   "cell_type": "code",
   "execution_count": 45,
   "id": "1ab0222f",
   "metadata": {},
   "outputs": [
    {
     "name": "stdout",
     "output_type": "stream",
     "text": [
      "Enter Key = hi\n"
     ]
    },
    {
     "ename": "ValueError",
     "evalue": "invalid literal for int() with base 10: 'hi'",
     "output_type": "error",
     "traceback": [
      "\u001b[1;31m---------------------------------------------------------------------------\u001b[0m",
      "\u001b[1;31mValueError\u001b[0m                                Traceback (most recent call last)",
      "Cell \u001b[1;32mIn[45], line 1\u001b[0m\n\u001b[1;32m----> 1\u001b[0m key\u001b[38;5;241m=\u001b[39m\u001b[38;5;28;43mint\u001b[39;49m\u001b[43m(\u001b[49m\u001b[38;5;28;43minput\u001b[39;49m\u001b[43m(\u001b[49m\u001b[38;5;124;43m\"\u001b[39;49m\u001b[38;5;124;43mEnter Key = \u001b[39;49m\u001b[38;5;124;43m\"\u001b[39;49m\u001b[43m)\u001b[49m\u001b[43m)\u001b[49m\n\u001b[0;32m      2\u001b[0m D1[key]\n",
      "\u001b[1;31mValueError\u001b[0m: invalid literal for int() with base 10: 'hi'"
     ]
    }
   ],
   "source": [
    "key=int(input(\"Enter Key = \"))\n",
    "D1[key]"
   ]
  },
  {
   "cell_type": "code",
   "execution_count": 44,
   "id": "b3295f94",
   "metadata": {},
   "outputs": [],
   "source": [
    "D1={1:'apple',2:'banana'}"
   ]
  },
  {
   "cell_type": "code",
   "execution_count": 48,
   "id": "074d60cd",
   "metadata": {},
   "outputs": [
    {
     "name": "stdout",
     "output_type": "stream",
     "text": [
      "Enter Key = hi\n",
      "Key is not existed\n",
      "Done thanks\n"
     ]
    }
   ],
   "source": [
    "try:\n",
    "    key=int(input(\"Enter Key = \"))\n",
    "    value=D1[key]\n",
    "except(KeyError,ValueError):\n",
    "    print(\"Key is not existed\")\n",
    "else:\n",
    "    print(value)\n",
    "finally:\n",
    "    print(\"Done thanks\")"
   ]
  },
  {
   "cell_type": "code",
   "execution_count": 52,
   "id": "5262be50",
   "metadata": {},
   "outputs": [
    {
     "name": "stdout",
     "output_type": "stream",
     "text": [
      "Enter Key = hi\n",
      "Key should be Integer only\n",
      "Thanks\n"
     ]
    }
   ],
   "source": [
    "try:\n",
    "    key=int(input(\"Enter Key = \"))\n",
    "    value = D1[key]\n",
    "except(KeyError):\n",
    "    print(\"Given key is not existed\")\n",
    "except(ValueError):\n",
    "    print(\"Key should be Integer only\")\n",
    "else:\n",
    "    print(value)\n",
    "finally:\n",
    "    print(\"Thanks\")"
   ]
  },
  {
   "cell_type": "code",
   "execution_count": 53,
   "id": "8f9181af",
   "metadata": {},
   "outputs": [],
   "source": [
    "D1={1:100,'1':200}"
   ]
  },
  {
   "cell_type": "code",
   "execution_count": 54,
   "id": "4cce888e",
   "metadata": {},
   "outputs": [
    {
     "data": {
      "text/plain": [
       "100"
      ]
     },
     "execution_count": 54,
     "metadata": {},
     "output_type": "execute_result"
    }
   ],
   "source": [
    "D1[1]"
   ]
  },
  {
   "cell_type": "code",
   "execution_count": 55,
   "id": "18fbf750",
   "metadata": {},
   "outputs": [
    {
     "data": {
      "text/plain": [
       "200"
      ]
     },
     "execution_count": 55,
     "metadata": {},
     "output_type": "execute_result"
    }
   ],
   "source": [
    "D1['1']"
   ]
  },
  {
   "cell_type": "code",
   "execution_count": null,
   "id": "008ceae3",
   "metadata": {},
   "outputs": [],
   "source": []
  },
  {
   "cell_type": "code",
   "execution_count": 58,
   "id": "d2a7b830",
   "metadata": {},
   "outputs": [
    {
     "name": "stdout",
     "output_type": "stream",
     "text": [
      "Enter Key = 1\n",
      "200\n"
     ]
    }
   ],
   "source": [
    "key=input(\"Enter Key = \")\n",
    "if key==\"1\":\n",
    "    print(D1[key])"
   ]
  },
  {
   "cell_type": "code",
   "execution_count": 60,
   "id": "7dd57e22",
   "metadata": {},
   "outputs": [
    {
     "name": "stdout",
     "output_type": "stream",
     "text": [
      "Enter Key = 1\n",
      "100\n"
     ]
    }
   ],
   "source": [
    "key=int(input(\"Enter Key = \"))\n",
    "if key==1:\n",
    "    print(D1[key])"
   ]
  },
  {
   "cell_type": "code",
   "execution_count": 61,
   "id": "5e03d7e5",
   "metadata": {},
   "outputs": [
    {
     "name": "stdout",
     "output_type": "stream",
     "text": [
      "Enter Key = 1\n"
     ]
    },
    {
     "data": {
      "text/plain": [
       "100"
      ]
     },
     "execution_count": 61,
     "metadata": {},
     "output_type": "execute_result"
    }
   ],
   "source": [
    "key=int(input(\"Enter Key = \"))\n",
    "D1[key]"
   ]
  },
  {
   "cell_type": "code",
   "execution_count": 62,
   "id": "25dd3618",
   "metadata": {},
   "outputs": [
    {
     "name": "stdout",
     "output_type": "stream",
     "text": [
      "Enter Key = 1\n"
     ]
    },
    {
     "data": {
      "text/plain": [
       "200"
      ]
     },
     "execution_count": 62,
     "metadata": {},
     "output_type": "execute_result"
    }
   ],
   "source": [
    "key=input(\"Enter Key = \")\n",
    "D1[key]"
   ]
  },
  {
   "cell_type": "code",
   "execution_count": 63,
   "id": "00ba5285",
   "metadata": {},
   "outputs": [],
   "source": [
    "D1={1:100,'a':200}"
   ]
  },
  {
   "cell_type": "code",
   "execution_count": 65,
   "id": "a7231a07",
   "metadata": {},
   "outputs": [
    {
     "name": "stdout",
     "output_type": "stream",
     "text": [
      "Enter Key = a\n"
     ]
    },
    {
     "data": {
      "text/plain": [
       "200"
      ]
     },
     "execution_count": 65,
     "metadata": {},
     "output_type": "execute_result"
    }
   ],
   "source": [
    "key=input(\"Enter Key = \")\n",
    "D1[key]"
   ]
  },
  {
   "cell_type": "code",
   "execution_count": 67,
   "id": "5aae801d",
   "metadata": {},
   "outputs": [
    {
     "name": "stdout",
     "output_type": "stream",
     "text": [
      "Enter Key = a\n"
     ]
    },
    {
     "ename": "ValueError",
     "evalue": "invalid literal for int() with base 10: 'a'",
     "output_type": "error",
     "traceback": [
      "\u001b[1;31m---------------------------------------------------------------------------\u001b[0m",
      "\u001b[1;31mValueError\u001b[0m                                Traceback (most recent call last)",
      "Cell \u001b[1;32mIn[67], line 1\u001b[0m\n\u001b[1;32m----> 1\u001b[0m key\u001b[38;5;241m=\u001b[39m\u001b[38;5;28;43mint\u001b[39;49m\u001b[43m(\u001b[49m\u001b[38;5;28;43minput\u001b[39;49m\u001b[43m(\u001b[49m\u001b[38;5;124;43m\"\u001b[39;49m\u001b[38;5;124;43mEnter Key = \u001b[39;49m\u001b[38;5;124;43m\"\u001b[39;49m\u001b[43m)\u001b[49m\u001b[43m)\u001b[49m\n\u001b[0;32m      2\u001b[0m D1[key]\n",
      "\u001b[1;31mValueError\u001b[0m: invalid literal for int() with base 10: 'a'"
     ]
    }
   ],
   "source": [
    "key=int(input(\"Enter Key = \"))\n",
    "D1[key]"
   ]
  },
  {
   "cell_type": "code",
   "execution_count": 68,
   "id": "d71a66d2",
   "metadata": {},
   "outputs": [
    {
     "data": {
      "text/plain": [
       "True"
      ]
     },
     "execution_count": 68,
     "metadata": {},
     "output_type": "execute_result"
    }
   ],
   "source": [
    "\"1\".isdigit()"
   ]
  },
  {
   "cell_type": "code",
   "execution_count": 70,
   "id": "482664be",
   "metadata": {},
   "outputs": [
    {
     "name": "stdout",
     "output_type": "stream",
     "text": [
      "Enter a Key = a\n",
      "200\n"
     ]
    }
   ],
   "source": [
    "key = input(\"Enter a Key = \")\n",
    "if key.isdigit():\n",
    "    key=int(key)\n",
    "    print(D1[key])\n",
    "else:\n",
    "    print(D1[key])"
   ]
  },
  {
   "cell_type": "code",
   "execution_count": 74,
   "id": "18e353b6",
   "metadata": {},
   "outputs": [
    {
     "name": "stdout",
     "output_type": "stream",
     "text": [
      "Enter a Key = 4\n"
     ]
    },
    {
     "ename": "KeyError",
     "evalue": "4",
     "output_type": "error",
     "traceback": [
      "\u001b[1;31m---------------------------------------------------------------------------\u001b[0m",
      "\u001b[1;31mKeyError\u001b[0m                                  Traceback (most recent call last)",
      "Cell \u001b[1;32mIn[74], line 4\u001b[0m\n\u001b[0;32m      2\u001b[0m \u001b[38;5;28;01mif\u001b[39;00m key\u001b[38;5;241m.\u001b[39misdigit():\n\u001b[0;32m      3\u001b[0m     key\u001b[38;5;241m=\u001b[39m\u001b[38;5;28mint\u001b[39m(key)\n\u001b[1;32m----> 4\u001b[0m     \u001b[38;5;28mprint\u001b[39m(\u001b[43mD1\u001b[49m\u001b[43m[\u001b[49m\u001b[43mkey\u001b[49m\u001b[43m]\u001b[49m)\n\u001b[0;32m      5\u001b[0m \u001b[38;5;28;01melif\u001b[39;00m(key\u001b[38;5;241m.\u001b[39misalpha()):\n\u001b[0;32m      6\u001b[0m     \u001b[38;5;28mprint\u001b[39m(D1[key])\n",
      "\u001b[1;31mKeyError\u001b[0m: 4"
     ]
    }
   ],
   "source": [
    "key = input(\"Enter a Key = \")\n",
    "if key.isdigit():\n",
    "    key=int(key)\n",
    "    print(D1[key])\n",
    "elif(key.isalpha()):\n",
    "    print(D1[key])\n",
    "else:\n",
    "    print(\"Invalid Key\")"
   ]
  },
  {
   "cell_type": "code",
   "execution_count": null,
   "id": "4db5e3e3",
   "metadata": {},
   "outputs": [],
   "source": [
    "key = input(\"Enter a Key = \")\n",
    "try:\n",
    "    if key.isdigit():\n",
    "        key=int(key)\n",
    "        value = D1[key]\n",
    "    elif(key.isalpha()):\n",
    "        value = D1[key]\n",
    "except(KeyError):\n",
    "    print(\"key Not Existed\")\n",
    "else:\n",
    "    print(value)\n",
    "finally:\n",
    "    print(\"Thanks \")\n",
    "    "
   ]
  },
  {
   "cell_type": "code",
   "execution_count": null,
   "id": "a61c7757",
   "metadata": {},
   "outputs": [],
   "source": []
  },
  {
   "cell_type": "code",
   "execution_count": null,
   "id": "371b2227",
   "metadata": {},
   "outputs": [],
   "source": []
  },
  {
   "cell_type": "code",
   "execution_count": null,
   "id": "d54c6fd9",
   "metadata": {},
   "outputs": [],
   "source": []
  },
  {
   "cell_type": "code",
   "execution_count": null,
   "id": "4e38cfca",
   "metadata": {},
   "outputs": [],
   "source": []
  },
  {
   "cell_type": "code",
   "execution_count": null,
   "id": "64ad7864",
   "metadata": {},
   "outputs": [],
   "source": []
  },
  {
   "cell_type": "code",
   "execution_count": null,
   "id": "c2a74e7d",
   "metadata": {},
   "outputs": [],
   "source": []
  }
 ],
 "metadata": {
  "kernelspec": {
   "display_name": "Python 3 (ipykernel)",
   "language": "python",
   "name": "python3"
  },
  "language_info": {
   "codemirror_mode": {
    "name": "ipython",
    "version": 3
   },
   "file_extension": ".py",
   "mimetype": "text/x-python",
   "name": "python",
   "nbconvert_exporter": "python",
   "pygments_lexer": "ipython3",
   "version": "3.9.18"
  }
 },
 "nbformat": 4,
 "nbformat_minor": 5
}
