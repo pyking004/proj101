{
 "cells": [
  {
   "cell_type": "code",
   "execution_count": null,
   "id": "480d7bd3",
   "metadata": {},
   "outputs": [],
   "source": [
    "#Regular Expression"
   ]
  },
  {
   "cell_type": "code",
   "execution_count": null,
   "id": "96f747f9",
   "metadata": {},
   "outputs": [],
   "source": [
    "# Meta Characters\n",
    "# special squences\n",
    "# methods(split,finall,compile,escape,sub,subn,fullmatch)"
   ]
  },
  {
   "cell_type": "code",
   "execution_count": 1,
   "id": "bd6d16d2",
   "metadata": {},
   "outputs": [
    {
     "name": "stdout",
     "output_type": "stream",
     "text": [
      "Are you coming for today class ? = YES\n",
      "Take Rest\n"
     ]
    }
   ],
   "source": [
    "ans = input(\"Are you coming for today class ? = \") #yes , YES, YeS, YEs, i am coming yes\n",
    "if ans=='Yes':\n",
    "    print(\"Welcome\")\n",
    "else:\n",
    "    print(\"Take Rest\")"
   ]
  },
  {
   "cell_type": "code",
   "execution_count": 2,
   "id": "5fed1111",
   "metadata": {},
   "outputs": [],
   "source": [
    "import re"
   ]
  },
  {
   "cell_type": "code",
   "execution_count": 3,
   "id": "caf78d98",
   "metadata": {},
   "outputs": [
    {
     "data": {
      "text/plain": [
       "module"
      ]
     },
     "execution_count": 3,
     "metadata": {},
     "output_type": "execute_result"
    }
   ],
   "source": [
    "#re.py\n",
    "type(re)"
   ]
  },
  {
   "cell_type": "code",
   "execution_count": 4,
   "id": "40dc18b9",
   "metadata": {},
   "outputs": [
    {
     "name": "stdout",
     "output_type": "stream",
     "text": [
      "Pretty printing has been turned OFF\n"
     ]
    }
   ],
   "source": [
    "pprint"
   ]
  },
  {
   "cell_type": "code",
   "execution_count": 5,
   "id": "a6d398f9",
   "metadata": {},
   "outputs": [
    {
     "data": {
      "text/plain": [
       "['A', 'ASCII', 'DEBUG', 'DOTALL', 'I', 'IGNORECASE', 'L', 'LOCALE', 'M', 'MULTILINE', 'Match', 'Pattern', 'RegexFlag', 'S', 'Scanner', 'T', 'TEMPLATE', 'U', 'UNICODE', 'VERBOSE', 'X', '_MAXCACHE', '__all__', '__builtins__', '__cached__', '__doc__', '__file__', '__loader__', '__name__', '__package__', '__spec__', '__version__', '_cache', '_compile', '_compile_repl', '_expand', '_locale', '_pickle', '_special_chars_map', '_subx', 'compile', 'copyreg', 'enum', 'error', 'escape', 'findall', 'finditer', 'fullmatch', 'functools', 'match', 'purge', 'search', 'split', 'sre_compile', 'sre_parse', 'sub', 'subn', 'template']"
      ]
     },
     "execution_count": 5,
     "metadata": {},
     "output_type": "execute_result"
    }
   ],
   "source": [
    "dir(re)"
   ]
  },
  {
   "cell_type": "code",
   "execution_count": 6,
   "id": "782b7d62",
   "metadata": {},
   "outputs": [
    {
     "data": {
      "text/plain": [
       "<class 'function'>"
      ]
     },
     "execution_count": 6,
     "metadata": {},
     "output_type": "execute_result"
    }
   ],
   "source": [
    "type(re.match)"
   ]
  },
  {
   "cell_type": "raw",
   "id": "260da9fd",
   "metadata": {},
   "source": [
    "re.match(pattern,string,flags=None)"
   ]
  },
  {
   "cell_type": "code",
   "execution_count": 8,
   "id": "c53ce353",
   "metadata": {},
   "outputs": [],
   "source": [
    "str1 = \"python is better than java for AI applications\""
   ]
  },
  {
   "cell_type": "code",
   "execution_count": 9,
   "id": "3b62b129",
   "metadata": {},
   "outputs": [
    {
     "name": "stdout",
     "output_type": "stream",
     "text": [
      "<re.Match object; span=(0, 6), match='python'>\n"
     ]
    }
   ],
   "source": [
    "print(re.match('python',str1))"
   ]
  },
  {
   "cell_type": "code",
   "execution_count": 10,
   "id": "297b61c7",
   "metadata": {},
   "outputs": [
    {
     "name": "stdout",
     "output_type": "stream",
     "text": [
      "<re.Match object; span=(0, 6), match='python'>\n",
      "None\n",
      "None\n",
      "<re.Match object; span=(0, 6), match='python'>\n",
      "<re.Match object; span=(0, 6), match='python'>\n"
     ]
    }
   ],
   "source": [
    "#match\n",
    "print(re.match('python',str1))\n",
    "print(re.match('java',str1))\n",
    "print(re.match('PYTHON',str1))\n",
    "print(re.match('PYTHON',str1,flags=re.I))\n",
    "print(re.match('PYTHON',str1,flags=re.IGNORECASE))"
   ]
  },
  {
   "cell_type": "code",
   "execution_count": 11,
   "id": "80c1a04b",
   "metadata": {},
   "outputs": [],
   "source": [
    "str1 = \"python is better than java for AI applications\""
   ]
  },
  {
   "cell_type": "code",
   "execution_count": 12,
   "id": "b3785751",
   "metadata": {},
   "outputs": [
    {
     "name": "stdout",
     "output_type": "stream",
     "text": [
      "<re.Match object; span=(22, 26), match='java'>\n",
      "<re.Match object; span=(0, 6), match='python'>\n",
      "None\n",
      "<re.Match object; span=(22, 26), match='java'>\n",
      "<re.Match object; span=(22, 26), match='java'>\n"
     ]
    }
   ],
   "source": [
    "#search\n",
    "print(re.search('java',str1))\n",
    "print(re.search('python',str1))\n",
    "print(re.search('JAVA',str1))\n",
    "print(re.search('JAVA',str1,re.I))\n",
    "print(re.search('JAVA',str1,re.IGNORECASE))"
   ]
  },
  {
   "cell_type": "code",
   "execution_count": 17,
   "id": "84ec3950",
   "metadata": {},
   "outputs": [
    {
     "name": "stdout",
     "output_type": "stream",
     "text": [
      "Are you coming for today class ? = sdl\n",
      "Take Rest\n"
     ]
    }
   ],
   "source": [
    "ans = input(\"Are you coming for today class ? = \") #yes , YES, YeS, YEs, i am coming yes\n",
    "if re.search('yes',ans,re.I):\n",
    "    print(\"Welcome\")\n",
    "else:\n",
    "    print(\"Take Rest\")"
   ]
  },
  {
   "cell_type": "raw",
   "id": "f1bda1d6",
   "metadata": {},
   "source": [
    "#patterns design with meta characters\n",
    "    []   ^   $   {m,n}  (str1|str2)  .  ?  *  "
   ]
  },
  {
   "cell_type": "code",
   "execution_count": null,
   "id": "d7e07439",
   "metadata": {},
   "outputs": [],
   "source": [
    "#][0123456789 it matches at least one digit in given string"
   ]
  },
  {
   "cell_type": "code",
   "execution_count": 23,
   "id": "ae4622c1",
   "metadata": {},
   "outputs": [
    {
     "name": "stdout",
     "output_type": "stream",
     "text": [
      "Enter string value = lsdfsljk6sdfjsldfj7sdkajsl\n",
      "Matched\n"
     ]
    }
   ],
   "source": [
    "str1 = input(\"Enter string value = \")\n",
    "if re.search('[0123456789]',str1):\n",
    "    print(\"Matched\")\n",
    "else:\n",
    "    print(\"Not Matched\")"
   ]
  },
  {
   "cell_type": "code",
   "execution_count": 29,
   "id": "01489912",
   "metadata": {},
   "outputs": [
    {
     "name": "stdout",
     "output_type": "stream",
     "text": [
      "Enter string value = 7\n",
      "Matched\n"
     ]
    }
   ],
   "source": [
    "str1 = input(\"Enter string value = \")\n",
    "if re.search('[567]',str1):\n",
    "    print(\"Matched\")\n",
    "else:\n",
    "    print(\"Not Matched\")"
   ]
  },
  {
   "cell_type": "code",
   "execution_count": 31,
   "id": "0c2cbe31",
   "metadata": {},
   "outputs": [
    {
     "name": "stdout",
     "output_type": "stream",
     "text": [
      "Enter string value = f\n",
      "Not Matched\n"
     ]
    }
   ],
   "source": [
    "str1 = input(\"Enter string value = \")\n",
    "if re.search('[0-9]',str1):\n",
    "    print(\"Matched\")\n",
    "else:\n",
    "    print(\"Not Matched\")"
   ]
  },
  {
   "cell_type": "code",
   "execution_count": 33,
   "id": "f6aafa22",
   "metadata": {},
   "outputs": [
    {
     "name": "stdout",
     "output_type": "stream",
     "text": [
      "Enter string value = 8\n",
      "Not Matched\n"
     ]
    }
   ],
   "source": [
    "str1 = input(\"Enter string value = \")\n",
    "if re.search('[0-5]',str1):\n",
    "    print(\"Matched\")\n",
    "else:\n",
    "    print(\"Not Matched\")"
   ]
  },
  {
   "cell_type": "code",
   "execution_count": 34,
   "id": "6ef80cb9",
   "metadata": {},
   "outputs": [
    {
     "name": "stdout",
     "output_type": "stream",
     "text": [
      "Enter string value = 6\n"
     ]
    },
    {
     "ename": "error",
     "evalue": "bad character range 9-0 at position 1",
     "output_type": "error",
     "traceback": [
      "\u001b[1;31m---------------------------------------------------------------------------\u001b[0m",
      "\u001b[1;31merror\u001b[0m                                     Traceback (most recent call last)",
      "Cell \u001b[1;32mIn[34], line 2\u001b[0m\n\u001b[0;32m      1\u001b[0m str1 \u001b[38;5;241m=\u001b[39m \u001b[38;5;28minput\u001b[39m(\u001b[38;5;124m\"\u001b[39m\u001b[38;5;124mEnter string value = \u001b[39m\u001b[38;5;124m\"\u001b[39m)\n\u001b[1;32m----> 2\u001b[0m \u001b[38;5;28;01mif\u001b[39;00m \u001b[43mre\u001b[49m\u001b[38;5;241;43m.\u001b[39;49m\u001b[43msearch\u001b[49m\u001b[43m(\u001b[49m\u001b[38;5;124;43m'\u001b[39;49m\u001b[38;5;124;43m[9-0]\u001b[39;49m\u001b[38;5;124;43m'\u001b[39;49m\u001b[43m,\u001b[49m\u001b[43mstr1\u001b[49m\u001b[43m)\u001b[49m:\n\u001b[0;32m      3\u001b[0m     \u001b[38;5;28mprint\u001b[39m(\u001b[38;5;124m\"\u001b[39m\u001b[38;5;124mMatched\u001b[39m\u001b[38;5;124m\"\u001b[39m)\n\u001b[0;32m      4\u001b[0m \u001b[38;5;28;01melse\u001b[39;00m:\n",
      "File \u001b[1;32m~\\anaconda3\\lib\\re.py:201\u001b[0m, in \u001b[0;36msearch\u001b[1;34m(pattern, string, flags)\u001b[0m\n\u001b[0;32m    198\u001b[0m \u001b[38;5;28;01mdef\u001b[39;00m \u001b[38;5;21msearch\u001b[39m(pattern, string, flags\u001b[38;5;241m=\u001b[39m\u001b[38;5;241m0\u001b[39m):\n\u001b[0;32m    199\u001b[0m \u001b[38;5;250m    \u001b[39m\u001b[38;5;124;03m\"\"\"Scan through string looking for a match to the pattern, returning\u001b[39;00m\n\u001b[0;32m    200\u001b[0m \u001b[38;5;124;03m    a Match object, or None if no match was found.\"\"\"\u001b[39;00m\n\u001b[1;32m--> 201\u001b[0m     \u001b[38;5;28;01mreturn\u001b[39;00m \u001b[43m_compile\u001b[49m\u001b[43m(\u001b[49m\u001b[43mpattern\u001b[49m\u001b[43m,\u001b[49m\u001b[43m \u001b[49m\u001b[43mflags\u001b[49m\u001b[43m)\u001b[49m\u001b[38;5;241m.\u001b[39msearch(string)\n",
      "File \u001b[1;32m~\\anaconda3\\lib\\re.py:304\u001b[0m, in \u001b[0;36m_compile\u001b[1;34m(pattern, flags)\u001b[0m\n\u001b[0;32m    302\u001b[0m \u001b[38;5;28;01mif\u001b[39;00m \u001b[38;5;129;01mnot\u001b[39;00m sre_compile\u001b[38;5;241m.\u001b[39misstring(pattern):\n\u001b[0;32m    303\u001b[0m     \u001b[38;5;28;01mraise\u001b[39;00m \u001b[38;5;167;01mTypeError\u001b[39;00m(\u001b[38;5;124m\"\u001b[39m\u001b[38;5;124mfirst argument must be string or compiled pattern\u001b[39m\u001b[38;5;124m\"\u001b[39m)\n\u001b[1;32m--> 304\u001b[0m p \u001b[38;5;241m=\u001b[39m \u001b[43msre_compile\u001b[49m\u001b[38;5;241;43m.\u001b[39;49m\u001b[43mcompile\u001b[49m\u001b[43m(\u001b[49m\u001b[43mpattern\u001b[49m\u001b[43m,\u001b[49m\u001b[43m \u001b[49m\u001b[43mflags\u001b[49m\u001b[43m)\u001b[49m\n\u001b[0;32m    305\u001b[0m \u001b[38;5;28;01mif\u001b[39;00m \u001b[38;5;129;01mnot\u001b[39;00m (flags \u001b[38;5;241m&\u001b[39m DEBUG):\n\u001b[0;32m    306\u001b[0m     \u001b[38;5;28;01mif\u001b[39;00m \u001b[38;5;28mlen\u001b[39m(_cache) \u001b[38;5;241m>\u001b[39m\u001b[38;5;241m=\u001b[39m _MAXCACHE:\n\u001b[0;32m    307\u001b[0m         \u001b[38;5;66;03m# Drop the oldest item\u001b[39;00m\n",
      "File \u001b[1;32m~\\anaconda3\\lib\\sre_compile.py:788\u001b[0m, in \u001b[0;36mcompile\u001b[1;34m(p, flags)\u001b[0m\n\u001b[0;32m    786\u001b[0m \u001b[38;5;28;01mif\u001b[39;00m isstring(p):\n\u001b[0;32m    787\u001b[0m     pattern \u001b[38;5;241m=\u001b[39m p\n\u001b[1;32m--> 788\u001b[0m     p \u001b[38;5;241m=\u001b[39m \u001b[43msre_parse\u001b[49m\u001b[38;5;241;43m.\u001b[39;49m\u001b[43mparse\u001b[49m\u001b[43m(\u001b[49m\u001b[43mp\u001b[49m\u001b[43m,\u001b[49m\u001b[43m \u001b[49m\u001b[43mflags\u001b[49m\u001b[43m)\u001b[49m\n\u001b[0;32m    789\u001b[0m \u001b[38;5;28;01melse\u001b[39;00m:\n\u001b[0;32m    790\u001b[0m     pattern \u001b[38;5;241m=\u001b[39m \u001b[38;5;28;01mNone\u001b[39;00m\n",
      "File \u001b[1;32m~\\anaconda3\\lib\\sre_parse.py:955\u001b[0m, in \u001b[0;36mparse\u001b[1;34m(str, flags, state)\u001b[0m\n\u001b[0;32m    952\u001b[0m state\u001b[38;5;241m.\u001b[39mstr \u001b[38;5;241m=\u001b[39m \u001b[38;5;28mstr\u001b[39m\n\u001b[0;32m    954\u001b[0m \u001b[38;5;28;01mtry\u001b[39;00m:\n\u001b[1;32m--> 955\u001b[0m     p \u001b[38;5;241m=\u001b[39m \u001b[43m_parse_sub\u001b[49m\u001b[43m(\u001b[49m\u001b[43msource\u001b[49m\u001b[43m,\u001b[49m\u001b[43m \u001b[49m\u001b[43mstate\u001b[49m\u001b[43m,\u001b[49m\u001b[43m \u001b[49m\u001b[43mflags\u001b[49m\u001b[43m \u001b[49m\u001b[38;5;241;43m&\u001b[39;49m\u001b[43m \u001b[49m\u001b[43mSRE_FLAG_VERBOSE\u001b[49m\u001b[43m,\u001b[49m\u001b[43m \u001b[49m\u001b[38;5;241;43m0\u001b[39;49m\u001b[43m)\u001b[49m\n\u001b[0;32m    956\u001b[0m \u001b[38;5;28;01mexcept\u001b[39;00m Verbose:\n\u001b[0;32m    957\u001b[0m     \u001b[38;5;66;03m# the VERBOSE flag was switched on inside the pattern.  to be\u001b[39;00m\n\u001b[0;32m    958\u001b[0m     \u001b[38;5;66;03m# on the safe side, we'll parse the whole thing again...\u001b[39;00m\n\u001b[0;32m    959\u001b[0m     state \u001b[38;5;241m=\u001b[39m State()\n",
      "File \u001b[1;32m~\\anaconda3\\lib\\sre_parse.py:444\u001b[0m, in \u001b[0;36m_parse_sub\u001b[1;34m(source, state, verbose, nested)\u001b[0m\n\u001b[0;32m    442\u001b[0m start \u001b[38;5;241m=\u001b[39m source\u001b[38;5;241m.\u001b[39mtell()\n\u001b[0;32m    443\u001b[0m \u001b[38;5;28;01mwhile\u001b[39;00m \u001b[38;5;28;01mTrue\u001b[39;00m:\n\u001b[1;32m--> 444\u001b[0m     itemsappend(\u001b[43m_parse\u001b[49m\u001b[43m(\u001b[49m\u001b[43msource\u001b[49m\u001b[43m,\u001b[49m\u001b[43m \u001b[49m\u001b[43mstate\u001b[49m\u001b[43m,\u001b[49m\u001b[43m \u001b[49m\u001b[43mverbose\u001b[49m\u001b[43m,\u001b[49m\u001b[43m \u001b[49m\u001b[43mnested\u001b[49m\u001b[43m \u001b[49m\u001b[38;5;241;43m+\u001b[39;49m\u001b[43m \u001b[49m\u001b[38;5;241;43m1\u001b[39;49m\u001b[43m,\u001b[49m\n\u001b[0;32m    445\u001b[0m \u001b[43m                       \u001b[49m\u001b[38;5;129;43;01mnot\u001b[39;49;00m\u001b[43m \u001b[49m\u001b[43mnested\u001b[49m\u001b[43m \u001b[49m\u001b[38;5;129;43;01mand\u001b[39;49;00m\u001b[43m \u001b[49m\u001b[38;5;129;43;01mnot\u001b[39;49;00m\u001b[43m \u001b[49m\u001b[43mitems\u001b[49m\u001b[43m)\u001b[49m)\n\u001b[0;32m    446\u001b[0m     \u001b[38;5;28;01mif\u001b[39;00m \u001b[38;5;129;01mnot\u001b[39;00m sourcematch(\u001b[38;5;124m\"\u001b[39m\u001b[38;5;124m|\u001b[39m\u001b[38;5;124m\"\u001b[39m):\n\u001b[0;32m    447\u001b[0m         \u001b[38;5;28;01mbreak\u001b[39;00m\n",
      "File \u001b[1;32m~\\anaconda3\\lib\\sre_parse.py:599\u001b[0m, in \u001b[0;36m_parse\u001b[1;34m(source, state, verbose, nested, first)\u001b[0m\n\u001b[0;32m    597\u001b[0m     \u001b[38;5;28;01mif\u001b[39;00m hi \u001b[38;5;241m<\u001b[39m lo:\n\u001b[0;32m    598\u001b[0m         msg \u001b[38;5;241m=\u001b[39m \u001b[38;5;124m\"\u001b[39m\u001b[38;5;124mbad character range \u001b[39m\u001b[38;5;132;01m%s\u001b[39;00m\u001b[38;5;124m-\u001b[39m\u001b[38;5;132;01m%s\u001b[39;00m\u001b[38;5;124m\"\u001b[39m \u001b[38;5;241m%\u001b[39m (this, that)\n\u001b[1;32m--> 599\u001b[0m         \u001b[38;5;28;01mraise\u001b[39;00m source\u001b[38;5;241m.\u001b[39merror(msg, \u001b[38;5;28mlen\u001b[39m(this) \u001b[38;5;241m+\u001b[39m \u001b[38;5;241m1\u001b[39m \u001b[38;5;241m+\u001b[39m \u001b[38;5;28mlen\u001b[39m(that))\n\u001b[0;32m    600\u001b[0m     setappend((RANGE, (lo, hi)))\n\u001b[0;32m    601\u001b[0m \u001b[38;5;28;01melse\u001b[39;00m:\n",
      "\u001b[1;31merror\u001b[0m: bad character range 9-0 at position 1"
     ]
    }
   ],
   "source": [
    "str1 = input(\"Enter string value = \")\n",
    "if re.search('[9-0]',str1):\n",
    "    print(\"Matched\")\n",
    "else:\n",
    "    print(\"Not Matched\")"
   ]
  },
  {
   "cell_type": "code",
   "execution_count": 35,
   "id": "235e305e",
   "metadata": {},
   "outputs": [],
   "source": [
    "import re"
   ]
  },
  {
   "cell_type": "code",
   "execution_count": 42,
   "id": "e40f7de4",
   "metadata": {},
   "outputs": [
    {
     "name": "stdout",
     "output_type": "stream",
     "text": [
      "Enter string value = 54dfhdfh78fdgfd\n",
      "Matched\n"
     ]
    }
   ],
   "source": [
    "#[0-9][0-9] it matches at least two digits in given string\n",
    "str1 = input(\"Enter string value = \")\n",
    "if re.search('[0-9][0-9]',str1):\n",
    "    print(\"Matched\")\n",
    "else:\n",
    "    print(\"Not Matched\")"
   ]
  },
  {
   "cell_type": "code",
   "execution_count": 45,
   "id": "742c6bb6",
   "metadata": {},
   "outputs": [
    {
     "name": "stdout",
     "output_type": "stream",
     "text": [
      "Enter string value = #\n",
      "Not Matched\n"
     ]
    }
   ],
   "source": [
    "#[a-z] it matches at least one alphabet in given string\n",
    "str1 = input(\"Enter string value = \")\n",
    "if re.search('[a-z]',str1):\n",
    "    print(\"Matched\")\n",
    "else:\n",
    "    print(\"Not Matched\")"
   ]
  },
  {
   "cell_type": "code",
   "execution_count": 47,
   "id": "9fa0b2ac",
   "metadata": {},
   "outputs": [
    {
     "name": "stdout",
     "output_type": "stream",
     "text": [
      "Enter string value = t56456546464\n",
      "Not Matched\n"
     ]
    }
   ],
   "source": [
    "#^[0-9] it matches at least one digit in given string at starting position\n",
    "str1 = input(\"Enter string value = \")\n",
    "if re.search('^[0-9]',str1):\n",
    "    print(\"Matched\")\n",
    "else:\n",
    "    print(\"Not Matched\")"
   ]
  },
  {
   "cell_type": "code",
   "execution_count": 51,
   "id": "9eef8eae",
   "metadata": {},
   "outputs": [
    {
     "name": "stdout",
     "output_type": "stream",
     "text": [
      "Enter string value = 567567574564\n",
      "Matched\n"
     ]
    }
   ],
   "source": [
    "#^[0-9] it matches at least two digits in given string at starting postion\n",
    "str1 = input(\"Enter string value = \")\n",
    "if re.search('^[0-9][0-9]',str1):\n",
    "    print(\"Matched\")\n",
    "else:\n",
    "    print(\"Not Matched\")"
   ]
  },
  {
   "cell_type": "code",
   "execution_count": 54,
   "id": "ced05726",
   "metadata": {},
   "outputs": [
    {
     "name": "stdout",
     "output_type": "stream",
     "text": [
      "Enter string value = @\n",
      "Matched\n"
     ]
    }
   ],
   "source": [
    "#[^0-9] it matches at least one character except [0-9]\n",
    "str1 = input(\"Enter string value = \")\n",
    "if re.search('[^0-9]',str1):\n",
    "    print(\"Matched\")\n",
    "else:\n",
    "    print(\"Not Matched\")"
   ]
  },
  {
   "cell_type": "code",
   "execution_count": null,
   "id": "2a61bde6",
   "metadata": {},
   "outputs": [],
   "source": [
    "import re"
   ]
  },
  {
   "cell_type": "code",
   "execution_count": 57,
   "id": "e651835d",
   "metadata": {},
   "outputs": [
    {
     "name": "stdout",
     "output_type": "stream",
     "text": [
      "Enter string value = f\n",
      "Not Matched\n"
     ]
    }
   ],
   "source": [
    "#[^a-z] it matches at least one character except [a-z]\n",
    "str1 = input(\"Enter string value = \")\n",
    "if re.search('[^a-z]',str1):\n",
    "    print(\"Matched\")\n",
    "else:\n",
    "    print(\"Not Matched\")"
   ]
  },
  {
   "cell_type": "code",
   "execution_count": 59,
   "id": "100471ee",
   "metadata": {},
   "outputs": [
    {
     "name": "stdout",
     "output_type": "stream",
     "text": [
      "Enter string value = 485932875298b\\\n",
      "Not Matched\n"
     ]
    }
   ],
   "source": [
    "#[0-9]$ it matches at least one digit at end of then given string\n",
    "str1 = input(\"Enter string value = \")\n",
    "if re.search('[0-9]$',str1):\n",
    "    print(\"Matched\")\n",
    "else:\n",
    "    print(\"Not Matched\")"
   ]
  },
  {
   "cell_type": "code",
   "execution_count": 62,
   "id": "af9acd63",
   "metadata": {},
   "outputs": [
    {
     "name": "stdout",
     "output_type": "stream",
     "text": [
      "Enter string value = 67\n",
      "Not Matched\n"
     ]
    }
   ],
   "source": [
    "#^[0-9]$ it accepts only single digit number\n",
    "str1 = input(\"Enter string value = \")\n",
    "if re.search('^[0-9]$',str1):\n",
    "    print(\"Matched\")\n",
    "else:\n",
    "    print(\"Not Matched\")"
   ]
  },
  {
   "cell_type": "code",
   "execution_count": 65,
   "id": "6385df57",
   "metadata": {},
   "outputs": [
    {
     "name": "stdout",
     "output_type": "stream",
     "text": [
      "Enter string value = 54654\n",
      "Not Matched\n"
     ]
    }
   ],
   "source": [
    "#^[0-9][0-9]$ it accepts two digit numbers\n",
    "str1 = input(\"Enter string value = \")\n",
    "if re.search('^[0-9][0-9]$',str1):\n",
    "    print(\"Matched\")\n",
    "else:\n",
    "    print(\"Not Matched\")"
   ]
  },
  {
   "cell_type": "code",
   "execution_count": 68,
   "id": "e7f53ee7",
   "metadata": {},
   "outputs": [
    {
     "name": "stdout",
     "output_type": "stream",
     "text": [
      "Enter string value = 4980394832084\n",
      "Not Matched\n"
     ]
    }
   ],
   "source": [
    "#10 digit numbers only\n",
    "str1 = input(\"Enter string value = \")\n",
    "if re.search('^[0-9][0-9][0-9][0-9][0-9][0-9][0-9][0-9][0-9][0-9]$',str1):\n",
    "    print(\"Matched\")\n",
    "else:\n",
    "    print(\"Not Matched\")"
   ]
  },
  {
   "cell_type": "code",
   "execution_count": 69,
   "id": "c5318efc",
   "metadata": {},
   "outputs": [
    {
     "name": "stdout",
     "output_type": "stream",
     "text": [
      "Enter string value = 4739587349\n",
      "Matched\n"
     ]
    }
   ],
   "source": [
    "# {10} will allow repetetions for 10 times only here it accepts only 10 digits\n",
    "str1 = input(\"Enter string value = \")\n",
    "if re.search('^[0-9]{10}$',str1):\n",
    "    print(\"Matched\")\n",
    "else:\n",
    "    print(\"Not Matched\")"
   ]
  },
  {
   "cell_type": "code",
   "execution_count": 73,
   "id": "48fd6231",
   "metadata": {},
   "outputs": [
    {
     "name": "stdout",
     "output_type": "stream",
     "text": [
      "Enter string value = 546546u564564\n",
      "Not Matched\n"
     ]
    }
   ],
   "source": [
    "# {10} will allow repetetions for 10 times only here it accepts only 10 digits\n",
    "str1 = input(\"Enter string value = \")\n",
    "if re.search('^[0-9]{3,}$',str1):\n",
    "    print(\"Matched\")\n",
    "else:\n",
    "    print(\"Not Matched\")"
   ]
  },
  {
   "cell_type": "code",
   "execution_count": 76,
   "id": "f3f8e306",
   "metadata": {},
   "outputs": [
    {
     "name": "stdout",
     "output_type": "stream",
     "text": [
      "Enter string value = 67756\n",
      "Matched\n"
     ]
    }
   ],
   "source": [
    "# {10} will allow repetetions for 10 times only here it accepts only 10 digits\n",
    "str1 = input(\"Enter string value = \")\n",
    "if re.search('^[0-9]{3,5}$',str1):\n",
    "    print(\"Matched\")\n",
    "else:\n",
    "    print(\"Not Matched\")"
   ]
  },
  {
   "cell_type": "code",
   "execution_count": 79,
   "id": "f1bef0a4",
   "metadata": {},
   "outputs": [
    {
     "name": "stdout",
     "output_type": "stream",
     "text": [
      "Enter string value = 45645h45645634\n",
      "Not Matched\n"
     ]
    }
   ],
   "source": [
    "# + will allow repetetions here it accepts only any number of digits\n",
    "str1 = input(\"Enter string value = \")\n",
    "if re.search('^[0-9]+$',str1):\n",
    "    print(\"Matched\")\n",
    "else:\n",
    "    print(\"Not Matched\")"
   ]
  },
  {
   "cell_type": "code",
   "execution_count": 81,
   "id": "b1d02ce0",
   "metadata": {},
   "outputs": [
    {
     "name": "stdout",
     "output_type": "stream",
     "text": [
      "Enter string value = 3483098098\n",
      "Not Matched\n"
     ]
    }
   ],
   "source": [
    "# 10 digit indian mobile numbers\n",
    "str1 = input(\"Enter string value = \")\n",
    "if re.search('^[6789][0-9]{9}$',str1):\n",
    "    print(\"Matched\")\n",
    "else:\n",
    "    print(\"Not Matched\")"
   ]
  },
  {
   "cell_type": "code",
   "execution_count": null,
   "id": "448cbc6d",
   "metadata": {},
   "outputs": [],
   "source": [
    "# 10 digit indian mobile numbers\n",
    "str1 = input(\"Enter string value = \")\n",
    "if re.search('^[6-9][0-9]{9}$',str1):\n",
    "    print(\"Matched\")\n",
    "else:\n",
    "    print(\"Not Matched\")"
   ]
  },
  {
   "cell_type": "code",
   "execution_count": 85,
   "id": "ccebc4f4",
   "metadata": {},
   "outputs": [
    {
     "name": "stdout",
     "output_type": "stream",
     "text": [
      "Enter string value = 564654python974593274\n",
      "Matched\n"
     ]
    }
   ],
   "source": [
    "# \n",
    "str1 = input(\"Enter string value = \").lower()\n",
    "if re.search('(python|javascript|django|reactjs|nodejs)',str1):\n",
    "    print(\"Matched\")\n",
    "else:\n",
    "    print(\"Not Matched\")"
   ]
  },
  {
   "cell_type": "code",
   "execution_count": 88,
   "id": "be7b7e03",
   "metadata": {},
   "outputs": [
    {
     "name": "stdout",
     "output_type": "stream",
     "text": [
      "Enter string value = java\n",
      "Not Matched\n"
     ]
    }
   ],
   "source": [
    "# \n",
    "str1 = input(\"Enter string value = \").lower()\n",
    "if re.search('^(python|javascript|django|reactjs|nodejs)$',str1):\n",
    "    print(\"Matched\")\n",
    "else:\n",
    "    print(\"Not Matched\")"
   ]
  },
  {
   "cell_type": "code",
   "execution_count": null,
   "id": "e15d94b8",
   "metadata": {},
   "outputs": [],
   "source": [
    "import re"
   ]
  },
  {
   "cell_type": "code",
   "execution_count": 93,
   "id": "c9186d9c",
   "metadata": {},
   "outputs": [
    {
     "name": "stdout",
     "output_type": "stream",
     "text": [
      "Enter string value = 4yt\n",
      "Not Matched\n"
     ]
    }
   ],
   "source": [
    "# . will accept anything but only one\n",
    "str1 = input(\"Enter string value = \")\n",
    "if re.search('^[0-9].$',str1):\n",
    "    print(\"Matched\")\n",
    "else:\n",
    "    print(\"Not Matched\")"
   ]
  },
  {
   "cell_type": "code",
   "execution_count": 96,
   "id": "f09dd0af",
   "metadata": {},
   "outputs": [
    {
     "name": "stdout",
     "output_type": "stream",
     "text": [
      "Enter string value = 9w\n",
      "Not Matched\n"
     ]
    }
   ],
   "source": [
    "# .\n",
    "str1 = input(\"Enter string value = \")\n",
    "if re.search('^[0-9]..$',str1):\n",
    "    print(\"Matched\")\n",
    "else:\n",
    "    print(\"Not Matched\")"
   ]
  },
  {
   "cell_type": "code",
   "execution_count": 101,
   "id": "7af9fd17",
   "metadata": {},
   "outputs": [
    {
     "name": "stdout",
     "output_type": "stream",
     "text": [
      "Enter string value = 5678\n",
      "Not Matched\n"
     ]
    }
   ],
   "source": [
    "# .\n",
    "str1 = input(\"Enter string value = \")\n",
    "if re.search('^[0-9].[0-9]$',str1):\n",
    "    print(\"Matched\")\n",
    "else:\n",
    "    print(\"Not Matched\")"
   ]
  },
  {
   "cell_type": "code",
   "execution_count": 105,
   "id": "79fcd7ee",
   "metadata": {},
   "outputs": [
    {
     "name": "stdout",
     "output_type": "stream",
     "text": [
      "Enter string value = python999\n",
      "Not Matched\n"
     ]
    }
   ],
   "source": [
    "# ?\n",
    "str1 = input(\"Enter string value = \")\n",
    "if re.search('^python9?$',str1):\n",
    "    print(\"Matched\")\n",
    "else:\n",
    "    print(\"Not Matched\")"
   ]
  },
  {
   "cell_type": "code",
   "execution_count": 109,
   "id": "cd3eb4ab",
   "metadata": {},
   "outputs": [
    {
     "name": "stdout",
     "output_type": "stream",
     "text": [
      "Enter string value = python7\n",
      "Matched\n"
     ]
    }
   ],
   "source": [
    "# ?\n",
    "str1 = input(\"Enter string value = \")\n",
    "if re.search('^python9?7?$',str1):\n",
    "    print(\"Matched\")\n",
    "else:\n",
    "    print(\"Not Matched\")"
   ]
  },
  {
   "cell_type": "code",
   "execution_count": 112,
   "id": "3e6b9075",
   "metadata": {},
   "outputs": [
    {
     "name": "stdout",
     "output_type": "stream",
     "text": [
      "Enter string value = python123\n",
      "Not Matched\n"
     ]
    }
   ],
   "source": [
    "# ?\n",
    "str1 = input(\"Enter string value = \")\n",
    "if re.search('^python[1234]?$',str1):\n",
    "    print(\"Matched\")\n",
    "else:\n",
    "    print(\"Not Matched\")"
   ]
  },
  {
   "cell_type": "code",
   "execution_count": 116,
   "id": "f1c5c9bf",
   "metadata": {},
   "outputs": [
    {
     "name": "stdout",
     "output_type": "stream",
     "text": [
      "Enter string value = python999999\n",
      "Matched\n"
     ]
    }
   ],
   "source": [
    "# *\n",
    "str1 = input(\"Enter string value = \") # python , python# \n",
    "if re.search('^python9*$',str1):\n",
    "    print(\"Matched\")\n",
    "else:\n",
    "    print(\"Not Matched\")"
   ]
  },
  {
   "cell_type": "code",
   "execution_count": 120,
   "id": "bfb0dbcf",
   "metadata": {},
   "outputs": [
    {
     "name": "stdout",
     "output_type": "stream",
     "text": [
      "Enter string value = python4445\n",
      "Not Matched\n"
     ]
    }
   ],
   "source": [
    "str1 = input(\"Enter string value = \")\n",
    "if re.search('^python[1234]*$',str1):\n",
    "    print(\"Matched\")\n",
    "else:\n",
    "    print(\"Not Matched\")"
   ]
  },
  {
   "cell_type": "code",
   "execution_count": null,
   "id": "cdb90903",
   "metadata": {},
   "outputs": [],
   "source": []
  },
  {
   "cell_type": "code",
   "execution_count": null,
   "id": "359f3f94",
   "metadata": {},
   "outputs": [],
   "source": [
    "#special sequences\n",
    "# \\d \\D \\s \\S \\w \\W"
   ]
  },
  {
   "cell_type": "code",
   "execution_count": 1,
   "id": "7c297dd5",
   "metadata": {},
   "outputs": [],
   "source": [
    "import re"
   ]
  },
  {
   "cell_type": "code",
   "execution_count": 9,
   "id": "048860bf",
   "metadata": {},
   "outputs": [
    {
     "name": "stdout",
     "output_type": "stream",
     "text": [
      "Enter String value = djkj6sdkj@@#$\n",
      "Matched\n"
     ]
    }
   ],
   "source": [
    "#\\d == [0-9]\n",
    "#your string must contain at least one digit\n",
    "str1 = input(\"Enter String value = \")\n",
    "if re.search('\\d',str1):\n",
    "    print(\"Matched\")\n",
    "else:\n",
    "    print(\"Not Matched\")"
   ]
  },
  {
   "cell_type": "code",
   "execution_count": 15,
   "id": "f1f2f642",
   "metadata": {},
   "outputs": [
    {
     "name": "stdout",
     "output_type": "stream",
     "text": [
      "Enter String value = ghf\n",
      "Not Matched\n"
     ]
    }
   ],
   "source": [
    "#\\d == [0-9]\n",
    "# your string must contain only one digit\n",
    "str1 = input(\"Enter String value = \")\n",
    "if re.search('^\\d$',str1):\n",
    "    print(\"Matched\")\n",
    "else:\n",
    "    print(\"Not Matched\")"
   ]
  },
  {
   "cell_type": "code",
   "execution_count": 17,
   "id": "036ef286",
   "metadata": {},
   "outputs": [
    {
     "name": "stdout",
     "output_type": "stream",
     "text": [
      "Enter String value = w5803485034\n",
      "Not Matched\n"
     ]
    }
   ],
   "source": [
    "#\\d == [0-9]\n",
    "str1 = input(\"Enter String value = \")\n",
    "if re.search('^\\d+$',str1):\n",
    "    print(\"Matched\")\n",
    "else:\n",
    "    print(\"Not Matched\")"
   ]
  },
  {
   "cell_type": "code",
   "execution_count": 20,
   "id": "93d874c7",
   "metadata": {},
   "outputs": [
    {
     "name": "stdout",
     "output_type": "stream",
     "text": [
      "Enter String value = 567\n",
      "Matched\n"
     ]
    }
   ],
   "source": [
    "# \\d == [0-9]\n",
    "str1 = input(\"Enter String value = \")\n",
    "if re.search('^\\d{3}$',str1):\n",
    "    print(\"Matched\")\n",
    "else:\n",
    "    print(\"Not Matched\")"
   ]
  },
  {
   "cell_type": "code",
   "execution_count": 23,
   "id": "37e6dbb3",
   "metadata": {},
   "outputs": [
    {
     "name": "stdout",
     "output_type": "stream",
     "text": [
      "Enter String value = @\n",
      "Matched\n"
     ]
    }
   ],
   "source": [
    "#\\D == [^0-9]\n",
    "str1 = input(\"Enter String value = \")\n",
    "if re.search('^\\D$',str1):\n",
    "    print(\"Matched\")\n",
    "else:\n",
    "    print(\"Not Matched\")"
   ]
  },
  {
   "cell_type": "code",
   "execution_count": 24,
   "id": "42fa410c",
   "metadata": {},
   "outputs": [
    {
     "name": "stdout",
     "output_type": "stream",
     "text": [
      "Enter String value =  \n",
      "Matched\n"
     ]
    }
   ],
   "source": [
    "#\\s == single space\n",
    "str1 = input(\"Enter String value = \")\n",
    "if re.search('^\\s$',str1):\n",
    "    print(\"Matched\")\n",
    "else:\n",
    "    print(\"Not Matched\")"
   ]
  },
  {
   "cell_type": "code",
   "execution_count": 25,
   "id": "5086dd5a",
   "metadata": {},
   "outputs": [
    {
     "name": "stdout",
     "output_type": "stream",
     "text": [
      "Enter String value =   \n",
      "Matched\n"
     ]
    }
   ],
   "source": [
    "#\\s == single space\n",
    "str1 = input(\"Enter String value = \")\n",
    "if re.search('^\\s\\s$',str1):\n",
    "    print(\"Matched\")\n",
    "else:\n",
    "    print(\"Not Matched\")"
   ]
  },
  {
   "cell_type": "code",
   "execution_count": 29,
   "id": "26865dd4",
   "metadata": {},
   "outputs": [
    {
     "name": "stdout",
     "output_type": "stream",
     "text": [
      "Enter String value = #\n",
      "Matched\n"
     ]
    }
   ],
   "source": [
    "#\\S == opposite to small \\s  \n",
    "# it accepts except space \n",
    "str1 = input(\"Enter String value = \")\n",
    "if re.search('^\\S$',str1):\n",
    "    print(\"Matched\")\n",
    "else:\n",
    "    print(\"Not Matched\")"
   ]
  },
  {
   "cell_type": "code",
   "execution_count": 36,
   "id": "6cb13dfb",
   "metadata": {},
   "outputs": [
    {
     "name": "stdout",
     "output_type": "stream",
     "text": [
      "Enter String value = @\n",
      "Not Matched\n"
     ]
    }
   ],
   "source": [
    "#\\w == [a-z0-9_]\n",
    "# it will not accept special characters\n",
    "# _ is not special character\n",
    "str1 = input(\"Enter String value = \")\n",
    "if re.search('^\\w$',str1):\n",
    "    print(\"Matched\")\n",
    "else:\n",
    "    print(\"Not Matched\")"
   ]
  },
  {
   "cell_type": "code",
   "execution_count": 39,
   "id": "7018269a",
   "metadata": {},
   "outputs": [
    {
     "name": "stdout",
     "output_type": "stream",
     "text": [
      "Enter String value = 6\n",
      "Not Matched\n"
     ]
    }
   ],
   "source": [
    "#\\W == [^a-z0-9_]\n",
    "# it accepts only special characters\n",
    "str1 = input(\"Enter String value = \")\n",
    "if re.search('^\\W$',str1):\n",
    "    print(\"Matched\")\n",
    "else:\n",
    "    print(\"Not Matched\")"
   ]
  },
  {
   "cell_type": "code",
   "execution_count": 43,
   "id": "90fee47e",
   "metadata": {},
   "outputs": [
    {
     "name": "stdout",
     "output_type": "stream",
     "text": [
      "Enter String value = @\n",
      "Not Matched\n"
     ]
    }
   ],
   "source": [
    "#\\w == [a-z0-9]\n",
    "# \n",
    "str1 = input(\"Enter String value = \")\n",
    "if re.search('^[0-9a-z_]$',str1):\n",
    "    print(\"Matched\")\n",
    "else:\n",
    "    print(\"Not Matched\")"
   ]
  },
  {
   "cell_type": "raw",
   "id": "1ca43333",
   "metadata": {},
   "source": [
    "#regular expression for email address\n",
    "#rules\n",
    "1. should not start with number or special character\n",
    "2. only one @ \n",
    "3. only one . after @\n",
    "4. before @ min length 3 and max 25\n",
    "5. before @ _  .  - are allowed\n",
    "6. between @ and . only characters min length = 3 and max length = 10 \n",
    "7. after . characters only min = 2 and max=4\n",
    "raju_raju@gmail.com => correct\n",
    "1raju.raju@gmail.com => wrong\n",
    "ra@gmail.com ==> wrong"
   ]
  },
  {
   "cell_type": "code",
   "execution_count": 48,
   "id": "872a3ca0",
   "metadata": {},
   "outputs": [
    {
     "name": "stdout",
     "output_type": "stream",
     "text": [
      "Enter valid email address = rajlsdjfsljfsljflsjfslkjfsldlfjsdlk@gmail.com\n",
      "Not Matched\n"
     ]
    }
   ],
   "source": [
    "email = input(\"Enter valid email address = \")\n",
    "if re.search('^[a-z][a-z0-9._-]{2,24}@[a-z]{3,10}\\.[a-z]{2,4}$',email,re.I):\n",
    "    print(\"Matched\")\n",
    "else:\n",
    "    print(\"Not Matched\")"
   ]
  },
  {
   "cell_type": "code",
   "execution_count": null,
   "id": "5d9c9992",
   "metadata": {},
   "outputs": [],
   "source": [
    "#Methods"
   ]
  },
  {
   "cell_type": "code",
   "execution_count": null,
   "id": "bb037a35",
   "metadata": {},
   "outputs": [],
   "source": [
    "#re.compile"
   ]
  },
  {
   "cell_type": "code",
   "execution_count": null,
   "id": "1a9371cd",
   "metadata": {},
   "outputs": [],
   "source": []
  },
  {
   "cell_type": "code",
   "execution_count": 49,
   "id": "4a990e64",
   "metadata": {},
   "outputs": [],
   "source": [
    "email_check = re.compile('^[a-z][a-z0-9_.-]{2,24}@[a-z]{3,10}\\.[a-z]{2,4}$',re.I)"
   ]
  },
  {
   "cell_type": "code",
   "execution_count": 50,
   "id": "24168415",
   "metadata": {},
   "outputs": [
    {
     "data": {
      "text/plain": [
       "'^[a-z][a-z0-9_.-]{2,24}@[a-z]{3,10}\\\\.[a-z]{2,4}$'"
      ]
     },
     "execution_count": 50,
     "metadata": {},
     "output_type": "execute_result"
    }
   ],
   "source": [
    "email_check.pattern"
   ]
  },
  {
   "cell_type": "code",
   "execution_count": 55,
   "id": "c53902eb",
   "metadata": {},
   "outputs": [
    {
     "name": "stdout",
     "output_type": "stream",
     "text": [
      "<re.Match object; span=(0, 19), match='raju.raju@gmail.com'>\n"
     ]
    }
   ],
   "source": [
    "print(email_check.search(\"raju.raju@gmail.com\"))"
   ]
  },
  {
   "cell_type": "code",
   "execution_count": 56,
   "id": "50d41e78",
   "metadata": {},
   "outputs": [
    {
     "name": "stdout",
     "output_type": "stream",
     "text": [
      "Enter valid email address = raju@gmail.com\n",
      "Matched\n"
     ]
    }
   ],
   "source": [
    "email = input(\"Enter valid email address = \")\n",
    "if email_check.search(email):\n",
    "    print(\"Matched\")\n",
    "else:\n",
    "    print(\"Not Matched\")"
   ]
  },
  {
   "cell_type": "code",
   "execution_count": null,
   "id": "7e69e0cc",
   "metadata": {},
   "outputs": [],
   "source": [
    "#sub and subn"
   ]
  },
  {
   "cell_type": "code",
   "execution_count": 57,
   "id": "0b7738b1",
   "metadata": {},
   "outputs": [],
   "source": [
    "str1 = \"Bombay is financial Bombay Capital of India, bombay is Bombay gateway of Bombay india \\\n",
    "for British,BOMBAY called bombai also\""
   ]
  },
  {
   "cell_type": "code",
   "execution_count": 58,
   "id": "58935c07",
   "metadata": {},
   "outputs": [
    {
     "name": "stdout",
     "output_type": "stream",
     "text": [
      "Mumbai is financial Bombay Capital of India, bombay is Bombay gateway of Bombay india for British,BOMBAY called bombai also\n"
     ]
    }
   ],
   "source": [
    "print(re.sub('Bombay','Mumbai',str1,count=1))"
   ]
  },
  {
   "cell_type": "code",
   "execution_count": 59,
   "id": "b405d056",
   "metadata": {},
   "outputs": [
    {
     "name": "stdout",
     "output_type": "stream",
     "text": [
      "Mumbai is financial Mumbai Capital of India, bombay is Bombay gateway of Bombay india for British,BOMBAY called bombai also\n"
     ]
    }
   ],
   "source": [
    "print(re.sub('Bombay','Mumbai',str1,count=2))"
   ]
  },
  {
   "cell_type": "code",
   "execution_count": 60,
   "id": "4727555d",
   "metadata": {},
   "outputs": [
    {
     "name": "stdout",
     "output_type": "stream",
     "text": [
      "Mumbai is financial Mumbai Capital of India, bombay is Mumbai gateway of Mumbai india for British,BOMBAY called bombai also\n"
     ]
    }
   ],
   "source": [
    "print(re.sub('Bombay','Mumbai',str1,count=0))"
   ]
  },
  {
   "cell_type": "code",
   "execution_count": 61,
   "id": "ae1388cc",
   "metadata": {},
   "outputs": [
    {
     "name": "stdout",
     "output_type": "stream",
     "text": [
      "Mumbai is financial Mumbai Capital of India, Mumbai is Mumbai gateway of Mumbai india for British,Mumbai called bombai also\n"
     ]
    }
   ],
   "source": [
    "print(re.sub('Bombay','Mumbai',str1,count=0,flags=re.I))"
   ]
  },
  {
   "cell_type": "code",
   "execution_count": 62,
   "id": "bca45032",
   "metadata": {},
   "outputs": [
    {
     "name": "stdout",
     "output_type": "stream",
     "text": [
      "Mumbai is financial Mumbai Capital of India, Mumbai is Mumbai gateway of Mumbai india for British,Mumbai called Mumbai also\n"
     ]
    }
   ],
   "source": [
    "print(re.sub('(Bombay|bombai)','Mumbai',str1,flags=re.I))"
   ]
  },
  {
   "cell_type": "code",
   "execution_count": 63,
   "id": "d9707722",
   "metadata": {},
   "outputs": [
    {
     "name": "stdout",
     "output_type": "stream",
     "text": [
      "('Mumbai is financial Mumbai Capital of India, Mumbai is Mumbai gateway of Mumbai india for British,Mumbai called Mumbai also', 7)\n"
     ]
    }
   ],
   "source": [
    "print(re.subn('(Bombay|bombai)','Mumbai',str1,count=0,flags=re.I))"
   ]
  },
  {
   "cell_type": "raw",
   "id": "e15593fe",
   "metadata": {},
   "source": [
    "#re.escape\n",
    "\"python.org\""
   ]
  },
  {
   "cell_type": "code",
   "execution_count": 64,
   "id": "2f13e449",
   "metadata": {},
   "outputs": [],
   "source": [
    "import re"
   ]
  },
  {
   "cell_type": "code",
   "execution_count": 65,
   "id": "4e898ddf",
   "metadata": {},
   "outputs": [
    {
     "name": "stdout",
     "output_type": "stream",
     "text": [
      "python\\.org\n"
     ]
    }
   ],
   "source": [
    "print(re.escape(\"python.org\"))"
   ]
  },
  {
   "cell_type": "code",
   "execution_count": 66,
   "id": "e399d482",
   "metadata": {},
   "outputs": [
    {
     "name": "stdout",
     "output_type": "stream",
     "text": [
      "Matched\n"
     ]
    }
   ],
   "source": [
    "str1 = \"one of my best language is python and i see anything in pythonXorg\"\n",
    "if re.search(\"python.org\",str1,re.I):\n",
    "    print(\"Matched\")\n",
    "else:\n",
    "    print(\"Not Matched\")"
   ]
  },
  {
   "cell_type": "code",
   "execution_count": 68,
   "id": "1ffc38d7",
   "metadata": {},
   "outputs": [
    {
     "name": "stdout",
     "output_type": "stream",
     "text": [
      "Not Matched\n"
     ]
    }
   ],
   "source": [
    "str1 = \"one of my best language is python and i see anything in pythonXorg\"\n",
    "if re.search(re.escape(\"python.org\"),str1,re.I):\n",
    "    print(\"Matched\")\n",
    "else:\n",
    "    print(\"Not Matched\")"
   ]
  },
  {
   "cell_type": "code",
   "execution_count": null,
   "id": "94d1ceee",
   "metadata": {},
   "outputs": [],
   "source": [
    "import re"
   ]
  },
  {
   "cell_type": "code",
   "execution_count": null,
   "id": "0dc2f746",
   "metadata": {},
   "outputs": [],
   "source": [
    "#re.split"
   ]
  },
  {
   "cell_type": "code",
   "execution_count": null,
   "id": "b346ddec",
   "metadata": {},
   "outputs": [],
   "source": [
    "help(re.split)"
   ]
  },
  {
   "cell_type": "code",
   "execution_count": 69,
   "id": "a08d0a74",
   "metadata": {},
   "outputs": [
    {
     "data": {
      "text/plain": [
       "['wel4come', 'to', 'pythonxprogramming', 'lan5guage']"
      ]
     },
     "execution_count": 69,
     "metadata": {},
     "output_type": "execute_result"
    }
   ],
   "source": [
    "re.split(\"X\",\"wel4comeXtoXpythonxprogrammingXlan5guage\")"
   ]
  },
  {
   "cell_type": "code",
   "execution_count": 70,
   "id": "2e2ddf9b",
   "metadata": {},
   "outputs": [
    {
     "data": {
      "text/plain": [
       "['wel4come', 'to', 'python', 'programming', 'lan5guage']"
      ]
     },
     "execution_count": 70,
     "metadata": {},
     "output_type": "execute_result"
    }
   ],
   "source": [
    "re.split(\"X\",\"wel4comeXtoXpythonxprogrammingXlan5guage\",maxsplit=0,flags=re.I)"
   ]
  },
  {
   "cell_type": "code",
   "execution_count": 71,
   "id": "c9076875",
   "metadata": {},
   "outputs": [
    {
     "data": {
      "text/plain": [
       "['wel4come', 'to', 'pythonxprogrammingXlan5guage']"
      ]
     },
     "execution_count": 71,
     "metadata": {},
     "output_type": "execute_result"
    }
   ],
   "source": [
    "re.split(\"X\",\"wel4comeXtoXpythonxprogrammingXlan5guage\",maxsplit=2,flags=re.I)"
   ]
  },
  {
   "cell_type": "code",
   "execution_count": 72,
   "id": "744bfb8b",
   "metadata": {},
   "outputs": [
    {
     "data": {
      "text/plain": [
       "['wel', 'comeXtoX', 'pythonx', 'programming', '', '', 'Xlan', 'guage']"
      ]
     },
     "execution_count": 72,
     "metadata": {},
     "output_type": "execute_result"
    }
   ],
   "source": [
    "re.split(\"[0-9]\",\"wel4comeXtoX3pythonx6programming123Xlan5guage\",maxsplit=0,flags=re.I)"
   ]
  },
  {
   "cell_type": "code",
   "execution_count": 73,
   "id": "2a41a036",
   "metadata": {},
   "outputs": [
    {
     "data": {
      "text/plain": [
       "['wel', 'comeXtoX', 'pythonx', 'progr', 'amming', 'Xlan', 'guage']"
      ]
     },
     "execution_count": 73,
     "metadata": {},
     "output_type": "execute_result"
    }
   ],
   "source": [
    "re.split(\"[0-9]+\",\"wel4comeXtoX3pythonx6progr56amming123Xlan5guage\",maxsplit=0,flags=re.I)"
   ]
  },
  {
   "cell_type": "code",
   "execution_count": null,
   "id": "a1f4339e",
   "metadata": {},
   "outputs": [],
   "source": [
    "#re.fullmatch"
   ]
  },
  {
   "cell_type": "code",
   "execution_count": 75,
   "id": "ce13c4b2",
   "metadata": {},
   "outputs": [
    {
     "name": "stdout",
     "output_type": "stream",
     "text": [
      "Enter a string value :45\n",
      "Not Matched\n"
     ]
    }
   ],
   "source": [
    "str1=input(\"Enter a string value :\")\n",
    "if re.search(\"^[0-9]$\",str1):\n",
    "    print(\"Matched\")\n",
    "else:\n",
    "    print(\"Not Matched\")"
   ]
  },
  {
   "cell_type": "code",
   "execution_count": 77,
   "id": "4219b0aa",
   "metadata": {},
   "outputs": [
    {
     "name": "stdout",
     "output_type": "stream",
     "text": [
      "Enter a string value :5\n",
      "Matched\n"
     ]
    }
   ],
   "source": [
    "str1=input(\"Enter a string value :\") \n",
    "if re.fullmatch(\"[0-9]\",str1):\n",
    "    print(\"Matched\")\n",
    "else:\n",
    "    print(\"Not Matched\")"
   ]
  },
  {
   "cell_type": "code",
   "execution_count": 80,
   "id": "bbc91301",
   "metadata": {},
   "outputs": [
    {
     "name": "stdout",
     "output_type": "stream",
     "text": [
      "Enter a string value :pythonXorg\n",
      "Enter your pattern = python.org\n",
      "Not Matched\n"
     ]
    }
   ],
   "source": [
    "str1=input(\"Enter a string value :\")\n",
    "pat=input(\"Enter your pattern = \")\n",
    "if re.fullmatch(re.escape(pat),str1):\n",
    "    print(\"Matched\")\n",
    "else:\n",
    "    print(\"Not Matched\")"
   ]
  },
  {
   "cell_type": "code",
   "execution_count": null,
   "id": "5e5a88a9",
   "metadata": {},
   "outputs": [],
   "source": [
    "#re.findall"
   ]
  },
  {
   "cell_type": "code",
   "execution_count": 82,
   "id": "c8481ab2",
   "metadata": {},
   "outputs": [
    {
     "data": {
      "text/plain": [
       "['w', 'e', 'l', 'c', 'o', '1', 'm', '_', 'e']"
      ]
     },
     "execution_count": 82,
     "metadata": {},
     "output_type": "execute_result"
    }
   ],
   "source": [
    "#\\w it will find out all characters except special characters\n",
    "re.findall(\"\\w\",\"we#lc$o1m_e\")"
   ]
  },
  {
   "cell_type": "code",
   "execution_count": 83,
   "id": "bed5aa56",
   "metadata": {},
   "outputs": [
    {
     "data": {
      "text/plain": [
       "['#', '$']"
      ]
     },
     "execution_count": 83,
     "metadata": {},
     "output_type": "execute_result"
    }
   ],
   "source": [
    "re.findall(\"\\W\",\"we#lc$o1m_e\")"
   ]
  },
  {
   "cell_type": "code",
   "execution_count": 84,
   "id": "406c91c7",
   "metadata": {},
   "outputs": [
    {
     "data": {
      "text/plain": [
       "['wel', 'comeXto', 'pytho_nxpro', 'gramming', 'lan', 'guage']"
      ]
     },
     "execution_count": 84,
     "metadata": {},
     "output_type": "execute_result"
    }
   ],
   "source": [
    "re.findall(\"\\w+\",\"wel#comeXto@pytho_nxpro%gramming&lan$guage\")"
   ]
  },
  {
   "cell_type": "code",
   "execution_count": 85,
   "id": "b474521c",
   "metadata": {},
   "outputs": [
    {
     "data": {
      "text/plain": [
       "['#', '@', '%', '&', '$']"
      ]
     },
     "execution_count": 85,
     "metadata": {},
     "output_type": "execute_result"
    }
   ],
   "source": [
    "re.findall(\"\\W\",\"wel#comeXto@pytho_nxpro%gramming&lan$guage\")"
   ]
  },
  {
   "cell_type": "code",
   "execution_count": 86,
   "id": "571aeeea",
   "metadata": {},
   "outputs": [
    {
     "data": {
      "text/plain": [
       "['1', '2', '3', '5', '6']"
      ]
     },
     "execution_count": 86,
     "metadata": {},
     "output_type": "execute_result"
    }
   ],
   "source": [
    "re.findall(\"\\d\",\"wel#com123eXto@pytho_n5xpro%gram6ming&lan$guage\")"
   ]
  },
  {
   "cell_type": "code",
   "execution_count": 87,
   "id": "0900c4de",
   "metadata": {},
   "outputs": [
    {
     "data": {
      "text/plain": [
       "['123', '55', '6']"
      ]
     },
     "execution_count": 87,
     "metadata": {},
     "output_type": "execute_result"
    }
   ],
   "source": [
    "re.findall(\"\\d+\",\"wel#com123eXto@pytho_n55xpro%gram6ming&lan$guage\")"
   ]
  },
  {
   "cell_type": "code",
   "execution_count": 89,
   "id": "cb05e008",
   "metadata": {},
   "outputs": [
    {
     "data": {
      "text/plain": [
       "['w', 'e', 'X', '@', 'p', 'n', 'x', 'p', 'g']"
      ]
     },
     "execution_count": 89,
     "metadata": {},
     "output_type": "execute_result"
    }
   ],
   "source": [
    "re.findall(\"\\D\",\"w13eX@pn5xpg\")"
   ]
  },
  {
   "cell_type": "code",
   "execution_count": 92,
   "id": "f84bd7dc",
   "metadata": {},
   "outputs": [
    {
     "data": {
      "text/plain": [
       "['5674567656', '9878896765', '8745656546', '4567687498']"
      ]
     },
     "execution_count": 92,
     "metadata": {},
     "output_type": "execute_result"
    }
   ],
   "source": [
    "re.findall(\"\\d{10}\",\"wel#com5674567656eXto@pytho_n5x9878896765pro%gram874565654654676ming&4567687498lan$guage\")"
   ]
  },
  {
   "cell_type": "code",
   "execution_count": 93,
   "id": "35964272",
   "metadata": {},
   "outputs": [
    {
     "data": {
      "text/plain": [
       "['8674567656', '9878896765']"
      ]
     },
     "execution_count": 93,
     "metadata": {},
     "output_type": "execute_result"
    }
   ],
   "source": [
    "re.findall(\"[6-9]\\d{9}\",\"wel#com8674567656eXto@pytho_n5x9878896765pro%gram6m96757ing&lan$guage\")"
   ]
  },
  {
   "cell_type": "code",
   "execution_count": null,
   "id": "eb0c36ec",
   "metadata": {},
   "outputs": [],
   "source": [
    "#groups and grouping"
   ]
  },
  {
   "cell_type": "code",
   "execution_count": null,
   "id": "ae21a0bc",
   "metadata": {},
   "outputs": [],
   "source": [
    "#sample US phone number 123-123-4567"
   ]
  },
  {
   "cell_type": "code",
   "execution_count": null,
   "id": "7acb4e50",
   "metadata": {},
   "outputs": [],
   "source": [
    "\"456-565-4534\"  ==> 456  , 565  4534\n",
    "\"raju@gmail.com\"  ==>  raju  , gmail  , com"
   ]
  },
  {
   "cell_type": "code",
   "execution_count": 94,
   "id": "b5190af1",
   "metadata": {},
   "outputs": [],
   "source": [
    "contact1 = re.search(\"(\\d{3})-(\\d{3})-(\\d{4})\",\"456-565-4534\")"
   ]
  },
  {
   "cell_type": "code",
   "execution_count": 95,
   "id": "82ccd405",
   "metadata": {},
   "outputs": [
    {
     "data": {
      "text/plain": [
       "{}"
      ]
     },
     "execution_count": 95,
     "metadata": {},
     "output_type": "execute_result"
    }
   ],
   "source": [
    "contact1.groupdict()"
   ]
  },
  {
   "cell_type": "code",
   "execution_count": 96,
   "id": "d640cdf3",
   "metadata": {},
   "outputs": [
    {
     "data": {
      "text/plain": [
       "('456', '565', '4534')"
      ]
     },
     "execution_count": 96,
     "metadata": {},
     "output_type": "execute_result"
    }
   ],
   "source": [
    "contact1.groups()"
   ]
  },
  {
   "cell_type": "code",
   "execution_count": 97,
   "id": "5805798d",
   "metadata": {},
   "outputs": [
    {
     "data": {
      "text/plain": [
       "'456-565-4534'"
      ]
     },
     "execution_count": 97,
     "metadata": {},
     "output_type": "execute_result"
    }
   ],
   "source": [
    "contact1.group(0)"
   ]
  },
  {
   "cell_type": "code",
   "execution_count": 98,
   "id": "d93791c1",
   "metadata": {},
   "outputs": [
    {
     "data": {
      "text/plain": [
       "'456'"
      ]
     },
     "execution_count": 98,
     "metadata": {},
     "output_type": "execute_result"
    }
   ],
   "source": [
    "contact1.group(1)"
   ]
  },
  {
   "cell_type": "code",
   "execution_count": 99,
   "id": "6d1dce86",
   "metadata": {},
   "outputs": [
    {
     "data": {
      "text/plain": [
       "'565'"
      ]
     },
     "execution_count": 99,
     "metadata": {},
     "output_type": "execute_result"
    }
   ],
   "source": [
    "contact1.group(2)"
   ]
  },
  {
   "cell_type": "code",
   "execution_count": 100,
   "id": "ae3ef0ac",
   "metadata": {},
   "outputs": [
    {
     "data": {
      "text/plain": [
       "'4534'"
      ]
     },
     "execution_count": 100,
     "metadata": {},
     "output_type": "execute_result"
    }
   ],
   "source": [
    "contact1.group(3)"
   ]
  },
  {
   "cell_type": "code",
   "execution_count": null,
   "id": "bd8838a8",
   "metadata": {},
   "outputs": [],
   "source": [
    "#groupdictionary"
   ]
  },
  {
   "cell_type": "code",
   "execution_count": null,
   "id": "fbe8dfef",
   "metadata": {},
   "outputs": [],
   "source": [
    "#data ==> 123-123-4567"
   ]
  },
  {
   "cell_type": "code",
   "execution_count": 101,
   "id": "141308ef",
   "metadata": {},
   "outputs": [],
   "source": [
    "contact2 = re.search(\"(?P<City>\\d{3})-(?P<Area>\\d{3})-(?P<Phone>\\d{4})\",\"456-565-4534\")"
   ]
  },
  {
   "cell_type": "code",
   "execution_count": 102,
   "id": "128860d6",
   "metadata": {},
   "outputs": [
    {
     "data": {
      "text/plain": [
       "{'City': '456', 'Area': '565', 'Phone': '4534'}"
      ]
     },
     "execution_count": 102,
     "metadata": {},
     "output_type": "execute_result"
    }
   ],
   "source": [
    "contact2.groupdict()"
   ]
  },
  {
   "cell_type": "code",
   "execution_count": 103,
   "id": "58734a84",
   "metadata": {},
   "outputs": [
    {
     "data": {
      "text/plain": [
       "'456'"
      ]
     },
     "execution_count": 103,
     "metadata": {},
     "output_type": "execute_result"
    }
   ],
   "source": [
    "contact2.groupdict()['City']"
   ]
  },
  {
   "cell_type": "code",
   "execution_count": 104,
   "id": "a3a827b6",
   "metadata": {},
   "outputs": [
    {
     "data": {
      "text/plain": [
       "'565'"
      ]
     },
     "execution_count": 104,
     "metadata": {},
     "output_type": "execute_result"
    }
   ],
   "source": [
    "contact2.groupdict()['Area']"
   ]
  },
  {
   "cell_type": "code",
   "execution_count": 105,
   "id": "371f0f1b",
   "metadata": {},
   "outputs": [
    {
     "data": {
      "text/plain": [
       "'4534'"
      ]
     },
     "execution_count": 105,
     "metadata": {},
     "output_type": "execute_result"
    }
   ],
   "source": [
    "contact2.groupdict()['Phone']"
   ]
  },
  {
   "cell_type": "code",
   "execution_count": 106,
   "id": "06667f06",
   "metadata": {},
   "outputs": [
    {
     "data": {
      "text/plain": [
       "('456', '565', '4534')"
      ]
     },
     "execution_count": 106,
     "metadata": {},
     "output_type": "execute_result"
    }
   ],
   "source": [
    "contact2.groups()"
   ]
  },
  {
   "cell_type": "code",
   "execution_count": 107,
   "id": "308952d6",
   "metadata": {},
   "outputs": [
    {
     "data": {
      "text/plain": [
       "'456-565-4534'"
      ]
     },
     "execution_count": 107,
     "metadata": {},
     "output_type": "execute_result"
    }
   ],
   "source": [
    "contact2.group(0)"
   ]
  },
  {
   "cell_type": "code",
   "execution_count": 108,
   "id": "5247b97f",
   "metadata": {},
   "outputs": [
    {
     "data": {
      "text/plain": [
       "'456'"
      ]
     },
     "execution_count": 108,
     "metadata": {},
     "output_type": "execute_result"
    }
   ],
   "source": [
    "contact2.group(1)"
   ]
  },
  {
   "cell_type": "code",
   "execution_count": 109,
   "id": "5a3d61f3",
   "metadata": {},
   "outputs": [
    {
     "data": {
      "text/plain": [
       "'565'"
      ]
     },
     "execution_count": 109,
     "metadata": {},
     "output_type": "execute_result"
    }
   ],
   "source": [
    "contact2.group(2)"
   ]
  },
  {
   "cell_type": "code",
   "execution_count": 110,
   "id": "eebad966",
   "metadata": {},
   "outputs": [
    {
     "data": {
      "text/plain": [
       "'4534'"
      ]
     },
     "execution_count": 110,
     "metadata": {},
     "output_type": "execute_result"
    }
   ],
   "source": [
    "contact2.group(3)"
   ]
  },
  {
   "cell_type": "code",
   "execution_count": 111,
   "id": "be66424d",
   "metadata": {},
   "outputs": [],
   "source": [
    "mobile_numbers = [\n",
    "    \"654-657-6576\",\n",
    "    \"435-654-6745\",\n",
    "    \"789-765-7356\",\n",
    "    \"654-453-4856\",\n",
    "    \"947-546-8836\",\n",
    "    \"463-768-3665\",\n",
    "    \"654-604-6045\",\n",
    "    \"204-765-7306\",\n",
    "]"
   ]
  },
  {
   "cell_type": "code",
   "execution_count": null,
   "id": "a93d5dab",
   "metadata": {},
   "outputs": [],
   "source": []
  },
  {
   "cell_type": "code",
   "execution_count": 112,
   "id": "41eeea3a",
   "metadata": {},
   "outputs": [
    {
     "name": "stdout",
     "output_type": "stream",
     "text": [
      "654-657-6576\n",
      "435-654-6745\n",
      "789-765-7356\n",
      "654-453-4856\n",
      "947-546-8836\n",
      "463-768-3665\n",
      "654-604-6045\n",
      "204-765-7306\n"
     ]
    }
   ],
   "source": [
    "for i in mobile_numbers:\n",
    "    print(i)"
   ]
  },
  {
   "cell_type": "code",
   "execution_count": 113,
   "id": "84656562",
   "metadata": {},
   "outputs": [
    {
     "data": {
      "text/plain": [
       "'654-657-6576'"
      ]
     },
     "execution_count": 113,
     "metadata": {},
     "output_type": "execute_result"
    }
   ],
   "source": [
    "mobile_numbers[0]"
   ]
  },
  {
   "cell_type": "code",
   "execution_count": 114,
   "id": "790c12c2",
   "metadata": {},
   "outputs": [],
   "source": [
    "contact3 = re.search(\"(?P<State>\\d{3})-(?P<City>\\d{3})-(?P<Phone>\\d{4})\",mobile_numbers[0])"
   ]
  },
  {
   "cell_type": "code",
   "execution_count": 115,
   "id": "bf9c1428",
   "metadata": {},
   "outputs": [
    {
     "data": {
      "text/plain": [
       "{'State': '654', 'City': '657', 'Phone': '6576'}"
      ]
     },
     "execution_count": 115,
     "metadata": {},
     "output_type": "execute_result"
    }
   ],
   "source": [
    "contact3.groupdict()"
   ]
  },
  {
   "cell_type": "code",
   "execution_count": 116,
   "id": "429e05f1",
   "metadata": {},
   "outputs": [
    {
     "name": "stdout",
     "output_type": "stream",
     "text": [
      "654\n",
      "435\n",
      "789\n",
      "654\n",
      "947\n",
      "463\n",
      "654\n",
      "204\n"
     ]
    }
   ],
   "source": [
    "for i in mobile_numbers:\n",
    "    grp = re.search(\"(?P<State>\\d{3})-(?P<City>\\d{3})-(?P<Phone>\\d{4})\",i)\n",
    "    print(grp.groupdict()['State'])"
   ]
  },
  {
   "cell_type": "code",
   "execution_count": 117,
   "id": "dd9d233d",
   "metadata": {},
   "outputs": [
    {
     "name": "stdout",
     "output_type": "stream",
     "text": [
      "6576\n",
      "6745\n",
      "7356\n",
      "4856\n",
      "8836\n",
      "3665\n",
      "6045\n",
      "7306\n"
     ]
    }
   ],
   "source": [
    "for i in mobile_numbers:\n",
    "    grp = re.search(\"(?P<State>\\d{3})-(?P<City>\\d{3})-(?P<Phone>\\d{4})\",i)\n",
    "    print(grp.groupdict()['Phone'])"
   ]
  },
  {
   "cell_type": "code",
   "execution_count": 118,
   "id": "4424baae",
   "metadata": {},
   "outputs": [
    {
     "name": "stdout",
     "output_type": "stream",
     "text": [
      "654-657-6576\n",
      "654-453-4856\n",
      "654-604-6045\n"
     ]
    }
   ],
   "source": [
    "for i in mobile_numbers:\n",
    "    grp = re.search(\"(?P<State>\\d{3})-(?P<City>\\d{3})-(?P<Phone>\\d{4})\",i)\n",
    "    if grp.groupdict()['State'] == \"654\":\n",
    "        print(grp.group(0))"
   ]
  },
  {
   "cell_type": "code",
   "execution_count": 119,
   "id": "cfc4b86b",
   "metadata": {},
   "outputs": [],
   "source": [
    "email = \"ravi123@gmail.com\""
   ]
  },
  {
   "cell_type": "code",
   "execution_count": 120,
   "id": "7ea3ad33",
   "metadata": {},
   "outputs": [],
   "source": [
    "myemail = re.search(\"([a-z][a-z0-9_.-]{2,24})@([a-z]{3,10})\\.([a-z]{2,4})\",email)"
   ]
  },
  {
   "cell_type": "code",
   "execution_count": 121,
   "id": "77a1d9bd",
   "metadata": {},
   "outputs": [
    {
     "data": {
      "text/plain": [
       "{}"
      ]
     },
     "execution_count": 121,
     "metadata": {},
     "output_type": "execute_result"
    }
   ],
   "source": [
    "myemail.groupdict()"
   ]
  },
  {
   "cell_type": "code",
   "execution_count": 122,
   "id": "a31aa716",
   "metadata": {},
   "outputs": [
    {
     "data": {
      "text/plain": [
       "('ravi123', 'gmail', 'com')"
      ]
     },
     "execution_count": 122,
     "metadata": {},
     "output_type": "execute_result"
    }
   ],
   "source": [
    "myemail.groups()"
   ]
  },
  {
   "cell_type": "code",
   "execution_count": 127,
   "id": "c50d9d45",
   "metadata": {},
   "outputs": [
    {
     "data": {
      "text/plain": [
       "'ravi123@gmail.com'"
      ]
     },
     "execution_count": 127,
     "metadata": {},
     "output_type": "execute_result"
    }
   ],
   "source": [
    "myemail.group(0)"
   ]
  },
  {
   "cell_type": "code",
   "execution_count": 128,
   "id": "0d82cb0b",
   "metadata": {},
   "outputs": [
    {
     "data": {
      "text/plain": [
       "'ravi123'"
      ]
     },
     "execution_count": 128,
     "metadata": {},
     "output_type": "execute_result"
    }
   ],
   "source": [
    "myemail.group(1)"
   ]
  },
  {
   "cell_type": "code",
   "execution_count": 129,
   "id": "8ee357c9",
   "metadata": {},
   "outputs": [
    {
     "data": {
      "text/plain": [
       "'gmail'"
      ]
     },
     "execution_count": 129,
     "metadata": {},
     "output_type": "execute_result"
    }
   ],
   "source": [
    "myemail.group(2)"
   ]
  },
  {
   "cell_type": "code",
   "execution_count": 130,
   "id": "3d996409",
   "metadata": {},
   "outputs": [
    {
     "data": {
      "text/plain": [
       "'com'"
      ]
     },
     "execution_count": 130,
     "metadata": {},
     "output_type": "execute_result"
    }
   ],
   "source": [
    "myemail.group(3)"
   ]
  },
  {
   "cell_type": "code",
   "execution_count": 131,
   "id": "66e01e87",
   "metadata": {},
   "outputs": [],
   "source": [
    "myemail = re.search(\"(?P<user>[a-z][a-z0-9_.-]{2,24})@(?P<domain>[a-z]{3,10})\\.(?P<TLD>[a-z]{2,4})\",email)"
   ]
  },
  {
   "cell_type": "code",
   "execution_count": 132,
   "id": "3da9e52e",
   "metadata": {},
   "outputs": [
    {
     "data": {
      "text/plain": [
       "{'user': 'ravi123', 'domain': 'gmail', 'TLD': 'com'}"
      ]
     },
     "execution_count": 132,
     "metadata": {},
     "output_type": "execute_result"
    }
   ],
   "source": [
    "myemail.groupdict()"
   ]
  },
  {
   "cell_type": "code",
   "execution_count": 133,
   "id": "2ad0769f",
   "metadata": {},
   "outputs": [
    {
     "data": {
      "text/plain": [
       "'ravi123'"
      ]
     },
     "execution_count": 133,
     "metadata": {},
     "output_type": "execute_result"
    }
   ],
   "source": [
    "myemail['user']"
   ]
  },
  {
   "cell_type": "code",
   "execution_count": 134,
   "id": "bc7aa117",
   "metadata": {},
   "outputs": [
    {
     "data": {
      "text/plain": [
       "'gmail'"
      ]
     },
     "execution_count": 134,
     "metadata": {},
     "output_type": "execute_result"
    }
   ],
   "source": [
    "myemail['domain']"
   ]
  },
  {
   "cell_type": "code",
   "execution_count": 135,
   "id": "9242f6b2",
   "metadata": {},
   "outputs": [],
   "source": [
    "emails = [\n",
    "    'raju@gmail.com',\n",
    "    'ravi@yahoo.com',\n",
    "    'kumar@mysite.in'\n",
    "]"
   ]
  },
  {
   "cell_type": "code",
   "execution_count": 141,
   "id": "c07cfca0",
   "metadata": {},
   "outputs": [
    {
     "name": "stdout",
     "output_type": "stream",
     "text": [
      "True\n",
      "False\n",
      "False\n"
     ]
    }
   ],
   "source": [
    "for i in emails:\n",
    "    grp = re.search(\"(?P<user>[a-z][a-z0-9_.-]{2,24})@(?P<domain>[a-z]{3,10})\\.(?P<TLD>[a-z]{2,4})\",i)\n",
    "    print(grp.groupdict()['domain']==\"gmail\")"
   ]
  },
  {
   "cell_type": "code",
   "execution_count": null,
   "id": "054a770b",
   "metadata": {},
   "outputs": [],
   "source": []
  }
 ],
 "metadata": {
  "kernelspec": {
   "display_name": "Python 3 (ipykernel)",
   "language": "python",
   "name": "python3"
  },
  "language_info": {
   "codemirror_mode": {
    "name": "ipython",
    "version": 3
   },
   "file_extension": ".py",
   "mimetype": "text/x-python",
   "name": "python",
   "nbconvert_exporter": "python",
   "pygments_lexer": "ipython3",
   "version": "3.9.18"
  }
 },
 "nbformat": 4,
 "nbformat_minor": 5
}
